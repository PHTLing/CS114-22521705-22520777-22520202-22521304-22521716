{
  "cells": [
    {
      "cell_type": "markdown",
      "metadata": {
        "id": "UuB9s9oXvqvp"
      },
      "source": [
        "# BÁO CÁO BÀI TẬP THỰC HÀNH VÀ ĐỒ ÁN CUỐI KỲ\n",
        "\n",
        "- Dành cho lớp CS114.O21 và CS114.O21.KHCL"
      ]
    },
    {
      "cell_type": "markdown",
      "metadata": {
        "id": "OsVQ7AGnwMcH"
      },
      "source": [
        "## THÔNG TIN NHÓM\n",
        "\n",
        "- Mỗi SV của nhóm điền các thông tin như bên dưới\n",
        "\n",
        "1. MSSV-1\n",
        "  - Họ và Tên:\n",
        "  - Số buổi vắng:\n",
        "  - Số bài tập quá trình:\n",
        "  - Điểm WeCode:\n",
        "\n",
        "2. MSSV-2\n",
        "  - Họ và Tên:\n",
        "  - Số buổi vắng:\n",
        "  - Số bài tập quá trình:\n",
        "  - Điểm WeCode:\n"
      ]
    },
    {
      "cell_type": "markdown",
      "metadata": {
        "id": "gCQ4UvuFwzCO"
      },
      "source": [
        "## THÔNG TIN ĐỒ ÁN - THỰC HÀNH\n",
        "\n",
        "Các SV cần mô tả đầy đủ, càng chi tiết càng tốt về các bài thực hành đã làm để có cơ sở tính điểm đồ án và thực hành.\n",
        "\n",
        "1. Trang github của nhóm (đặt tên repos là mã lớp học-MSSV, ví dụ CS114.O21-MSSV):\n",
        "\n",
        "2. Đồ án cuối kỳ: MotocycleClassification\n",
        "- Tổng số lượng ảnh đóng góp: xxx (ví dụ điền 50 - số này phải khớp với số mà hệ thống tự động tính). Nêu rõ phương pháp thu thập ảnh - và cách làm sạch dữ liệu ảnh. Post một số hình ảnh của các loại ở đây.\n",
        "- Phương pháp rút trích đặc trưng sử dụng: xxx (ví dụ điền MobileNetV2)\n",
        "- Thuật toán học được sử dụng: xxx (ví dụ điền LogisticRegression)\n",
        "- Framework, thư viện sử dụng: xxx (ví dụ điền Keras, PyTorch, Tensorflow, Scikit-learn)\n",
        "- Kết quả Accuracy: xxx (ví dụ điền 79.25%). Xếp hạng: 15 (theo danh sách file CS114.O21-O21.KHCL.ScoreBoard.csv)\n",
        "\n",
        "3. Danh sách các bài thực hành đã làm - điền thời điểm (ngày, giờ) nộp bài trên Classroom:\n",
        "- Thống kê dữ liệu (CS114.Tool.DatasetStat.ipynb): 2:40 AM, Jun 08\n",
        "- Tạo các splits (CS114.Tool.CreateSplit.ipynb): None\n",
        "- Hiển thị các ảnh (CS114.Tool.DatasetViz.ipynb):\n",
        "- Ứng dụng Clustering (CS114.Clustering.ipynb):\n",
        "- Đánh giá Model (CS114.Evaluation.ipynb):\n",
        "\n",
        "4. Bài tập - Dự đoán điểm IT001\n",
        "- Mô tả về đặc trưng, các code đã dùng để rút trích đặc trưng, kết quả rút trích lưu trữ quản lý thế nào?\n",
        "- Thuật toán học, quá trình huấn luyện và thử nghiệm?\n",
        "\n",
        "5. Bài tập - Nhận dạng chữ số viết tay\n",
        "- Mô tả về dữ liệu đóng góp\n",
        "- Mô tả về đặc trưng và thuật toán học"
      ]
    },
    {
      "cell_type": "code",
      "execution_count": 86,
      "metadata": {
        "colab": {
          "base_uri": "https://localhost:8080/"
        },
        "id": "UQaDZ7Un46qj",
        "outputId": "222cbcd7-6f87-4147-fead-462789914a83"
      },
      "outputs": [],
      "source": [
        "# from google.colab import drive\n",
        "# drive.mount('/content/drive')"
      ]
    },
    {
      "cell_type": "markdown",
      "metadata": {
        "id": "0UrBKFjx0RmS"
      },
      "source": [
        "## MÔ TẢ HỖ TRỢ CỦA CÁC CÔNG CỤ NHƯ CHATGPT, GEMINI, POE\n",
        "\n",
        "- Các SV mô tả vắn tắt việc dùng các công cụ để hỗ trợ cho việc thực hiện bài thực hành"
      ]
    },
    {
      "cell_type": "markdown",
      "metadata": {
        "id": "LNRhGijv0GkS"
      },
      "source": [
        "## CODE CỦA ĐỒ ÁN MOTOCYCLECLASSIFICATION\n",
        "\n",
        "1. Tham khảo các bước\n",
        "  - https://keras.io/examples/vision/image_classification_from_scratch/\n",
        "\n",
        "2. Các lưu ý:\n",
        "  - Cần ghi rõ thông tin ngày cập nhật\n",
        "  - Đoạn code của người khác nếu sử dụng lại, phải ghi tham chiếu để phân biệt đâu là code của mình, đâu là code của người khác\n",
        "  - Cần phải có chú thích càng chi tiết càng tốt để code dễ đọc, dễ kiểm tra\n",
        "  - Notebook nộp bài phải là notebook đã chạy và giữ lại output\n",
        "  - Các hành vi gian lận sẽ bị trừng phạt rất nghiêm khắc"
      ]
    },
    {
      "cell_type": "markdown",
      "metadata": {
        "id": "bcYKKv4Z40RL"
      },
      "source": [
        "## CHIA DỮ LIỆU"
      ]
    },
    {
      "cell_type": "markdown",
      "metadata": {},
      "source": [
        "### Tìm các ảnh lỗi và loại bỏ, sau đó lưu tập đường dẫn mới vào file csv mới"
      ]
    },
    {
      "cell_type": "code",
      "execution_count": 87,
      "metadata": {
        "execution": {
          "iopub.execute_input": "2024-06-27T03:59:37.394625Z",
          "iopub.status.busy": "2024-06-27T03:59:37.393526Z",
          "iopub.status.idle": "2024-06-27T03:59:37.403117Z",
          "shell.execute_reply": "2024-06-27T03:59:37.401507Z",
          "shell.execute_reply.started": "2024-06-27T03:59:37.394583Z"
        },
        "id": "Rejfc0MF43lL",
        "trusted": true
      },
      "outputs": [],
      "source": [
        "# def findInvalidPath(root_dir, path_list):\n",
        "#     invalid_path = []\n",
        "#     for path in path_list:\n",
        "#         image_path = os.path.join(root_dir, path)\n",
        "#         try:\n",
        "#             with Image.open(image_path) as img:\n",
        "#                 img.verify()\n",
        "#         except (IOError, SyntaxError) as e:\n",
        "#             invalid_path.append(path)\n",
        "#     return invalid_path"
      ]
    },
    {
      "cell_type": "code",
      "execution_count": 88,
      "metadata": {
        "execution": {
          "iopub.execute_input": "2024-06-27T03:59:37.407263Z",
          "iopub.status.busy": "2024-06-27T03:59:37.406214Z",
          "iopub.status.idle": "2024-06-27T03:59:37.413879Z",
          "shell.execute_reply": "2024-06-27T03:59:37.412686Z",
          "shell.execute_reply.started": "2024-06-27T03:59:37.407184Z"
        },
        "id": "WRNYEEkm43lM",
        "trusted": true
      },
      "outputs": [],
      "source": [
        "# import os\n",
        "# import pandas as pd\n",
        "# # thư mục gốc chứa thư mục dữ liệu\n",
        "# szWorkingDir = \"./Data\"\n",
        "# for i in range(1, 6):\n",
        "#     # Xác định split\n",
        "#     curSplit = i\n",
        "#     szTrainFileName = \"MotocycleDataset-Splits-{}-Train.csv\".format(curSplit)\n",
        "#     szTestFileName = \"MotocycleDataset-Splits-{}-Test.csv\".format(curSplit)\n",
        "#     train_image_dir = os.path.join(szWorkingDir, szTrainFileName)\n",
        "#     test_image_dir = os.path.join(szWorkingDir, szTestFileName)\n",
        "#     training_set = pd.read_csv(train_image_dir, header = None, names = [\"path\", \"label\"])\n",
        "#     testing_set = pd.read_csv(test_image_dir, header = None, names = [\"path\", \"label\"])\n",
        "#     invalid_path_train = findInvalidPath(szWorkingDir, training_set[\"path\"].values)\n",
        "\n",
        "#     # Loại Invalid path khỏi dataset\n",
        "#     training_set = training_set[~training_set[\"path\"].isin(invalid_path_train)]\n",
        "#     training_set.reset_index()\n",
        "\n",
        "#     # Ghi vào file csv\n",
        "#     training_set.to_csv(\"./newsplits/MotocycleDataset-Split-{}-Train-New.csv\".format(curSplit), index = False, header = None)\n",
        "\n",
        "#     invalid_path_test = findInvalidPath(szWorkingDir, testing_set[\"path\"].values)\n",
        "\n",
        "#     # Loại Invalid path khỏi dataset\n",
        "#     testing_set = testing_set[~testing_set[\"path\"].isin(invalid_path_test)]\n",
        "#     testing_set.reset_index()\n",
        "\n",
        "#     # Ghi vào file csv\n",
        "#     testing_set.to_csv(\"./newsplits/MotocycleDataset-Split-{}-Test-New.csv\".format(curSplit), index = False, header = None)"
      ]
    },
    {
      "cell_type": "markdown",
      "metadata": {
        "id": "0pHhP5x3CzBE"
      },
      "source": [
        "# CODE CHẠY CHO MỘT SPLIT\n",
        "\n",
        "- Các cells bên dưới sẽ phục vụ cho một split\n",
        "- Trước mỗi Code cell, nên có Text cell để giải thích"
      ]
    },
    {
      "cell_type": "markdown",
      "metadata": {
        "id": "2Frd1tLH3us1"
      },
      "source": [
        "## Import các thư viện & Khai báo các biến toàn cục"
      ]
    },
    {
      "cell_type": "markdown",
      "metadata": {
        "id": "CGLyeVgV_km5"
      },
      "source": [
        "### Import các thư viện"
      ]
    },
    {
      "cell_type": "code",
      "execution_count": 89,
      "metadata": {
        "execution": {
          "iopub.execute_input": "2024-06-27T03:59:37.415967Z",
          "iopub.status.busy": "2024-06-27T03:59:37.415579Z",
          "iopub.status.idle": "2024-06-27T03:59:37.430836Z",
          "shell.execute_reply": "2024-06-27T03:59:37.429794Z",
          "shell.execute_reply.started": "2024-06-27T03:59:37.415935Z"
        },
        "id": "31BW-fAiHzXm",
        "trusted": true
      },
      "outputs": [],
      "source": [
        "import os\n",
        "import numpy as np\n",
        "import cv2 as cv\n",
        "import pandas as pd\n",
        "import csv\n",
        "import matplotlib.pyplot as plt\n",
        "import random\n",
        "\n",
        "from PIL import Image, ImageFile\n",
        "\n",
        "import tensorflow as tf\n",
        "from tensorflow import keras\n",
        "from tensorflow import data as tf_data\n",
        "from tensorflow.keras.models import Model\n",
        "from tensorflow.keras.layers import GlobalAveragePooling2D\n",
        "from tensorflow.keras.preprocessing.image import ImageDataGenerator, img_to_array, array_to_img, load_img\n",
        "from tensorflow.keras.applications import MobileNetV2\n",
        "from tensorflow.keras.applications.mobilenet_v2 import preprocess_input\n",
        "from tensorflow.keras.models import Sequential, load_model\n",
        "from tensorflow.keras.layers import Conv2D, MaxPooling2D, Dense, Flatten, Dropout\n",
        "from tensorflow.keras.optimizers import Adam\n",
        "from sklearn.linear_model import LogisticRegression\n",
        "from sklearn.preprocessing import LabelEncoder\n",
        "from sklearn.metrics import classification_report\n",
        "from sklearn.model_selection import train_test_split"
      ]
    },
    {
      "cell_type": "markdown",
      "metadata": {
        "id": "yIJEddCe_e4S"
      },
      "source": [
        "### Khai báo các biến toàn cục"
      ]
    },
    {
      "cell_type": "code",
      "execution_count": 90,
      "metadata": {
        "execution": {
          "iopub.execute_input": "2024-06-27T03:59:37.433384Z",
          "iopub.status.busy": "2024-06-27T03:59:37.432606Z",
          "iopub.status.idle": "2024-06-27T03:59:37.444832Z",
          "shell.execute_reply": "2024-06-27T03:59:37.443661Z",
          "shell.execute_reply.started": "2024-06-27T03:59:37.433343Z"
        },
        "id": "N0Qn9NXGHv-8",
        "trusted": true
      },
      "outputs": [],
      "source": [
        "# dùng để hiển thị\n",
        "nNumImgsPerRow = 10\n",
        "nImgHeight = nImgWidth = 150\n",
        "\n",
        "# Xác định split\n",
        "curSplit = 1\n",
        "szTrainFileName = \"MotocycleDataset-Splits-{}-Train.csv\".format(curSplit)\n",
        "szTestFileName = \"MotocycleDataset-Splits-{}-Test.csv\".format(curSplit)"
      ]
    },
    {
      "cell_type": "markdown",
      "metadata": {
        "id": "7dSRa24L_nMi"
      },
      "source": [
        "### Khai báo các đường dẫn"
      ]
    },
    {
      "cell_type": "code",
      "execution_count": 91,
      "metadata": {
        "execution": {
          "iopub.execute_input": "2024-06-27T03:59:37.447987Z",
          "iopub.status.busy": "2024-06-27T03:59:37.447611Z",
          "iopub.status.idle": "2024-06-27T03:59:37.457100Z",
          "shell.execute_reply": "2024-06-27T03:59:37.455808Z",
          "shell.execute_reply.started": "2024-06-27T03:59:37.447955Z"
        },
        "id": "Qv9jya1E_pY_",
        "trusted": true
      },
      "outputs": [],
      "source": [
        "# thư mục gốc chứa thư mục dữ liệu\n",
        "# szWorkingDir = \"/content/drive/MyDrive/Public\"\n",
        "# szFileNameDir = \"/content/drive/MyDrive/MotorData\"\n",
        "szWorkingDir = \"./Data\"\n",
        "szFileNameDir = \"./newsplits\""
      ]
    },
    {
      "cell_type": "code",
      "execution_count": 92,
      "metadata": {
        "execution": {
          "iopub.execute_input": "2024-06-27T03:59:37.459500Z",
          "iopub.status.busy": "2024-06-27T03:59:37.459101Z",
          "iopub.status.idle": "2024-06-27T03:59:37.469425Z",
          "shell.execute_reply": "2024-06-27T03:59:37.468260Z",
          "shell.execute_reply.started": "2024-06-27T03:59:37.459461Z"
        },
        "id": "SJKNK9onvgQC",
        "trusted": true
      },
      "outputs": [],
      "source": [
        "# Đường dẫn tới file csv chưa path và label\n",
        "train_image_path_csv = os.path.join(szWorkingDir, szTrainFileName)\n",
        "test_image_path_csv = os.path.join(szWorkingDir, szTestFileName)"
      ]
    },
    {
      "cell_type": "markdown",
      "metadata": {
        "id": "PwB1P6Q-43lO"
      },
      "source": [
        "## Các hàm xử lý ảnh đầu vào"
      ]
    },
    {
      "cell_type": "markdown",
      "metadata": {},
      "source": [
        "### Hàm kiểm tra ảnh"
      ]
    },
    {
      "cell_type": "code",
      "execution_count": 93,
      "metadata": {},
      "outputs": [],
      "source": [
        "def findInvalidPath(root_dir, path_list):\n",
        "    invalid_path = []\n",
        "    for path in path_list:\n",
        "        image_path = os.path.join(root_dir, path)\n",
        "        try:\n",
        "            with Image.open(image_path) as img:\n",
        "                img.verify()\n",
        "        except (IOError, SyntaxError, Exception) as e:\n",
        "            print(f\"Error loading image {image_path}: {e}\")\n",
        "            invalid_path.append(path)\n",
        "    return invalid_path"
      ]
    },
    {
      "cell_type": "markdown",
      "metadata": {
        "id": "wQqtwqw0Ew1n"
      },
      "source": [
        "## Bước 1 - Dataset Visualization\n",
        "\n",
        "- Mục đích để kiểm tra xem dữ liệu có sạch, chuẩn hoá chưa\n",
        "\n",
        "- Kết quả dự kiến <IMG SRC = 'https://editor.analyticsvidhya.com/uploads/762161_OSvbuPLy0PSM2nZ62SbtlQ.png'>"
      ]
    },
    {
      "cell_type": "markdown",
      "metadata": {
        "id": "7LrdfvWTeg4G"
      },
      "source": [
        "Chia dữ liệu theo lớp"
      ]
    },
    {
      "cell_type": "code",
      "execution_count": 94,
      "metadata": {
        "execution": {
          "iopub.execute_input": "2024-06-27T03:59:37.580731Z",
          "iopub.status.busy": "2024-06-27T03:59:37.580144Z",
          "iopub.status.idle": "2024-06-27T03:59:37.586906Z",
          "shell.execute_reply": "2024-06-27T03:59:37.585672Z",
          "shell.execute_reply.started": "2024-06-27T03:59:37.580681Z"
        },
        "id": "uRlECMpFhjI3",
        "trusted": true
      },
      "outputs": [],
      "source": [
        "# train_list = pd.read_csv(train_image_dir)\n",
        "# train_list = np.array(train_list)\n",
        "# Data = {0: [], 1: [], 2: [], 3: [], 4:[]}\n",
        "# for train in train_list:\n",
        "#   if train[1] == 0 and train[0] not in Data[0]:\n",
        "#     Data[0].append(train[0])\n",
        "#   elif train[1] == 1 and train[0] not in Data[1]:\n",
        "#     Data[1].append(train[0])\n",
        "#   elif train[1] == 2 and train[0] not in Data[2]:\n",
        "#     Data[2].append(train[0])\n",
        "#   elif train[1] == 3 and train[0] not in Data[3]:\n",
        "#     Data[3].append(train[0])\n",
        "#   else: Data[4].append(train[0])\n"
      ]
    },
    {
      "cell_type": "code",
      "execution_count": 95,
      "metadata": {
        "execution": {
          "iopub.execute_input": "2024-06-27T03:59:37.590133Z",
          "iopub.status.busy": "2024-06-27T03:59:37.589193Z",
          "iopub.status.idle": "2024-06-27T03:59:37.599657Z",
          "shell.execute_reply": "2024-06-27T03:59:37.598165Z",
          "shell.execute_reply.started": "2024-06-27T03:59:37.590096Z"
        },
        "id": "27FpKIm525Xg",
        "trusted": true
      },
      "outputs": [],
      "source": [
        "# print(len(Data[0]), len(Data[1]), len(Data[2]), len(Data[3]), len(Data[4]))"
      ]
    },
    {
      "cell_type": "markdown",
      "metadata": {
        "id": "W51b3z-YjwZt"
      },
      "source": [
        "Visualize"
      ]
    },
    {
      "cell_type": "code",
      "execution_count": 96,
      "metadata": {
        "execution": {
          "iopub.execute_input": "2024-06-27T03:59:37.601696Z",
          "iopub.status.busy": "2024-06-27T03:59:37.601262Z",
          "iopub.status.idle": "2024-06-27T03:59:37.610503Z",
          "shell.execute_reply": "2024-06-27T03:59:37.609309Z",
          "shell.execute_reply.started": "2024-06-27T03:59:37.601657Z"
        },
        "id": "ktY5OMzUjElO",
        "trusted": true
      },
      "outputs": [],
      "source": [
        "# fig, axes = plt.subplots(nrows = 5, ncols = 11, figsize = (20, 10))\n",
        "# fig.suptitle('Dataset Visualization')\n",
        "# for i in range(5):\n",
        "#   image_paths = random.sample(Data[i], 10)\n",
        "#   axes[i, 0].set_title (image_paths[0].split('.')[1])\n",
        "#   axes[i, 0].axis(\"off\")\n",
        "#   for j, path in enumerate(image_paths):\n",
        "#     img = cv.imread(os.path.join(szWorkingDir, path))\n",
        "#     while img is None:\n",
        "#       while path in image_paths:\n",
        "#         path = random.sample(Data[i], 1)\n",
        "#       img = cv.imread(os.path.join(szWorkingDir, path))\n",
        "#     img = cv.cvtColor(img, cv.COLOR_BGR2RGB)\n",
        "#     axes[i, j+1].imshow(img)\n",
        "#     axes[i, j+1].axis(\"off\")\n",
        "\n",
        "# plt.tight_layout()\n",
        "# plt.show()\n"
      ]
    },
    {
      "cell_type": "markdown",
      "metadata": {
        "id": "RW53ZCwtKO3O"
      },
      "source": [
        "## Bước 2 - Data Augmentation\n",
        "\n",
        "- Làm giàu dữ liệu bằng các công cụ có sẵn từ các framework như Keras\n",
        "- Sử dụng `ImageDataGenerator`\n",
        "- Có sự hỗ trợ của ChatGPT\n",
        "\n"
      ]
    },
    {
      "cell_type": "code",
      "execution_count": 97,
      "metadata": {
        "execution": {
          "iopub.execute_input": "2024-06-27T03:59:37.617168Z",
          "iopub.status.busy": "2024-06-27T03:59:37.616652Z",
          "iopub.status.idle": "2024-06-27T03:59:37.624094Z",
          "shell.execute_reply": "2024-06-27T03:59:37.622623Z",
          "shell.execute_reply.started": "2024-06-27T03:59:37.617124Z"
        },
        "id": "AhKhyueB91xs",
        "trusted": true
      },
      "outputs": [],
      "source": [
        "batch_size = 64\n",
        "seed = 42\n",
        "width = 224\n",
        "height = 224"
      ]
    },
    {
      "cell_type": "code",
      "execution_count": 98,
      "metadata": {
        "colab": {
          "base_uri": "https://localhost:8080/",
          "height": 424
        },
        "execution": {
          "iopub.execute_input": "2024-06-27T03:59:37.626548Z",
          "iopub.status.busy": "2024-06-27T03:59:37.626101Z",
          "iopub.status.idle": "2024-06-27T03:59:37.687867Z",
          "shell.execute_reply": "2024-06-27T03:59:37.686467Z",
          "shell.execute_reply.started": "2024-06-27T03:59:37.626512Z"
        },
        "id": "R90JuPXw43lP",
        "outputId": "272c2ca9-0ace-4cc7-f1ba-41d12362cc51",
        "trusted": true
      },
      "outputs": [
        {
          "name": "stdout",
          "output_type": "stream",
          "text": [
            "Error loading image ./Data\\Honda/22520968-22520996-22520999-22520929-22521373.Honda.1022.jpg: [Errno 2] No such file or directory: 'E:\\\\UIT\\\\HK4\\\\CS114_MachineLearning\\\\Code\\\\Motor\\\\Data\\\\Honda\\\\22520968-22520996-22520999-22520929-22521373.Honda.1022.jpg'\n",
            "Error loading image ./Data\\Honda/22520968-22520996-22520999-22520929-22521373.Honda.1023.jpg: [Errno 2] No such file or directory: 'E:\\\\UIT\\\\HK4\\\\CS114_MachineLearning\\\\Code\\\\Motor\\\\Data\\\\Honda\\\\22520968-22520996-22520999-22520929-22521373.Honda.1023.jpg'\n",
            "Error loading image ./Data\\Honda/22520968-22520996-22520999-22520929-22521373.Honda.1024.jpg: [Errno 2] No such file or directory: 'E:\\\\UIT\\\\HK4\\\\CS114_MachineLearning\\\\Code\\\\Motor\\\\Data\\\\Honda\\\\22520968-22520996-22520999-22520929-22521373.Honda.1024.jpg'\n",
            "Error loading image ./Data\\Honda/22520968-22520996-22520999-22520929-22521373.Honda.1030.jpg: [Errno 2] No such file or directory: 'E:\\\\UIT\\\\HK4\\\\CS114_MachineLearning\\\\Code\\\\Motor\\\\Data\\\\Honda\\\\22520968-22520996-22520999-22520929-22521373.Honda.1030.jpg'\n",
            "Error loading image ./Data\\Honda/22520968-22520996-22520999-22520929-22521373.Honda.1045.jpg: [Errno 2] No such file or directory: 'E:\\\\UIT\\\\HK4\\\\CS114_MachineLearning\\\\Code\\\\Motor\\\\Data\\\\Honda\\\\22520968-22520996-22520999-22520929-22521373.Honda.1045.jpg'\n",
            "Error loading image ./Data\\Honda/22520968-22520996-22520999-22520929-22521373.Honda.1046.jpg: [Errno 2] No such file or directory: 'E:\\\\UIT\\\\HK4\\\\CS114_MachineLearning\\\\Code\\\\Motor\\\\Data\\\\Honda\\\\22520968-22520996-22520999-22520929-22521373.Honda.1046.jpg'\n",
            "Error loading image ./Data\\Honda/22520968-22520996-22520999-22520929-22521373.Honda.1085.jpg: [Errno 2] No such file or directory: 'E:\\\\UIT\\\\HK4\\\\CS114_MachineLearning\\\\Code\\\\Motor\\\\Data\\\\Honda\\\\22520968-22520996-22520999-22520929-22521373.Honda.1085.jpg'\n",
            "Error loading image ./Data\\Honda/22520968-22520996-22520999-22520929-22521373.Honda.1092.jpg: [Errno 2] No such file or directory: 'E:\\\\UIT\\\\HK4\\\\CS114_MachineLearning\\\\Code\\\\Motor\\\\Data\\\\Honda\\\\22520968-22520996-22520999-22520929-22521373.Honda.1092.jpg'\n",
            "Error loading image ./Data\\Honda/22520968-22520996-22520999-22520929-22521373.Honda.1093.jpg: [Errno 2] No such file or directory: 'E:\\\\UIT\\\\HK4\\\\CS114_MachineLearning\\\\Code\\\\Motor\\\\Data\\\\Honda\\\\22520968-22520996-22520999-22520929-22521373.Honda.1093.jpg'\n",
            "Error loading image ./Data\\Honda/22520968-22520996-22520999-22520929-22521373.Honda.1094.jpg: [Errno 2] No such file or directory: 'E:\\\\UIT\\\\HK4\\\\CS114_MachineLearning\\\\Code\\\\Motor\\\\Data\\\\Honda\\\\22520968-22520996-22520999-22520929-22521373.Honda.1094.jpg'\n",
            "Error loading image ./Data\\Honda/22520968-22520996-22520999-22520929-22521373.Honda.1095.jpg: [Errno 2] No such file or directory: 'E:\\\\UIT\\\\HK4\\\\CS114_MachineLearning\\\\Code\\\\Motor\\\\Data\\\\Honda\\\\22520968-22520996-22520999-22520929-22521373.Honda.1095.jpg'\n",
            "Error loading image ./Data\\Honda/22520968-22520996-22520999-22520929-22521373.Honda.1096.jpg: [Errno 2] No such file or directory: 'E:\\\\UIT\\\\HK4\\\\CS114_MachineLearning\\\\Code\\\\Motor\\\\Data\\\\Honda\\\\22520968-22520996-22520999-22520929-22521373.Honda.1096.jpg'\n",
            "Error loading image ./Data\\Honda/22520968-22520996-22520999-22520929-22521373.Honda.1097.jpg: [Errno 2] No such file or directory: 'E:\\\\UIT\\\\HK4\\\\CS114_MachineLearning\\\\Code\\\\Motor\\\\Data\\\\Honda\\\\22520968-22520996-22520999-22520929-22521373.Honda.1097.jpg'\n",
            "Error loading image ./Data\\Honda/22520968-22520996-22520999-22520929-22521373.Honda.1153.jpg: [Errno 2] No such file or directory: 'E:\\\\UIT\\\\HK4\\\\CS114_MachineLearning\\\\Code\\\\Motor\\\\Data\\\\Honda\\\\22520968-22520996-22520999-22520929-22521373.Honda.1153.jpg'\n",
            "Error loading image ./Data\\Honda/22520968-22520996-22520999-22520929-22521373.Honda.1157.jpg: [Errno 2] No such file or directory: 'E:\\\\UIT\\\\HK4\\\\CS114_MachineLearning\\\\Code\\\\Motor\\\\Data\\\\Honda\\\\22520968-22520996-22520999-22520929-22521373.Honda.1157.jpg'\n",
            "Error loading image ./Data\\Honda/22520968-22520996-22520999-22520929-22521373.Honda.1168.jpg: [Errno 2] No such file or directory: 'E:\\\\UIT\\\\HK4\\\\CS114_MachineLearning\\\\Code\\\\Motor\\\\Data\\\\Honda\\\\22520968-22520996-22520999-22520929-22521373.Honda.1168.jpg'\n",
            "Error loading image ./Data\\Honda/22520968-22520996-22520999-22520929-22521373.Honda.1176.jpg: [Errno 2] No such file or directory: 'E:\\\\UIT\\\\HK4\\\\CS114_MachineLearning\\\\Code\\\\Motor\\\\Data\\\\Honda\\\\22520968-22520996-22520999-22520929-22521373.Honda.1176.jpg'\n",
            "Error loading image ./Data\\Honda/22520968-22520996-22520999-22520929-22521373.Honda.1179.jpg: [Errno 2] No such file or directory: 'E:\\\\UIT\\\\HK4\\\\CS114_MachineLearning\\\\Code\\\\Motor\\\\Data\\\\Honda\\\\22520968-22520996-22520999-22520929-22521373.Honda.1179.jpg'\n",
            "Error loading image ./Data\\Honda/22520968-22520996-22520999-22520929-22521373.Honda.1213.jpg: [Errno 2] No such file or directory: 'E:\\\\UIT\\\\HK4\\\\CS114_MachineLearning\\\\Code\\\\Motor\\\\Data\\\\Honda\\\\22520968-22520996-22520999-22520929-22521373.Honda.1213.jpg'\n",
            "Error loading image ./Data\\Honda/22520968-22520996-22520999-22520929-22521373.Honda.1226.jpg: [Errno 2] No such file or directory: 'E:\\\\UIT\\\\HK4\\\\CS114_MachineLearning\\\\Code\\\\Motor\\\\Data\\\\Honda\\\\22520968-22520996-22520999-22520929-22521373.Honda.1226.jpg'\n",
            "Error loading image ./Data\\Honda/22520968-22520996-22520999-22520929-22521373.Honda.1230.jpg: [Errno 2] No such file or directory: 'E:\\\\UIT\\\\HK4\\\\CS114_MachineLearning\\\\Code\\\\Motor\\\\Data\\\\Honda\\\\22520968-22520996-22520999-22520929-22521373.Honda.1230.jpg'\n",
            "Error loading image ./Data\\Honda/22520968-22520996-22520999-22520929-22521373.Honda.1231.jpg: [Errno 2] No such file or directory: 'E:\\\\UIT\\\\HK4\\\\CS114_MachineLearning\\\\Code\\\\Motor\\\\Data\\\\Honda\\\\22520968-22520996-22520999-22520929-22521373.Honda.1231.jpg'\n",
            "Error loading image ./Data\\Honda/22520968-22520996-22520999-22520929-22521373.Honda.1235.jpg: [Errno 2] No such file or directory: 'E:\\\\UIT\\\\HK4\\\\CS114_MachineLearning\\\\Code\\\\Motor\\\\Data\\\\Honda\\\\22520968-22520996-22520999-22520929-22521373.Honda.1235.jpg'\n",
            "Error loading image ./Data\\Honda/22520968-22520996-22520999-22520929-22521373.Honda.1236.jpg: [Errno 2] No such file or directory: 'E:\\\\UIT\\\\HK4\\\\CS114_MachineLearning\\\\Code\\\\Motor\\\\Data\\\\Honda\\\\22520968-22520996-22520999-22520929-22521373.Honda.1236.jpg'\n",
            "Error loading image ./Data\\Honda/22520968-22520996-22520999-22520929-22521373.Honda.1238.jpg: [Errno 2] No such file or directory: 'E:\\\\UIT\\\\HK4\\\\CS114_MachineLearning\\\\Code\\\\Motor\\\\Data\\\\Honda\\\\22520968-22520996-22520999-22520929-22521373.Honda.1238.jpg'\n",
            "Error loading image ./Data\\Honda/22520968-22520996-22520999-22520929-22521373.Honda.1239.jpg: [Errno 2] No such file or directory: 'E:\\\\UIT\\\\HK4\\\\CS114_MachineLearning\\\\Code\\\\Motor\\\\Data\\\\Honda\\\\22520968-22520996-22520999-22520929-22521373.Honda.1239.jpg'\n",
            "Error loading image ./Data\\Honda/22520968-22520996-22520999-22520929-22521373.Honda.1240.jpg: [Errno 2] No such file or directory: 'E:\\\\UIT\\\\HK4\\\\CS114_MachineLearning\\\\Code\\\\Motor\\\\Data\\\\Honda\\\\22520968-22520996-22520999-22520929-22521373.Honda.1240.jpg'\n",
            "Error loading image ./Data\\Honda/22520968-22520996-22520999-22520929-22521373.Honda.1241.jpg: [Errno 2] No such file or directory: 'E:\\\\UIT\\\\HK4\\\\CS114_MachineLearning\\\\Code\\\\Motor\\\\Data\\\\Honda\\\\22520968-22520996-22520999-22520929-22521373.Honda.1241.jpg'\n",
            "Error loading image ./Data\\Honda/22520968-22520996-22520999-22520929-22521373.Honda.1242.jpg: [Errno 2] No such file or directory: 'E:\\\\UIT\\\\HK4\\\\CS114_MachineLearning\\\\Code\\\\Motor\\\\Data\\\\Honda\\\\22520968-22520996-22520999-22520929-22521373.Honda.1242.jpg'\n",
            "Error loading image ./Data\\Honda/22520968-22520996-22520999-22520929-22521373.Honda.1246.jpg: [Errno 2] No such file or directory: 'E:\\\\UIT\\\\HK4\\\\CS114_MachineLearning\\\\Code\\\\Motor\\\\Data\\\\Honda\\\\22520968-22520996-22520999-22520929-22521373.Honda.1246.jpg'\n",
            "Error loading image ./Data\\Honda/22520968-22520996-22520999-22520929-22521373.Honda.1247.jpg: [Errno 2] No such file or directory: 'E:\\\\UIT\\\\HK4\\\\CS114_MachineLearning\\\\Code\\\\Motor\\\\Data\\\\Honda\\\\22520968-22520996-22520999-22520929-22521373.Honda.1247.jpg'\n",
            "Error loading image ./Data\\Honda/22520968-22520996-22520999-22520929-22521373.Honda.1315.jpg: [Errno 2] No such file or directory: 'E:\\\\UIT\\\\HK4\\\\CS114_MachineLearning\\\\Code\\\\Motor\\\\Data\\\\Honda\\\\22520968-22520996-22520999-22520929-22521373.Honda.1315.jpg'\n",
            "Error loading image ./Data\\Honda/22520968-22520996-22520999-22520929-22521373.Honda.1345.jpg: [Errno 2] No such file or directory: 'E:\\\\UIT\\\\HK4\\\\CS114_MachineLearning\\\\Code\\\\Motor\\\\Data\\\\Honda\\\\22520968-22520996-22520999-22520929-22521373.Honda.1345.jpg'\n",
            "Error loading image ./Data\\Honda/22520968-22520996-22520999-22520929-22521373.Honda.1380.jpg: [Errno 2] No such file or directory: 'E:\\\\UIT\\\\HK4\\\\CS114_MachineLearning\\\\Code\\\\Motor\\\\Data\\\\Honda\\\\22520968-22520996-22520999-22520929-22521373.Honda.1380.jpg'\n",
            "Error loading image ./Data\\Honda/22520968-22520996-22520999-22520929-22521373.Honda.1386.jpg: [Errno 2] No such file or directory: 'E:\\\\UIT\\\\HK4\\\\CS114_MachineLearning\\\\Code\\\\Motor\\\\Data\\\\Honda\\\\22520968-22520996-22520999-22520929-22521373.Honda.1386.jpg'\n",
            "Error loading image ./Data\\Honda/22520968-22520996-22520999-22520929-22521373.Honda.1398.jpg: [Errno 2] No such file or directory: 'E:\\\\UIT\\\\HK4\\\\CS114_MachineLearning\\\\Code\\\\Motor\\\\Data\\\\Honda\\\\22520968-22520996-22520999-22520929-22521373.Honda.1398.jpg'\n",
            "Error loading image ./Data\\Honda/22520968-22520996-22520999-22520929-22521373.Honda.1399.jpg: [Errno 2] No such file or directory: 'E:\\\\UIT\\\\HK4\\\\CS114_MachineLearning\\\\Code\\\\Motor\\\\Data\\\\Honda\\\\22520968-22520996-22520999-22520929-22521373.Honda.1399.jpg'\n",
            "Error loading image ./Data\\Honda/22520968-22520996-22520999-22520929-22521373.Honda.1418.jpg: [Errno 2] No such file or directory: 'E:\\\\UIT\\\\HK4\\\\CS114_MachineLearning\\\\Code\\\\Motor\\\\Data\\\\Honda\\\\22520968-22520996-22520999-22520929-22521373.Honda.1418.jpg'\n",
            "Error loading image ./Data\\Honda/22520968-22520996-22520999-22520929-22521373.Honda.1423.jpg: [Errno 2] No such file or directory: 'E:\\\\UIT\\\\HK4\\\\CS114_MachineLearning\\\\Code\\\\Motor\\\\Data\\\\Honda\\\\22520968-22520996-22520999-22520929-22521373.Honda.1423.jpg'\n",
            "Error loading image ./Data\\Honda/22520968-22520996-22520999-22520929-22521373.Honda.1439.jpg: [Errno 2] No such file or directory: 'E:\\\\UIT\\\\HK4\\\\CS114_MachineLearning\\\\Code\\\\Motor\\\\Data\\\\Honda\\\\22520968-22520996-22520999-22520929-22521373.Honda.1439.jpg'\n",
            "Error loading image ./Data\\Honda/22520968-22520996-22520999-22520929-22521373.Honda.1444.jpg: [Errno 2] No such file or directory: 'E:\\\\UIT\\\\HK4\\\\CS114_MachineLearning\\\\Code\\\\Motor\\\\Data\\\\Honda\\\\22520968-22520996-22520999-22520929-22521373.Honda.1444.jpg'\n",
            "Error loading image ./Data\\Honda/22520968-22520996-22520999-22520929-22521373.Honda.1446.jpg: [Errno 2] No such file or directory: 'E:\\\\UIT\\\\HK4\\\\CS114_MachineLearning\\\\Code\\\\Motor\\\\Data\\\\Honda\\\\22520968-22520996-22520999-22520929-22521373.Honda.1446.jpg'\n",
            "Error loading image ./Data\\Honda/22520968-22520996-22520999-22520929-22521373.Honda.2.jpg: [Errno 2] No such file or directory: 'E:\\\\UIT\\\\HK4\\\\CS114_MachineLearning\\\\Code\\\\Motor\\\\Data\\\\Honda\\\\22520968-22520996-22520999-22520929-22521373.Honda.2.jpg'\n",
            "Error loading image ./Data\\Honda/22520968-22520996-22520999-22520929-22521373.Honda.212.jpg: [Errno 2] No such file or directory: 'E:\\\\UIT\\\\HK4\\\\CS114_MachineLearning\\\\Code\\\\Motor\\\\Data\\\\Honda\\\\22520968-22520996-22520999-22520929-22521373.Honda.212.jpg'\n",
            "Error loading image ./Data\\Honda/22520968-22520996-22520999-22520929-22521373.Honda.251.jpg: [Errno 2] No such file or directory: 'E:\\\\UIT\\\\HK4\\\\CS114_MachineLearning\\\\Code\\\\Motor\\\\Data\\\\Honda\\\\22520968-22520996-22520999-22520929-22521373.Honda.251.jpg'\n",
            "Error loading image ./Data\\Honda/22520968-22520996-22520999-22520929-22521373.Honda.253.jpg: [Errno 2] No such file or directory: 'E:\\\\UIT\\\\HK4\\\\CS114_MachineLearning\\\\Code\\\\Motor\\\\Data\\\\Honda\\\\22520968-22520996-22520999-22520929-22521373.Honda.253.jpg'\n",
            "Error loading image ./Data\\Honda/22520968-22520996-22520999-22520929-22521373.Honda.268.jpg: [Errno 2] No such file or directory: 'E:\\\\UIT\\\\HK4\\\\CS114_MachineLearning\\\\Code\\\\Motor\\\\Data\\\\Honda\\\\22520968-22520996-22520999-22520929-22521373.Honda.268.jpg'\n",
            "Error loading image ./Data\\Honda/22520968-22520996-22520999-22520929-22521373.Honda.271.jpg: [Errno 2] No such file or directory: 'E:\\\\UIT\\\\HK4\\\\CS114_MachineLearning\\\\Code\\\\Motor\\\\Data\\\\Honda\\\\22520968-22520996-22520999-22520929-22521373.Honda.271.jpg'\n",
            "Error loading image ./Data\\Honda/22520968-22520996-22520999-22520929-22521373.Honda.277.jpg: [Errno 2] No such file or directory: 'E:\\\\UIT\\\\HK4\\\\CS114_MachineLearning\\\\Code\\\\Motor\\\\Data\\\\Honda\\\\22520968-22520996-22520999-22520929-22521373.Honda.277.jpg'\n",
            "Error loading image ./Data\\Honda/22520968-22520996-22520999-22520929-22521373.Honda.278.jpg: [Errno 2] No such file or directory: 'E:\\\\UIT\\\\HK4\\\\CS114_MachineLearning\\\\Code\\\\Motor\\\\Data\\\\Honda\\\\22520968-22520996-22520999-22520929-22521373.Honda.278.jpg'\n",
            "Error loading image ./Data\\Honda/22520968-22520996-22520999-22520929-22521373.Honda.286.jpg: [Errno 2] No such file or directory: 'E:\\\\UIT\\\\HK4\\\\CS114_MachineLearning\\\\Code\\\\Motor\\\\Data\\\\Honda\\\\22520968-22520996-22520999-22520929-22521373.Honda.286.jpg'\n",
            "Error loading image ./Data\\Honda/22520968-22520996-22520999-22520929-22521373.Honda.549.jpg: [Errno 2] No such file or directory: 'E:\\\\UIT\\\\HK4\\\\CS114_MachineLearning\\\\Code\\\\Motor\\\\Data\\\\Honda\\\\22520968-22520996-22520999-22520929-22521373.Honda.549.jpg'\n",
            "Error loading image ./Data\\Honda/22520968-22520996-22520999-22520929-22521373.Honda.643.jpg: [Errno 2] No such file or directory: 'E:\\\\UIT\\\\HK4\\\\CS114_MachineLearning\\\\Code\\\\Motor\\\\Data\\\\Honda\\\\22520968-22520996-22520999-22520929-22521373.Honda.643.jpg'\n",
            "Error loading image ./Data\\Honda/22520968-22520996-22520999-22520929-22521373.Honda.732.jpg: [Errno 2] No such file or directory: 'E:\\\\UIT\\\\HK4\\\\CS114_MachineLearning\\\\Code\\\\Motor\\\\Data\\\\Honda\\\\22520968-22520996-22520999-22520929-22521373.Honda.732.jpg'\n",
            "Error loading image ./Data\\Honda/22520968-22520996-22520999-22520929-22521373.Honda.3 (1).jpg: [Errno 2] No such file or directory: 'E:\\\\UIT\\\\HK4\\\\CS114_MachineLearning\\\\Code\\\\Motor\\\\Data\\\\Honda\\\\22520968-22520996-22520999-22520929-22521373.Honda.3 (1).jpg'\n",
            "Error loading image ./Data\\Honda/22520968-22520996-22520999-22520929-22521373.Honda.4.jpeg: [Errno 2] No such file or directory: 'E:\\\\UIT\\\\HK4\\\\CS114_MachineLearning\\\\Code\\\\Motor\\\\Data\\\\Honda\\\\22520968-22520996-22520999-22520929-22521373.Honda.4.jpeg'\n",
            "Error loading image ./Data\\Honda/22520968-22520996-22520999-22520929-22521373.Honda.5 (1).jpg: [Errno 2] No such file or directory: 'E:\\\\UIT\\\\HK4\\\\CS114_MachineLearning\\\\Code\\\\Motor\\\\Data\\\\Honda\\\\22520968-22520996-22520999-22520929-22521373.Honda.5 (1).jpg'\n",
            "Error loading image ./Data\\Honda/22520968-22520996-22520999-22520929-22521373.Honda.6 (1).jpg: [Errno 2] No such file or directory: 'E:\\\\UIT\\\\HK4\\\\CS114_MachineLearning\\\\Code\\\\Motor\\\\Data\\\\Honda\\\\22520968-22520996-22520999-22520929-22521373.Honda.6 (1).jpg'\n",
            "Error loading image ./Data\\Honda/22520968-22520996-22520999-22520929-22521373.Honda.7.jpeg: [Errno 2] No such file or directory: 'E:\\\\UIT\\\\HK4\\\\CS114_MachineLearning\\\\Code\\\\Motor\\\\Data\\\\Honda\\\\22520968-22520996-22520999-22520929-22521373.Honda.7.jpeg'\n",
            "Error loading image ./Data\\Honda/22520968-22520996-22520999-22520929-22521373.Honda.8 (1).jpg: [Errno 2] No such file or directory: 'E:\\\\UIT\\\\HK4\\\\CS114_MachineLearning\\\\Code\\\\Motor\\\\Data\\\\Honda\\\\22520968-22520996-22520999-22520929-22521373.Honda.8 (1).jpg'\n",
            "Error loading image ./Data\\Honda/22520968-22520996-22520999-22520929-22521373.Honda.9 (1).jpg: [Errno 2] No such file or directory: 'E:\\\\UIT\\\\HK4\\\\CS114_MachineLearning\\\\Code\\\\Motor\\\\Data\\\\Honda\\\\22520968-22520996-22520999-22520929-22521373.Honda.9 (1).jpg'\n",
            "Error loading image ./Data\\Honda/22520968-22520996-22520999-22520929-22521373.Honda.10.jpeg: [Errno 2] No such file or directory: 'E:\\\\UIT\\\\HK4\\\\CS114_MachineLearning\\\\Code\\\\Motor\\\\Data\\\\Honda\\\\22520968-22520996-22520999-22520929-22521373.Honda.10.jpeg'\n",
            "Error loading image ./Data\\Honda/22520968-22520996-22520999-22520929-22521373.Honda.11.jpeg: [Errno 2] No such file or directory: 'E:\\\\UIT\\\\HK4\\\\CS114_MachineLearning\\\\Code\\\\Motor\\\\Data\\\\Honda\\\\22520968-22520996-22520999-22520929-22521373.Honda.11.jpeg'\n",
            "Error loading image ./Data\\Honda/22520968-22520996-22520999-22520929-22521373.Honda.12.jpeg: [Errno 2] No such file or directory: 'E:\\\\UIT\\\\HK4\\\\CS114_MachineLearning\\\\Code\\\\Motor\\\\Data\\\\Honda\\\\22520968-22520996-22520999-22520929-22521373.Honda.12.jpeg'\n",
            "Error loading image ./Data\\Honda/22520968-22520996-22520999-22520929-22521373.Honda.13.jpeg: [Errno 2] No such file or directory: 'E:\\\\UIT\\\\HK4\\\\CS114_MachineLearning\\\\Code\\\\Motor\\\\Data\\\\Honda\\\\22520968-22520996-22520999-22520929-22521373.Honda.13.jpeg'\n",
            "Error loading image ./Data\\Honda/22520968-22520996-22520999-22520929-22521373.Honda.14 (1).jpg: [Errno 2] No such file or directory: 'E:\\\\UIT\\\\HK4\\\\CS114_MachineLearning\\\\Code\\\\Motor\\\\Data\\\\Honda\\\\22520968-22520996-22520999-22520929-22521373.Honda.14 (1).jpg'\n",
            "Error loading image ./Data\\Honda/22520968-22520996-22520999-22520929-22521373.Honda.16.png: [Errno 2] No such file or directory: 'E:\\\\UIT\\\\HK4\\\\CS114_MachineLearning\\\\Code\\\\Motor\\\\Data\\\\Honda\\\\22520968-22520996-22520999-22520929-22521373.Honda.16.png'\n",
            "Error loading image ./Data\\Honda/22520968-22520996-22520999-22520929-22521373.Honda.18 (1).jpg: [Errno 2] No such file or directory: 'E:\\\\UIT\\\\HK4\\\\CS114_MachineLearning\\\\Code\\\\Motor\\\\Data\\\\Honda\\\\22520968-22520996-22520999-22520929-22521373.Honda.18 (1).jpg'\n",
            "Error loading image ./Data\\Honda/22520968-22520996-22520999-22520929-22521373.Honda.20.jpeg: [Errno 2] No such file or directory: 'E:\\\\UIT\\\\HK4\\\\CS114_MachineLearning\\\\Code\\\\Motor\\\\Data\\\\Honda\\\\22520968-22520996-22520999-22520929-22521373.Honda.20.jpeg'\n",
            "Error loading image ./Data\\Honda/22520968-22520996-22520999-22520929-22521373.Honda.22.jpeg: [Errno 2] No such file or directory: 'E:\\\\UIT\\\\HK4\\\\CS114_MachineLearning\\\\Code\\\\Motor\\\\Data\\\\Honda\\\\22520968-22520996-22520999-22520929-22521373.Honda.22.jpeg'\n",
            "Error loading image ./Data\\Honda/22520968-22520996-22520999-22520929-22521373.Honda.23.jpeg: [Errno 2] No such file or directory: 'E:\\\\UIT\\\\HK4\\\\CS114_MachineLearning\\\\Code\\\\Motor\\\\Data\\\\Honda\\\\22520968-22520996-22520999-22520929-22521373.Honda.23.jpeg'\n",
            "Error loading image ./Data\\Honda/22520968-22520996-22520999-22520929-22521373.Honda.24.jpeg: [Errno 2] No such file or directory: 'E:\\\\UIT\\\\HK4\\\\CS114_MachineLearning\\\\Code\\\\Motor\\\\Data\\\\Honda\\\\22520968-22520996-22520999-22520929-22521373.Honda.24.jpeg'\n",
            "Error loading image ./Data\\Honda/22520968-22520996-22520999-22520929-22521373.Honda.25.jpeg: [Errno 2] No such file or directory: 'E:\\\\UIT\\\\HK4\\\\CS114_MachineLearning\\\\Code\\\\Motor\\\\Data\\\\Honda\\\\22520968-22520996-22520999-22520929-22521373.Honda.25.jpeg'\n",
            "Error loading image ./Data\\Honda/22520968-22520996-22520999-22520929-22521373.Honda.26.jpeg: [Errno 2] No such file or directory: 'E:\\\\UIT\\\\HK4\\\\CS114_MachineLearning\\\\Code\\\\Motor\\\\Data\\\\Honda\\\\22520968-22520996-22520999-22520929-22521373.Honda.26.jpeg'\n",
            "Error loading image ./Data\\Honda/22520968-22520996-22520999-22520929-22521373.Honda.27.jpeg: [Errno 2] No such file or directory: 'E:\\\\UIT\\\\HK4\\\\CS114_MachineLearning\\\\Code\\\\Motor\\\\Data\\\\Honda\\\\22520968-22520996-22520999-22520929-22521373.Honda.27.jpeg'\n",
            "Error loading image ./Data\\Honda/22520968-22520996-22520999-22520929-22521373.Honda.28.jpeg: [Errno 2] No such file or directory: 'E:\\\\UIT\\\\HK4\\\\CS114_MachineLearning\\\\Code\\\\Motor\\\\Data\\\\Honda\\\\22520968-22520996-22520999-22520929-22521373.Honda.28.jpeg'\n",
            "Error loading image ./Data\\Honda/22520968-22520996-22520999-22520929-22521373.Honda.29.jpeg: [Errno 2] No such file or directory: 'E:\\\\UIT\\\\HK4\\\\CS114_MachineLearning\\\\Code\\\\Motor\\\\Data\\\\Honda\\\\22520968-22520996-22520999-22520929-22521373.Honda.29.jpeg'\n",
            "Error loading image ./Data\\Honda/22520968-22520996-22520999-22520929-22521373.Honda.31.jpeg: [Errno 2] No such file or directory: 'E:\\\\UIT\\\\HK4\\\\CS114_MachineLearning\\\\Code\\\\Motor\\\\Data\\\\Honda\\\\22520968-22520996-22520999-22520929-22521373.Honda.31.jpeg'\n",
            "Error loading image ./Data\\Honda/22520968-22520996-22520999-22520929-22521373.Honda.32.jpeg: [Errno 2] No such file or directory: 'E:\\\\UIT\\\\HK4\\\\CS114_MachineLearning\\\\Code\\\\Motor\\\\Data\\\\Honda\\\\22520968-22520996-22520999-22520929-22521373.Honda.32.jpeg'\n",
            "Error loading image ./Data\\Honda/22520968-22520996-22520999-22520929-22521373.Honda.33.jpeg: [Errno 2] No such file or directory: 'E:\\\\UIT\\\\HK4\\\\CS114_MachineLearning\\\\Code\\\\Motor\\\\Data\\\\Honda\\\\22520968-22520996-22520999-22520929-22521373.Honda.33.jpeg'\n",
            "Error loading image ./Data\\Honda/22520968-22520996-22520999-22520929-22521373.Honda.34.jpeg: [Errno 2] No such file or directory: 'E:\\\\UIT\\\\HK4\\\\CS114_MachineLearning\\\\Code\\\\Motor\\\\Data\\\\Honda\\\\22520968-22520996-22520999-22520929-22521373.Honda.34.jpeg'\n",
            "Error loading image ./Data\\Honda/22520968-22520996-22520999-22520929-22521373.Honda.35.jpeg: [Errno 2] No such file or directory: 'E:\\\\UIT\\\\HK4\\\\CS114_MachineLearning\\\\Code\\\\Motor\\\\Data\\\\Honda\\\\22520968-22520996-22520999-22520929-22521373.Honda.35.jpeg'\n",
            "Error loading image ./Data\\Honda/22520968-22520996-22520999-22520929-22521373.Honda.36.jpeg: [Errno 2] No such file or directory: 'E:\\\\UIT\\\\HK4\\\\CS114_MachineLearning\\\\Code\\\\Motor\\\\Data\\\\Honda\\\\22520968-22520996-22520999-22520929-22521373.Honda.36.jpeg'\n",
            "Error loading image ./Data\\Honda/22520968-22520996-22520999-22520929-22521373.Honda.38.jpeg: [Errno 2] No such file or directory: 'E:\\\\UIT\\\\HK4\\\\CS114_MachineLearning\\\\Code\\\\Motor\\\\Data\\\\Honda\\\\22520968-22520996-22520999-22520929-22521373.Honda.38.jpeg'\n",
            "Error loading image ./Data\\Honda/22520968-22520996-22520999-22520929-22521373.Honda.39.jpeg: [Errno 2] No such file or directory: 'E:\\\\UIT\\\\HK4\\\\CS114_MachineLearning\\\\Code\\\\Motor\\\\Data\\\\Honda\\\\22520968-22520996-22520999-22520929-22521373.Honda.39.jpeg'\n",
            "Error loading image ./Data\\Honda/22520968-22520996-22520999-22520929-22521373.Honda.40.jpeg: [Errno 2] No such file or directory: 'E:\\\\UIT\\\\HK4\\\\CS114_MachineLearning\\\\Code\\\\Motor\\\\Data\\\\Honda\\\\22520968-22520996-22520999-22520929-22521373.Honda.40.jpeg'\n",
            "Error loading image ./Data\\Honda/22520968-22520996-22520999-22520929-22521373.Honda.41.jpeg: [Errno 2] No such file or directory: 'E:\\\\UIT\\\\HK4\\\\CS114_MachineLearning\\\\Code\\\\Motor\\\\Data\\\\Honda\\\\22520968-22520996-22520999-22520929-22521373.Honda.41.jpeg'\n",
            "Error loading image ./Data\\Honda/22520968-22520996-22520999-22520929-22521373.Honda.44.jpeg: [Errno 2] No such file or directory: 'E:\\\\UIT\\\\HK4\\\\CS114_MachineLearning\\\\Code\\\\Motor\\\\Data\\\\Honda\\\\22520968-22520996-22520999-22520929-22521373.Honda.44.jpeg'\n",
            "Error loading image ./Data\\Honda/22520968-22520996-22520999-22520929-22521373.Honda.45.jpeg: [Errno 2] No such file or directory: 'E:\\\\UIT\\\\HK4\\\\CS114_MachineLearning\\\\Code\\\\Motor\\\\Data\\\\Honda\\\\22520968-22520996-22520999-22520929-22521373.Honda.45.jpeg'\n",
            "Error loading image ./Data\\Honda/22520968-22520996-22520999-22520929-22521373.Honda.46.jpeg: [Errno 2] No such file or directory: 'E:\\\\UIT\\\\HK4\\\\CS114_MachineLearning\\\\Code\\\\Motor\\\\Data\\\\Honda\\\\22520968-22520996-22520999-22520929-22521373.Honda.46.jpeg'\n",
            "Error loading image ./Data\\Honda/22520968-22520996-22520999-22520929-22521373.Honda.48.jpeg: [Errno 2] No such file or directory: 'E:\\\\UIT\\\\HK4\\\\CS114_MachineLearning\\\\Code\\\\Motor\\\\Data\\\\Honda\\\\22520968-22520996-22520999-22520929-22521373.Honda.48.jpeg'\n",
            "Error loading image ./Data\\Honda/22520968-22520996-22520999-22520929-22521373.Honda.49.jpeg: [Errno 2] No such file or directory: 'E:\\\\UIT\\\\HK4\\\\CS114_MachineLearning\\\\Code\\\\Motor\\\\Data\\\\Honda\\\\22520968-22520996-22520999-22520929-22521373.Honda.49.jpeg'\n",
            "Error loading image ./Data\\Honda/22520968-22520996-22520999-22520929-22521373.Honda.50.jpeg: [Errno 2] No such file or directory: 'E:\\\\UIT\\\\HK4\\\\CS114_MachineLearning\\\\Code\\\\Motor\\\\Data\\\\Honda\\\\22520968-22520996-22520999-22520929-22521373.Honda.50.jpeg'\n",
            "Error loading image ./Data\\Honda/22520968-22520996-22520999-22520929-22521373.Honda.51.jpeg: [Errno 2] No such file or directory: 'E:\\\\UIT\\\\HK4\\\\CS114_MachineLearning\\\\Code\\\\Motor\\\\Data\\\\Honda\\\\22520968-22520996-22520999-22520929-22521373.Honda.51.jpeg'\n",
            "Error loading image ./Data\\Honda/22520968-22520996-22520999-22520929-22521373.Honda.52.jpeg: [Errno 2] No such file or directory: 'E:\\\\UIT\\\\HK4\\\\CS114_MachineLearning\\\\Code\\\\Motor\\\\Data\\\\Honda\\\\22520968-22520996-22520999-22520929-22521373.Honda.52.jpeg'\n",
            "Error loading image ./Data\\Honda/22520968-22520996-22520999-22520929-22521373.Honda.55.png: [Errno 2] No such file or directory: 'E:\\\\UIT\\\\HK4\\\\CS114_MachineLearning\\\\Code\\\\Motor\\\\Data\\\\Honda\\\\22520968-22520996-22520999-22520929-22521373.Honda.55.png'\n",
            "Error loading image ./Data\\Honda/22520968-22520996-22520999-22520929-22521373.Honda.59 (1).jpg: [Errno 2] No such file or directory: 'E:\\\\UIT\\\\HK4\\\\CS114_MachineLearning\\\\Code\\\\Motor\\\\Data\\\\Honda\\\\22520968-22520996-22520999-22520929-22521373.Honda.59 (1).jpg'\n",
            "Error loading image ./Data\\Honda/22520968-22520996-22520999-22520929-22521373.Honda.60 (1).jpg: [Errno 2] No such file or directory: 'E:\\\\UIT\\\\HK4\\\\CS114_MachineLearning\\\\Code\\\\Motor\\\\Data\\\\Honda\\\\22520968-22520996-22520999-22520929-22521373.Honda.60 (1).jpg'\n",
            "Error loading image ./Data\\Honda/22520968-22520996-22520999-22520929-22521373.Honda.62 (1).jpg: [Errno 2] No such file or directory: 'E:\\\\UIT\\\\HK4\\\\CS114_MachineLearning\\\\Code\\\\Motor\\\\Data\\\\Honda\\\\22520968-22520996-22520999-22520929-22521373.Honda.62 (1).jpg'\n",
            "Error loading image ./Data\\Honda/22520968-22520996-22520999-22520929-22521373.Honda.64 (1).jpg: [Errno 2] No such file or directory: 'E:\\\\UIT\\\\HK4\\\\CS114_MachineLearning\\\\Code\\\\Motor\\\\Data\\\\Honda\\\\22520968-22520996-22520999-22520929-22521373.Honda.64 (1).jpg'\n",
            "Error loading image ./Data\\Honda/22520968-22520996-22520999-22520929-22521373.Honda.65 (1).jpg: [Errno 2] No such file or directory: 'E:\\\\UIT\\\\HK4\\\\CS114_MachineLearning\\\\Code\\\\Motor\\\\Data\\\\Honda\\\\22520968-22520996-22520999-22520929-22521373.Honda.65 (1).jpg'\n",
            "Error loading image ./Data\\Honda/22520968-22520996-22520999-22520929-22521373.Honda.66 (1).jpg: [Errno 2] No such file or directory: 'E:\\\\UIT\\\\HK4\\\\CS114_MachineLearning\\\\Code\\\\Motor\\\\Data\\\\Honda\\\\22520968-22520996-22520999-22520929-22521373.Honda.66 (1).jpg'\n",
            "Error loading image ./Data\\Honda/22520968-22520996-22520999-22520929-22521373.Honda.69.png: [Errno 2] No such file or directory: 'E:\\\\UIT\\\\HK4\\\\CS114_MachineLearning\\\\Code\\\\Motor\\\\Data\\\\Honda\\\\22520968-22520996-22520999-22520929-22521373.Honda.69.png'\n",
            "Error loading image ./Data\\Honda/22520968-22520996-22520999-22520929-22521373.Honda.70.png: [Errno 2] No such file or directory: 'E:\\\\UIT\\\\HK4\\\\CS114_MachineLearning\\\\Code\\\\Motor\\\\Data\\\\Honda\\\\22520968-22520996-22520999-22520929-22521373.Honda.70.png'\n",
            "Error loading image ./Data\\Honda/22520968-22520996-22520999-22520929-22521373.Honda.71 (1).jpg: [Errno 2] No such file or directory: 'E:\\\\UIT\\\\HK4\\\\CS114_MachineLearning\\\\Code\\\\Motor\\\\Data\\\\Honda\\\\22520968-22520996-22520999-22520929-22521373.Honda.71 (1).jpg'\n",
            "Error loading image ./Data\\Honda/22520968-22520996-22520999-22520929-22521373.Honda.72.png: [Errno 2] No such file or directory: 'E:\\\\UIT\\\\HK4\\\\CS114_MachineLearning\\\\Code\\\\Motor\\\\Data\\\\Honda\\\\22520968-22520996-22520999-22520929-22521373.Honda.72.png'\n",
            "Error loading image ./Data\\Honda/22520968-22520996-22520999-22520929-22521373.Honda.73 (1).jpg: [Errno 2] No such file or directory: 'E:\\\\UIT\\\\HK4\\\\CS114_MachineLearning\\\\Code\\\\Motor\\\\Data\\\\Honda\\\\22520968-22520996-22520999-22520929-22521373.Honda.73 (1).jpg'\n",
            "Error loading image ./Data\\Honda/22520968-22520996-22520999-22520929-22521373.Honda.75 (1).jpg: [Errno 2] No such file or directory: 'E:\\\\UIT\\\\HK4\\\\CS114_MachineLearning\\\\Code\\\\Motor\\\\Data\\\\Honda\\\\22520968-22520996-22520999-22520929-22521373.Honda.75 (1).jpg'\n",
            "Error loading image ./Data\\Honda/22520968-22520996-22520999-22520929-22521373.Honda.77 (1).jpg: [Errno 2] No such file or directory: 'E:\\\\UIT\\\\HK4\\\\CS114_MachineLearning\\\\Code\\\\Motor\\\\Data\\\\Honda\\\\22520968-22520996-22520999-22520929-22521373.Honda.77 (1).jpg'\n",
            "Error loading image ./Data\\Honda/22520968-22520996-22520999-22520929-22521373.Honda.78 (1).jpg: [Errno 2] No such file or directory: 'E:\\\\UIT\\\\HK4\\\\CS114_MachineLearning\\\\Code\\\\Motor\\\\Data\\\\Honda\\\\22520968-22520996-22520999-22520929-22521373.Honda.78 (1).jpg'\n",
            "Error loading image ./Data\\Honda/22520968-22520996-22520999-22520929-22521373.Honda.79 (1).jpg: [Errno 2] No such file or directory: 'E:\\\\UIT\\\\HK4\\\\CS114_MachineLearning\\\\Code\\\\Motor\\\\Data\\\\Honda\\\\22520968-22520996-22520999-22520929-22521373.Honda.79 (1).jpg'\n",
            "Error loading image ./Data\\Honda/22520968-22520996-22520999-22520929-22521373.Honda.82 (1).jpg: [Errno 2] No such file or directory: 'E:\\\\UIT\\\\HK4\\\\CS114_MachineLearning\\\\Code\\\\Motor\\\\Data\\\\Honda\\\\22520968-22520996-22520999-22520929-22521373.Honda.82 (1).jpg'\n",
            "Error loading image ./Data\\Honda/22520968-22520996-22520999-22520929-22521373.Honda.83 (1).jpg: [Errno 2] No such file or directory: 'E:\\\\UIT\\\\HK4\\\\CS114_MachineLearning\\\\Code\\\\Motor\\\\Data\\\\Honda\\\\22520968-22520996-22520999-22520929-22521373.Honda.83 (1).jpg'\n",
            "Error loading image ./Data\\Honda/22520968-22520996-22520999-22520929-22521373.Honda.84 (1).jpg: [Errno 2] No such file or directory: 'E:\\\\UIT\\\\HK4\\\\CS114_MachineLearning\\\\Code\\\\Motor\\\\Data\\\\Honda\\\\22520968-22520996-22520999-22520929-22521373.Honda.84 (1).jpg'\n",
            "Error loading image ./Data\\Honda/22520968-22520996-22520999-22520929-22521373.Honda.85 (1).jpg: [Errno 2] No such file or directory: 'E:\\\\UIT\\\\HK4\\\\CS114_MachineLearning\\\\Code\\\\Motor\\\\Data\\\\Honda\\\\22520968-22520996-22520999-22520929-22521373.Honda.85 (1).jpg'\n",
            "Error loading image ./Data\\Honda/22520968-22520996-22520999-22520929-22521373.Honda.87 (1).jpg: [Errno 2] No such file or directory: 'E:\\\\UIT\\\\HK4\\\\CS114_MachineLearning\\\\Code\\\\Motor\\\\Data\\\\Honda\\\\22520968-22520996-22520999-22520929-22521373.Honda.87 (1).jpg'\n",
            "Error loading image ./Data\\Honda/22520968-22520996-22520999-22520929-22521373.Honda.88.png: [Errno 2] No such file or directory: 'E:\\\\UIT\\\\HK4\\\\CS114_MachineLearning\\\\Code\\\\Motor\\\\Data\\\\Honda\\\\22520968-22520996-22520999-22520929-22521373.Honda.88.png'\n",
            "Error loading image ./Data\\Honda/22520968-22520996-22520999-22520929-22521373.Honda.89 (1).jpg: [Errno 2] No such file or directory: 'E:\\\\UIT\\\\HK4\\\\CS114_MachineLearning\\\\Code\\\\Motor\\\\Data\\\\Honda\\\\22520968-22520996-22520999-22520929-22521373.Honda.89 (1).jpg'\n",
            "Error loading image ./Data\\Honda/22520968-22520996-22520999-22520929-22521373.Honda.90 (1).jpg: [Errno 2] No such file or directory: 'E:\\\\UIT\\\\HK4\\\\CS114_MachineLearning\\\\Code\\\\Motor\\\\Data\\\\Honda\\\\22520968-22520996-22520999-22520929-22521373.Honda.90 (1).jpg'\n",
            "Error loading image ./Data\\Honda/22520968-22520996-22520999-22520929-22521373.Honda.91 (1).jpg: [Errno 2] No such file or directory: 'E:\\\\UIT\\\\HK4\\\\CS114_MachineLearning\\\\Code\\\\Motor\\\\Data\\\\Honda\\\\22520968-22520996-22520999-22520929-22521373.Honda.91 (1).jpg'\n",
            "Error loading image ./Data\\Honda/22520968-22520996-22520999-22520929-22521373.Honda.93 (1).jpg: [Errno 2] No such file or directory: 'E:\\\\UIT\\\\HK4\\\\CS114_MachineLearning\\\\Code\\\\Motor\\\\Data\\\\Honda\\\\22520968-22520996-22520999-22520929-22521373.Honda.93 (1).jpg'\n",
            "Error loading image ./Data\\Honda/22520968-22520996-22520999-22520929-22521373.Honda.95.png: [Errno 2] No such file or directory: 'E:\\\\UIT\\\\HK4\\\\CS114_MachineLearning\\\\Code\\\\Motor\\\\Data\\\\Honda\\\\22520968-22520996-22520999-22520929-22521373.Honda.95.png'\n",
            "Error loading image ./Data\\Honda/22520968-22520996-22520999-22520929-22521373.Honda.97 (1).jpg: [Errno 2] No such file or directory: 'E:\\\\UIT\\\\HK4\\\\CS114_MachineLearning\\\\Code\\\\Motor\\\\Data\\\\Honda\\\\22520968-22520996-22520999-22520929-22521373.Honda.97 (1).jpg'\n",
            "Error loading image ./Data\\Honda/22520968-22520996-22520999-22520929-22521373.Honda.98 (1).jpg: [Errno 2] No such file or directory: 'E:\\\\UIT\\\\HK4\\\\CS114_MachineLearning\\\\Code\\\\Motor\\\\Data\\\\Honda\\\\22520968-22520996-22520999-22520929-22521373.Honda.98 (1).jpg'\n",
            "Error loading image ./Data\\Honda/22520968-22520996-22520999-22520929-22521373.Honda.99 (1).jpg: [Errno 2] No such file or directory: 'E:\\\\UIT\\\\HK4\\\\CS114_MachineLearning\\\\Code\\\\Motor\\\\Data\\\\Honda\\\\22520968-22520996-22520999-22520929-22521373.Honda.99 (1).jpg'\n",
            "Error loading image ./Data\\Honda/22520968-22520996-22520999-22520929-22521373.Honda.100 (1).jpg: [Errno 2] No such file or directory: 'E:\\\\UIT\\\\HK4\\\\CS114_MachineLearning\\\\Code\\\\Motor\\\\Data\\\\Honda\\\\22520968-22520996-22520999-22520929-22521373.Honda.100 (1).jpg'\n",
            "Error loading image ./Data\\Honda/22520968-22520996-22520999-22520929-22521373.Honda.104 (1).jpg: [Errno 2] No such file or directory: 'E:\\\\UIT\\\\HK4\\\\CS114_MachineLearning\\\\Code\\\\Motor\\\\Data\\\\Honda\\\\22520968-22520996-22520999-22520929-22521373.Honda.104 (1).jpg'\n",
            "Error loading image ./Data\\Honda/22520968-22520996-22520999-22520929-22521373.Honda.105.png: [Errno 2] No such file or directory: 'E:\\\\UIT\\\\HK4\\\\CS114_MachineLearning\\\\Code\\\\Motor\\\\Data\\\\Honda\\\\22520968-22520996-22520999-22520929-22521373.Honda.105.png'\n",
            "Error loading image ./Data\\Honda/22520968-22520996-22520999-22520929-22521373.Honda.108.png: [Errno 2] No such file or directory: 'E:\\\\UIT\\\\HK4\\\\CS114_MachineLearning\\\\Code\\\\Motor\\\\Data\\\\Honda\\\\22520968-22520996-22520999-22520929-22521373.Honda.108.png'\n",
            "Error loading image ./Data\\Honda/22520968-22520996-22520999-22520929-22521373.Honda.109 (1).jpg: [Errno 2] No such file or directory: 'E:\\\\UIT\\\\HK4\\\\CS114_MachineLearning\\\\Code\\\\Motor\\\\Data\\\\Honda\\\\22520968-22520996-22520999-22520929-22521373.Honda.109 (1).jpg'\n",
            "Error loading image ./Data\\Honda/22520968-22520996-22520999-22520929-22521373.Honda.110 (1).jpg: [Errno 2] No such file or directory: 'E:\\\\UIT\\\\HK4\\\\CS114_MachineLearning\\\\Code\\\\Motor\\\\Data\\\\Honda\\\\22520968-22520996-22520999-22520929-22521373.Honda.110 (1).jpg'\n",
            "Error loading image ./Data\\Honda/22520968-22520996-22520999-22520929-22521373.Honda.111 (1).jpg: [Errno 2] No such file or directory: 'E:\\\\UIT\\\\HK4\\\\CS114_MachineLearning\\\\Code\\\\Motor\\\\Data\\\\Honda\\\\22520968-22520996-22520999-22520929-22521373.Honda.111 (1).jpg'\n",
            "Error loading image ./Data\\Honda/22520968-22520996-22520999-22520929-22521373.Honda.112.png: [Errno 2] No such file or directory: 'E:\\\\UIT\\\\HK4\\\\CS114_MachineLearning\\\\Code\\\\Motor\\\\Data\\\\Honda\\\\22520968-22520996-22520999-22520929-22521373.Honda.112.png'\n",
            "Error loading image ./Data\\Honda/22520968-22520996-22520999-22520929-22521373.Honda.113 (1).jpg: [Errno 2] No such file or directory: 'E:\\\\UIT\\\\HK4\\\\CS114_MachineLearning\\\\Code\\\\Motor\\\\Data\\\\Honda\\\\22520968-22520996-22520999-22520929-22521373.Honda.113 (1).jpg'\n",
            "Error loading image ./Data\\Honda/22520968-22520996-22520999-22520929-22521373.Honda.114 (1).jpg: [Errno 2] No such file or directory: 'E:\\\\UIT\\\\HK4\\\\CS114_MachineLearning\\\\Code\\\\Motor\\\\Data\\\\Honda\\\\22520968-22520996-22520999-22520929-22521373.Honda.114 (1).jpg'\n",
            "Error loading image ./Data\\Honda/22520968-22520996-22520999-22520929-22521373.Honda.116.png: [Errno 2] No such file or directory: 'E:\\\\UIT\\\\HK4\\\\CS114_MachineLearning\\\\Code\\\\Motor\\\\Data\\\\Honda\\\\22520968-22520996-22520999-22520929-22521373.Honda.116.png'\n",
            "Error loading image ./Data\\Honda/22520968-22520996-22520999-22520929-22521373.Honda.119 (1).jpg: [Errno 2] No such file or directory: 'E:\\\\UIT\\\\HK4\\\\CS114_MachineLearning\\\\Code\\\\Motor\\\\Data\\\\Honda\\\\22520968-22520996-22520999-22520929-22521373.Honda.119 (1).jpg'\n",
            "Error loading image ./Data\\Honda/22520968-22520996-22520999-22520929-22521373.Honda.120 (1).jpg: [Errno 2] No such file or directory: 'E:\\\\UIT\\\\HK4\\\\CS114_MachineLearning\\\\Code\\\\Motor\\\\Data\\\\Honda\\\\22520968-22520996-22520999-22520929-22521373.Honda.120 (1).jpg'\n",
            "Error loading image ./Data\\Honda/22520968-22520996-22520999-22520929-22521373.Honda.121 (1).jpg: [Errno 2] No such file or directory: 'E:\\\\UIT\\\\HK4\\\\CS114_MachineLearning\\\\Code\\\\Motor\\\\Data\\\\Honda\\\\22520968-22520996-22520999-22520929-22521373.Honda.121 (1).jpg'\n",
            "Error loading image ./Data\\Honda/22520968-22520996-22520999-22520929-22521373.Honda.123 (1).jpg: [Errno 2] No such file or directory: 'E:\\\\UIT\\\\HK4\\\\CS114_MachineLearning\\\\Code\\\\Motor\\\\Data\\\\Honda\\\\22520968-22520996-22520999-22520929-22521373.Honda.123 (1).jpg'\n",
            "Error loading image ./Data\\Honda/22520968-22520996-22520999-22520929-22521373.Honda.125 (1).jpg: [Errno 2] No such file or directory: 'E:\\\\UIT\\\\HK4\\\\CS114_MachineLearning\\\\Code\\\\Motor\\\\Data\\\\Honda\\\\22520968-22520996-22520999-22520929-22521373.Honda.125 (1).jpg'\n",
            "Error loading image ./Data\\Honda/22520968-22520996-22520999-22520929-22521373.Honda.126 (1).jpg: [Errno 2] No such file or directory: 'E:\\\\UIT\\\\HK4\\\\CS114_MachineLearning\\\\Code\\\\Motor\\\\Data\\\\Honda\\\\22520968-22520996-22520999-22520929-22521373.Honda.126 (1).jpg'\n",
            "Error loading image ./Data\\Honda/22520968-22520996-22520999-22520929-22521373.Honda.128 (1).jpg: [Errno 2] No such file or directory: 'E:\\\\UIT\\\\HK4\\\\CS114_MachineLearning\\\\Code\\\\Motor\\\\Data\\\\Honda\\\\22520968-22520996-22520999-22520929-22521373.Honda.128 (1).jpg'\n",
            "Error loading image ./Data\\Honda/22520968-22520996-22520999-22520929-22521373.Honda.129 (1).jpg: [Errno 2] No such file or directory: 'E:\\\\UIT\\\\HK4\\\\CS114_MachineLearning\\\\Code\\\\Motor\\\\Data\\\\Honda\\\\22520968-22520996-22520999-22520929-22521373.Honda.129 (1).jpg'\n",
            "Error loading image ./Data\\Honda/22520968-22520996-22520999-22520929-22521373.Honda.130 (1).jpg: [Errno 2] No such file or directory: 'E:\\\\UIT\\\\HK4\\\\CS114_MachineLearning\\\\Code\\\\Motor\\\\Data\\\\Honda\\\\22520968-22520996-22520999-22520929-22521373.Honda.130 (1).jpg'\n",
            "Error loading image ./Data\\Honda/22520968-22520996-22520999-22520929-22521373.Honda.132 (1).jpg: [Errno 2] No such file or directory: 'E:\\\\UIT\\\\HK4\\\\CS114_MachineLearning\\\\Code\\\\Motor\\\\Data\\\\Honda\\\\22520968-22520996-22520999-22520929-22521373.Honda.132 (1).jpg'\n",
            "Error loading image ./Data\\Honda/22520968-22520996-22520999-22520929-22521373.Honda.133 (1).jpg: [Errno 2] No such file or directory: 'E:\\\\UIT\\\\HK4\\\\CS114_MachineLearning\\\\Code\\\\Motor\\\\Data\\\\Honda\\\\22520968-22520996-22520999-22520929-22521373.Honda.133 (1).jpg'\n",
            "Error loading image ./Data\\Honda/22520968-22520996-22520999-22520929-22521373.Honda.135 (1).jpg: [Errno 2] No such file or directory: 'E:\\\\UIT\\\\HK4\\\\CS114_MachineLearning\\\\Code\\\\Motor\\\\Data\\\\Honda\\\\22520968-22520996-22520999-22520929-22521373.Honda.135 (1).jpg'\n",
            "Error loading image ./Data\\Honda/22520968-22520996-22520999-22520929-22521373.Honda.136 (1).jpg: [Errno 2] No such file or directory: 'E:\\\\UIT\\\\HK4\\\\CS114_MachineLearning\\\\Code\\\\Motor\\\\Data\\\\Honda\\\\22520968-22520996-22520999-22520929-22521373.Honda.136 (1).jpg'\n",
            "Error loading image ./Data\\Honda/22520968-22520996-22520999-22520929-22521373.Honda.137 (1).jpg: [Errno 2] No such file or directory: 'E:\\\\UIT\\\\HK4\\\\CS114_MachineLearning\\\\Code\\\\Motor\\\\Data\\\\Honda\\\\22520968-22520996-22520999-22520929-22521373.Honda.137 (1).jpg'\n",
            "Error loading image ./Data\\Honda/22520968-22520996-22520999-22520929-22521373.Honda.139 (1).jpg: [Errno 2] No such file or directory: 'E:\\\\UIT\\\\HK4\\\\CS114_MachineLearning\\\\Code\\\\Motor\\\\Data\\\\Honda\\\\22520968-22520996-22520999-22520929-22521373.Honda.139 (1).jpg'\n",
            "Error loading image ./Data\\Honda/22520968-22520996-22520999-22520929-22521373.Honda.142 (1).jpg: [Errno 2] No such file or directory: 'E:\\\\UIT\\\\HK4\\\\CS114_MachineLearning\\\\Code\\\\Motor\\\\Data\\\\Honda\\\\22520968-22520996-22520999-22520929-22521373.Honda.142 (1).jpg'\n",
            "Error loading image ./Data\\Honda/22520968-22520996-22520999-22520929-22521373.Honda.143 (1).jpg: [Errno 2] No such file or directory: 'E:\\\\UIT\\\\HK4\\\\CS114_MachineLearning\\\\Code\\\\Motor\\\\Data\\\\Honda\\\\22520968-22520996-22520999-22520929-22521373.Honda.143 (1).jpg'\n",
            "Error loading image ./Data\\Honda/22520968-22520996-22520999-22520929-22521373.Honda.144 (1).jpg: [Errno 2] No such file or directory: 'E:\\\\UIT\\\\HK4\\\\CS114_MachineLearning\\\\Code\\\\Motor\\\\Data\\\\Honda\\\\22520968-22520996-22520999-22520929-22521373.Honda.144 (1).jpg'\n",
            "Error loading image ./Data\\Honda/22520968-22520996-22520999-22520929-22521373.Honda.145 (1).jpg: [Errno 2] No such file or directory: 'E:\\\\UIT\\\\HK4\\\\CS114_MachineLearning\\\\Code\\\\Motor\\\\Data\\\\Honda\\\\22520968-22520996-22520999-22520929-22521373.Honda.145 (1).jpg'\n",
            "Error loading image ./Data\\Honda/22520968-22520996-22520999-22520929-22521373.Honda.146 (1).jpg: [Errno 2] No such file or directory: 'E:\\\\UIT\\\\HK4\\\\CS114_MachineLearning\\\\Code\\\\Motor\\\\Data\\\\Honda\\\\22520968-22520996-22520999-22520929-22521373.Honda.146 (1).jpg'\n",
            "Error loading image ./Data\\Honda/22520968-22520996-22520999-22520929-22521373.Honda.147 (1).jpg: [Errno 2] No such file or directory: 'E:\\\\UIT\\\\HK4\\\\CS114_MachineLearning\\\\Code\\\\Motor\\\\Data\\\\Honda\\\\22520968-22520996-22520999-22520929-22521373.Honda.147 (1).jpg'\n",
            "Error loading image ./Data\\Honda/22520968-22520996-22520999-22520929-22521373.Honda.148 (1).jpg: [Errno 2] No such file or directory: 'E:\\\\UIT\\\\HK4\\\\CS114_MachineLearning\\\\Code\\\\Motor\\\\Data\\\\Honda\\\\22520968-22520996-22520999-22520929-22521373.Honda.148 (1).jpg'\n",
            "Error loading image ./Data\\Honda/22520968-22520996-22520999-22520929-22521373.Honda.149 (1).jpg: [Errno 2] No such file or directory: 'E:\\\\UIT\\\\HK4\\\\CS114_MachineLearning\\\\Code\\\\Motor\\\\Data\\\\Honda\\\\22520968-22520996-22520999-22520929-22521373.Honda.149 (1).jpg'\n",
            "Error loading image ./Data\\Honda/22520968-22520996-22520999-22520929-22521373.Honda.150 (1).jpg: [Errno 2] No such file or directory: 'E:\\\\UIT\\\\HK4\\\\CS114_MachineLearning\\\\Code\\\\Motor\\\\Data\\\\Honda\\\\22520968-22520996-22520999-22520929-22521373.Honda.150 (1).jpg'\n",
            "Error loading image ./Data\\Honda/22520968-22520996-22520999-22520929-22521373.Honda.152 (1).jpg: [Errno 2] No such file or directory: 'E:\\\\UIT\\\\HK4\\\\CS114_MachineLearning\\\\Code\\\\Motor\\\\Data\\\\Honda\\\\22520968-22520996-22520999-22520929-22521373.Honda.152 (1).jpg'\n",
            "Error loading image ./Data\\Honda/22520968-22520996-22520999-22520929-22521373.Honda.153 (1).jpg: [Errno 2] No such file or directory: 'E:\\\\UIT\\\\HK4\\\\CS114_MachineLearning\\\\Code\\\\Motor\\\\Data\\\\Honda\\\\22520968-22520996-22520999-22520929-22521373.Honda.153 (1).jpg'\n",
            "Error loading image ./Data\\Honda/22520968-22520996-22520999-22520929-22521373.Honda.154 (1).jpg: [Errno 2] No such file or directory: 'E:\\\\UIT\\\\HK4\\\\CS114_MachineLearning\\\\Code\\\\Motor\\\\Data\\\\Honda\\\\22520968-22520996-22520999-22520929-22521373.Honda.154 (1).jpg'\n",
            "Error loading image ./Data\\Honda/22520968-22520996-22520999-22520929-22521373.Honda.155 (1).jpg: [Errno 2] No such file or directory: 'E:\\\\UIT\\\\HK4\\\\CS114_MachineLearning\\\\Code\\\\Motor\\\\Data\\\\Honda\\\\22520968-22520996-22520999-22520929-22521373.Honda.155 (1).jpg'\n",
            "Error loading image ./Data\\Honda/22520968-22520996-22520999-22520929-22521373.Honda.156 (1).jpg: [Errno 2] No such file or directory: 'E:\\\\UIT\\\\HK4\\\\CS114_MachineLearning\\\\Code\\\\Motor\\\\Data\\\\Honda\\\\22520968-22520996-22520999-22520929-22521373.Honda.156 (1).jpg'\n",
            "Error loading image ./Data\\Honda/22520968-22520996-22520999-22520929-22521373.Honda.157 (1).jpg: [Errno 2] No such file or directory: 'E:\\\\UIT\\\\HK4\\\\CS114_MachineLearning\\\\Code\\\\Motor\\\\Data\\\\Honda\\\\22520968-22520996-22520999-22520929-22521373.Honda.157 (1).jpg'\n",
            "Error loading image ./Data\\Honda/22520968-22520996-22520999-22520929-22521373.Honda.158.png: [Errno 2] No such file or directory: 'E:\\\\UIT\\\\HK4\\\\CS114_MachineLearning\\\\Code\\\\Motor\\\\Data\\\\Honda\\\\22520968-22520996-22520999-22520929-22521373.Honda.158.png'\n",
            "Error loading image ./Data\\Honda/22520968-22520996-22520999-22520929-22521373.Honda.159.png: [Errno 2] No such file or directory: 'E:\\\\UIT\\\\HK4\\\\CS114_MachineLearning\\\\Code\\\\Motor\\\\Data\\\\Honda\\\\22520968-22520996-22520999-22520929-22521373.Honda.159.png'\n",
            "Error loading image ./Data\\Honda/22520968-22520996-22520999-22520929-22521373.Honda.160.png: [Errno 2] No such file or directory: 'E:\\\\UIT\\\\HK4\\\\CS114_MachineLearning\\\\Code\\\\Motor\\\\Data\\\\Honda\\\\22520968-22520996-22520999-22520929-22521373.Honda.160.png'\n",
            "Error loading image ./Data\\Honda/22520968-22520996-22520999-22520929-22521373.Honda.161 (1).jpg: [Errno 2] No such file or directory: 'E:\\\\UIT\\\\HK4\\\\CS114_MachineLearning\\\\Code\\\\Motor\\\\Data\\\\Honda\\\\22520968-22520996-22520999-22520929-22521373.Honda.161 (1).jpg'\n",
            "Error loading image ./Data\\Honda/22520968-22520996-22520999-22520929-22521373.Honda.162 (1).jpg: [Errno 2] No such file or directory: 'E:\\\\UIT\\\\HK4\\\\CS114_MachineLearning\\\\Code\\\\Motor\\\\Data\\\\Honda\\\\22520968-22520996-22520999-22520929-22521373.Honda.162 (1).jpg'\n",
            "Error loading image ./Data\\Honda/22520968-22520996-22520999-22520929-22521373.Honda.163 (1).jpg: [Errno 2] No such file or directory: 'E:\\\\UIT\\\\HK4\\\\CS114_MachineLearning\\\\Code\\\\Motor\\\\Data\\\\Honda\\\\22520968-22520996-22520999-22520929-22521373.Honda.163 (1).jpg'\n",
            "Error loading image ./Data\\Honda/22520968-22520996-22520999-22520929-22521373.Honda.164.png: [Errno 2] No such file or directory: 'E:\\\\UIT\\\\HK4\\\\CS114_MachineLearning\\\\Code\\\\Motor\\\\Data\\\\Honda\\\\22520968-22520996-22520999-22520929-22521373.Honda.164.png'\n",
            "Error loading image ./Data\\Honda/22520968-22520996-22520999-22520929-22521373.Honda.165.png: [Errno 2] No such file or directory: 'E:\\\\UIT\\\\HK4\\\\CS114_MachineLearning\\\\Code\\\\Motor\\\\Data\\\\Honda\\\\22520968-22520996-22520999-22520929-22521373.Honda.165.png'\n",
            "Error loading image ./Data\\Honda/22520968-22520996-22520999-22520929-22521373.Honda.166.png: [Errno 2] No such file or directory: 'E:\\\\UIT\\\\HK4\\\\CS114_MachineLearning\\\\Code\\\\Motor\\\\Data\\\\Honda\\\\22520968-22520996-22520999-22520929-22521373.Honda.166.png'\n",
            "Error loading image ./Data\\Honda/22520968-22520996-22520999-22520929-22521373.Honda.168.png: [Errno 2] No such file or directory: 'E:\\\\UIT\\\\HK4\\\\CS114_MachineLearning\\\\Code\\\\Motor\\\\Data\\\\Honda\\\\22520968-22520996-22520999-22520929-22521373.Honda.168.png'\n",
            "Error loading image ./Data\\Honda/22520968-22520996-22520999-22520929-22521373.Honda.169.png: [Errno 2] No such file or directory: 'E:\\\\UIT\\\\HK4\\\\CS114_MachineLearning\\\\Code\\\\Motor\\\\Data\\\\Honda\\\\22520968-22520996-22520999-22520929-22521373.Honda.169.png'\n",
            "Error loading image ./Data\\Honda/22520968-22520996-22520999-22520929-22521373.Honda.170.png: [Errno 2] No such file or directory: 'E:\\\\UIT\\\\HK4\\\\CS114_MachineLearning\\\\Code\\\\Motor\\\\Data\\\\Honda\\\\22520968-22520996-22520999-22520929-22521373.Honda.170.png'\n",
            "Error loading image ./Data\\Honda/22520968-22520996-22520999-22520929-22521373.Honda.173 (1).jpg: [Errno 2] No such file or directory: 'E:\\\\UIT\\\\HK4\\\\CS114_MachineLearning\\\\Code\\\\Motor\\\\Data\\\\Honda\\\\22520968-22520996-22520999-22520929-22521373.Honda.173 (1).jpg'\n",
            "Error loading image ./Data\\Honda/22520968-22520996-22520999-22520929-22521373.Honda.174.png: [Errno 2] No such file or directory: 'E:\\\\UIT\\\\HK4\\\\CS114_MachineLearning\\\\Code\\\\Motor\\\\Data\\\\Honda\\\\22520968-22520996-22520999-22520929-22521373.Honda.174.png'\n",
            "Error loading image ./Data\\Honda/22520968-22520996-22520999-22520929-22521373.Honda.176.png: [Errno 2] No such file or directory: 'E:\\\\UIT\\\\HK4\\\\CS114_MachineLearning\\\\Code\\\\Motor\\\\Data\\\\Honda\\\\22520968-22520996-22520999-22520929-22521373.Honda.176.png'\n",
            "Error loading image ./Data\\Honda/22520968-22520996-22520999-22520929-22521373.Honda.177 (1).jpg: [Errno 2] No such file or directory: 'E:\\\\UIT\\\\HK4\\\\CS114_MachineLearning\\\\Code\\\\Motor\\\\Data\\\\Honda\\\\22520968-22520996-22520999-22520929-22521373.Honda.177 (1).jpg'\n",
            "Error loading image ./Data\\Honda/22520968-22520996-22520999-22520929-22521373.Honda.178 (1).jpg: [Errno 2] No such file or directory: 'E:\\\\UIT\\\\HK4\\\\CS114_MachineLearning\\\\Code\\\\Motor\\\\Data\\\\Honda\\\\22520968-22520996-22520999-22520929-22521373.Honda.178 (1).jpg'\n",
            "Error loading image ./Data\\Honda/22520641.Honda.478 (1).jpeg: [Errno 2] No such file or directory: 'E:\\\\UIT\\\\HK4\\\\CS114_MachineLearning\\\\Code\\\\Motor\\\\Data\\\\Honda\\\\22520641.Honda.478 (1).jpeg'\n",
            "Error loading image ./Data\\Honda/22520641.Honda.480 (1).jpeg: [Errno 2] No such file or directory: 'E:\\\\UIT\\\\HK4\\\\CS114_MachineLearning\\\\Code\\\\Motor\\\\Data\\\\Honda\\\\22520641.Honda.480 (1).jpeg'\n",
            "Error loading image ./Data\\Honda/22520641.Honda.482 (1).jpeg: [Errno 2] No such file or directory: 'E:\\\\UIT\\\\HK4\\\\CS114_MachineLearning\\\\Code\\\\Motor\\\\Data\\\\Honda\\\\22520641.Honda.482 (1).jpeg'\n",
            "Error loading image ./Data\\Honda/22520641.Honda.483 (1).jpeg: [Errno 2] No such file or directory: 'E:\\\\UIT\\\\HK4\\\\CS114_MachineLearning\\\\Code\\\\Motor\\\\Data\\\\Honda\\\\22520641.Honda.483 (1).jpeg'\n",
            "Error loading image ./Data\\Honda/22520641.Honda.484 (1).jpeg: [Errno 2] No such file or directory: 'E:\\\\UIT\\\\HK4\\\\CS114_MachineLearning\\\\Code\\\\Motor\\\\Data\\\\Honda\\\\22520641.Honda.484 (1).jpeg'\n",
            "Error loading image ./Data\\Suzuki/22520968-22520996-22520999-22520929-22521373.Suzuki.498.jpg: [Errno 2] No such file or directory: 'E:\\\\UIT\\\\HK4\\\\CS114_MachineLearning\\\\Code\\\\Motor\\\\Data\\\\Suzuki\\\\22520968-22520996-22520999-22520929-22521373.Suzuki.498.jpg'\n",
            "Error loading image ./Data\\Suzuki/22520968-22520996-22520999-22520929-22521373.Suzuki.499.jpg: [Errno 2] No such file or directory: 'E:\\\\UIT\\\\HK4\\\\CS114_MachineLearning\\\\Code\\\\Motor\\\\Data\\\\Suzuki\\\\22520968-22520996-22520999-22520929-22521373.Suzuki.499.jpg'\n",
            "Error loading image ./Data\\Suzuki/22520968-22520996-22520999-22520929-22521373.Suzuki.501.jpg: [Errno 2] No such file or directory: 'E:\\\\UIT\\\\HK4\\\\CS114_MachineLearning\\\\Code\\\\Motor\\\\Data\\\\Suzuki\\\\22520968-22520996-22520999-22520929-22521373.Suzuki.501.jpg'\n",
            "Error loading image ./Data\\Suzuki/22520968-22520996-22520999-22520929-22521373.Suzuki.502.jpg: [Errno 2] No such file or directory: 'E:\\\\UIT\\\\HK4\\\\CS114_MachineLearning\\\\Code\\\\Motor\\\\Data\\\\Suzuki\\\\22520968-22520996-22520999-22520929-22521373.Suzuki.502.jpg'\n",
            "Error loading image ./Data\\Suzuki/22520968-22520996-22520999-22520929-22521373.Suzuki.503.jpg: [Errno 2] No such file or directory: 'E:\\\\UIT\\\\HK4\\\\CS114_MachineLearning\\\\Code\\\\Motor\\\\Data\\\\Suzuki\\\\22520968-22520996-22520999-22520929-22521373.Suzuki.503.jpg'\n",
            "Error loading image ./Data\\Suzuki/22520968-22520996-22520999-22520929-22521373.Suzuki.504.jpg: [Errno 2] No such file or directory: 'E:\\\\UIT\\\\HK4\\\\CS114_MachineLearning\\\\Code\\\\Motor\\\\Data\\\\Suzuki\\\\22520968-22520996-22520999-22520929-22521373.Suzuki.504.jpg'\n",
            "Error loading image ./Data\\Suzuki/22520968-22520996-22520999-22520929-22521373.Suzuki.505.jpg: [Errno 2] No such file or directory: 'E:\\\\UIT\\\\HK4\\\\CS114_MachineLearning\\\\Code\\\\Motor\\\\Data\\\\Suzuki\\\\22520968-22520996-22520999-22520929-22521373.Suzuki.505.jpg'\n",
            "Error loading image ./Data\\Suzuki/22520968-22520996-22520999-22520929-22521373.Suzuki.506.jpg: [Errno 2] No such file or directory: 'E:\\\\UIT\\\\HK4\\\\CS114_MachineLearning\\\\Code\\\\Motor\\\\Data\\\\Suzuki\\\\22520968-22520996-22520999-22520929-22521373.Suzuki.506.jpg'\n",
            "Error loading image ./Data\\Suzuki/22520968-22520996-22520999-22520929-22521373.Suzuki.507.jpg: [Errno 2] No such file or directory: 'E:\\\\UIT\\\\HK4\\\\CS114_MachineLearning\\\\Code\\\\Motor\\\\Data\\\\Suzuki\\\\22520968-22520996-22520999-22520929-22521373.Suzuki.507.jpg'\n",
            "Error loading image ./Data\\Suzuki/22520968-22520996-22520999-22520929-22521373.Suzuki.513.jpg: [Errno 2] No such file or directory: 'E:\\\\UIT\\\\HK4\\\\CS114_MachineLearning\\\\Code\\\\Motor\\\\Data\\\\Suzuki\\\\22520968-22520996-22520999-22520929-22521373.Suzuki.513.jpg'\n",
            "Error loading image ./Data\\Suzuki/22520968-22520996-22520999-22520929-22521373.Suzuki.514.jpg: [Errno 2] No such file or directory: 'E:\\\\UIT\\\\HK4\\\\CS114_MachineLearning\\\\Code\\\\Motor\\\\Data\\\\Suzuki\\\\22520968-22520996-22520999-22520929-22521373.Suzuki.514.jpg'\n",
            "Error loading image ./Data\\Suzuki/22520968-22520996-22520999-22520929-22521373.Suzuki.515.jpg: [Errno 2] No such file or directory: 'E:\\\\UIT\\\\HK4\\\\CS114_MachineLearning\\\\Code\\\\Motor\\\\Data\\\\Suzuki\\\\22520968-22520996-22520999-22520929-22521373.Suzuki.515.jpg'\n",
            "Error loading image ./Data\\Suzuki/22520968-22520996-22520999-22520929-22521373.Suzuki.516.jpg: [Errno 2] No such file or directory: 'E:\\\\UIT\\\\HK4\\\\CS114_MachineLearning\\\\Code\\\\Motor\\\\Data\\\\Suzuki\\\\22520968-22520996-22520999-22520929-22521373.Suzuki.516.jpg'\n",
            "Error loading image ./Data\\Suzuki/22520968-22520996-22520999-22520929-22521373.Suzuki.517.jpg: [Errno 2] No such file or directory: 'E:\\\\UIT\\\\HK4\\\\CS114_MachineLearning\\\\Code\\\\Motor\\\\Data\\\\Suzuki\\\\22520968-22520996-22520999-22520929-22521373.Suzuki.517.jpg'\n",
            "Error loading image ./Data\\Suzuki/22520968-22520996-22520999-22520929-22521373.Suzuki.518.jpg: [Errno 2] No such file or directory: 'E:\\\\UIT\\\\HK4\\\\CS114_MachineLearning\\\\Code\\\\Motor\\\\Data\\\\Suzuki\\\\22520968-22520996-22520999-22520929-22521373.Suzuki.518.jpg'\n",
            "Error loading image ./Data\\Suzuki/22520968-22520996-22520999-22520929-22521373.Suzuki.519.jpg: [Errno 2] No such file or directory: 'E:\\\\UIT\\\\HK4\\\\CS114_MachineLearning\\\\Code\\\\Motor\\\\Data\\\\Suzuki\\\\22520968-22520996-22520999-22520929-22521373.Suzuki.519.jpg'\n",
            "Error loading image ./Data\\Suzuki/22520968-22520996-22520999-22520929-22521373.Suzuki.520.jpg: [Errno 2] No such file or directory: 'E:\\\\UIT\\\\HK4\\\\CS114_MachineLearning\\\\Code\\\\Motor\\\\Data\\\\Suzuki\\\\22520968-22520996-22520999-22520929-22521373.Suzuki.520.jpg'\n",
            "Error loading image ./Data\\Suzuki/22520968-22520996-22520999-22520929-22521373.Suzuki.521.jpg: [Errno 2] No such file or directory: 'E:\\\\UIT\\\\HK4\\\\CS114_MachineLearning\\\\Code\\\\Motor\\\\Data\\\\Suzuki\\\\22520968-22520996-22520999-22520929-22521373.Suzuki.521.jpg'\n",
            "Error loading image ./Data\\Suzuki/22520968-22520996-22520999-22520929-22521373.Suzuki.522.jpg: [Errno 2] No such file or directory: 'E:\\\\UIT\\\\HK4\\\\CS114_MachineLearning\\\\Code\\\\Motor\\\\Data\\\\Suzuki\\\\22520968-22520996-22520999-22520929-22521373.Suzuki.522.jpg'\n",
            "Error loading image ./Data\\Suzuki/22520968-22520996-22520999-22520929-22521373.Suzuki.523.jpg: [Errno 2] No such file or directory: 'E:\\\\UIT\\\\HK4\\\\CS114_MachineLearning\\\\Code\\\\Motor\\\\Data\\\\Suzuki\\\\22520968-22520996-22520999-22520929-22521373.Suzuki.523.jpg'\n",
            "Error loading image ./Data\\Suzuki/22520968-22520996-22520999-22520929-22521373.Suzuki.524.jpg: [Errno 2] No such file or directory: 'E:\\\\UIT\\\\HK4\\\\CS114_MachineLearning\\\\Code\\\\Motor\\\\Data\\\\Suzuki\\\\22520968-22520996-22520999-22520929-22521373.Suzuki.524.jpg'\n",
            "Error loading image ./Data\\Suzuki/22520968-22520996-22520999-22520929-22521373.Suzuki.525.jpg: [Errno 2] No such file or directory: 'E:\\\\UIT\\\\HK4\\\\CS114_MachineLearning\\\\Code\\\\Motor\\\\Data\\\\Suzuki\\\\22520968-22520996-22520999-22520929-22521373.Suzuki.525.jpg'\n",
            "Error loading image ./Data\\Suzuki/22520968-22520996-22520999-22520929-22521373.Suzuki.526.jpg: [Errno 2] No such file or directory: 'E:\\\\UIT\\\\HK4\\\\CS114_MachineLearning\\\\Code\\\\Motor\\\\Data\\\\Suzuki\\\\22520968-22520996-22520999-22520929-22521373.Suzuki.526.jpg'\n",
            "Error loading image ./Data\\Suzuki/22520968-22520996-22520999-22520929-22521373.Suzuki.527.jpg: [Errno 2] No such file or directory: 'E:\\\\UIT\\\\HK4\\\\CS114_MachineLearning\\\\Code\\\\Motor\\\\Data\\\\Suzuki\\\\22520968-22520996-22520999-22520929-22521373.Suzuki.527.jpg'\n",
            "Error loading image ./Data\\Suzuki/22520968-22520996-22520999-22520929-22521373.Suzuki.103.jpg: [Errno 2] No such file or directory: 'E:\\\\UIT\\\\HK4\\\\CS114_MachineLearning\\\\Code\\\\Motor\\\\Data\\\\Suzuki\\\\22520968-22520996-22520999-22520929-22521373.Suzuki.103.jpg'\n",
            "Error loading image ./Data\\Suzuki/22520968-22520996-22520999-22520929-22521373.Suzuki.171.jpg: [Errno 2] No such file or directory: 'E:\\\\UIT\\\\HK4\\\\CS114_MachineLearning\\\\Code\\\\Motor\\\\Data\\\\Suzuki\\\\22520968-22520996-22520999-22520929-22521373.Suzuki.171.jpg'\n",
            "Error loading image ./Data\\Suzuki/22520968-22520996-22520999-22520929-22521373.Suzuki.172.jpg: [Errno 2] No such file or directory: 'E:\\\\UIT\\\\HK4\\\\CS114_MachineLearning\\\\Code\\\\Motor\\\\Data\\\\Suzuki\\\\22520968-22520996-22520999-22520929-22521373.Suzuki.172.jpg'\n",
            "Error loading image ./Data\\Suzuki/22520968-22520996-22520999-22520929-22521373.Suzuki.173.jpg: [Errno 2] No such file or directory: 'E:\\\\UIT\\\\HK4\\\\CS114_MachineLearning\\\\Code\\\\Motor\\\\Data\\\\Suzuki\\\\22520968-22520996-22520999-22520929-22521373.Suzuki.173.jpg'\n",
            "Error loading image ./Data\\Suzuki/22520968-22520996-22520999-22520929-22521373.Suzuki.174.jpg: [Errno 2] No such file or directory: 'E:\\\\UIT\\\\HK4\\\\CS114_MachineLearning\\\\Code\\\\Motor\\\\Data\\\\Suzuki\\\\22520968-22520996-22520999-22520929-22521373.Suzuki.174.jpg'\n",
            "Error loading image ./Data\\Suzuki/22520968-22520996-22520999-22520929-22521373.Suzuki.175.jpg: [Errno 2] No such file or directory: 'E:\\\\UIT\\\\HK4\\\\CS114_MachineLearning\\\\Code\\\\Motor\\\\Data\\\\Suzuki\\\\22520968-22520996-22520999-22520929-22521373.Suzuki.175.jpg'\n",
            "Error loading image ./Data\\Suzuki/22520968-22520996-22520999-22520929-22521373.Suzuki.176.jpg: [Errno 2] No such file or directory: 'E:\\\\UIT\\\\HK4\\\\CS114_MachineLearning\\\\Code\\\\Motor\\\\Data\\\\Suzuki\\\\22520968-22520996-22520999-22520929-22521373.Suzuki.176.jpg'\n",
            "Error loading image ./Data\\Suzuki/22520968-22520996-22520999-22520929-22521373.Suzuki.180.jpg: [Errno 2] No such file or directory: 'E:\\\\UIT\\\\HK4\\\\CS114_MachineLearning\\\\Code\\\\Motor\\\\Data\\\\Suzuki\\\\22520968-22520996-22520999-22520929-22521373.Suzuki.180.jpg'\n",
            "Error loading image ./Data\\Suzuki/22520968-22520996-22520999-22520929-22521373.Suzuki.195.jpg: [Errno 2] No such file or directory: 'E:\\\\UIT\\\\HK4\\\\CS114_MachineLearning\\\\Code\\\\Motor\\\\Data\\\\Suzuki\\\\22520968-22520996-22520999-22520929-22521373.Suzuki.195.jpg'\n",
            "Error loading image ./Data\\Suzuki/22520968-22520996-22520999-22520929-22521373.Suzuki.196.jpg: [Errno 2] No such file or directory: 'E:\\\\UIT\\\\HK4\\\\CS114_MachineLearning\\\\Code\\\\Motor\\\\Data\\\\Suzuki\\\\22520968-22520996-22520999-22520929-22521373.Suzuki.196.jpg'\n",
            "Error loading image ./Data\\Suzuki/22520968-22520996-22520999-22520929-22521373.Suzuki.197.jpg: [Errno 2] No such file or directory: 'E:\\\\UIT\\\\HK4\\\\CS114_MachineLearning\\\\Code\\\\Motor\\\\Data\\\\Suzuki\\\\22520968-22520996-22520999-22520929-22521373.Suzuki.197.jpg'\n",
            "Error loading image ./Data\\Suzuki/22520968-22520996-22520999-22520929-22521373.Suzuki.198.jpg: [Errno 2] No such file or directory: 'E:\\\\UIT\\\\HK4\\\\CS114_MachineLearning\\\\Code\\\\Motor\\\\Data\\\\Suzuki\\\\22520968-22520996-22520999-22520929-22521373.Suzuki.198.jpg'\n",
            "Error loading image ./Data\\Suzuki/22520968-22520996-22520999-22520929-22521373.Suzuki.199.jpg: [Errno 2] No such file or directory: 'E:\\\\UIT\\\\HK4\\\\CS114_MachineLearning\\\\Code\\\\Motor\\\\Data\\\\Suzuki\\\\22520968-22520996-22520999-22520929-22521373.Suzuki.199.jpg'\n",
            "Error loading image ./Data\\Suzuki/22520968-22520996-22520999-22520929-22521373.Suzuki.207.jpg: [Errno 2] No such file or directory: 'E:\\\\UIT\\\\HK4\\\\CS114_MachineLearning\\\\Code\\\\Motor\\\\Data\\\\Suzuki\\\\22520968-22520996-22520999-22520929-22521373.Suzuki.207.jpg'\n",
            "Error loading image ./Data\\Suzuki/22520968-22520996-22520999-22520929-22521373.Suzuki.209.jpg: [Errno 2] No such file or directory: 'E:\\\\UIT\\\\HK4\\\\CS114_MachineLearning\\\\Code\\\\Motor\\\\Data\\\\Suzuki\\\\22520968-22520996-22520999-22520929-22521373.Suzuki.209.jpg'\n",
            "Error loading image ./Data\\Suzuki/22520968-22520996-22520999-22520929-22521373.Suzuki.211.jpg: [Errno 2] No such file or directory: 'E:\\\\UIT\\\\HK4\\\\CS114_MachineLearning\\\\Code\\\\Motor\\\\Data\\\\Suzuki\\\\22520968-22520996-22520999-22520929-22521373.Suzuki.211.jpg'\n",
            "Error loading image ./Data\\Suzuki/22520968-22520996-22520999-22520929-22521373.Suzuki.212.jpg: [Errno 2] No such file or directory: 'E:\\\\UIT\\\\HK4\\\\CS114_MachineLearning\\\\Code\\\\Motor\\\\Data\\\\Suzuki\\\\22520968-22520996-22520999-22520929-22521373.Suzuki.212.jpg'\n",
            "Error loading image ./Data\\Suzuki/22520968-22520996-22520999-22520929-22521373.Suzuki.213.jpg: [Errno 2] No such file or directory: 'E:\\\\UIT\\\\HK4\\\\CS114_MachineLearning\\\\Code\\\\Motor\\\\Data\\\\Suzuki\\\\22520968-22520996-22520999-22520929-22521373.Suzuki.213.jpg'\n",
            "Error loading image ./Data\\Suzuki/22520968-22520996-22520999-22520929-22521373.Suzuki.215.jpg: [Errno 2] No such file or directory: 'E:\\\\UIT\\\\HK4\\\\CS114_MachineLearning\\\\Code\\\\Motor\\\\Data\\\\Suzuki\\\\22520968-22520996-22520999-22520929-22521373.Suzuki.215.jpg'\n",
            "Error loading image ./Data\\Suzuki/22520968-22520996-22520999-22520929-22521373.Suzuki.235.jpg: [Errno 2] No such file or directory: 'E:\\\\UIT\\\\HK4\\\\CS114_MachineLearning\\\\Code\\\\Motor\\\\Data\\\\Suzuki\\\\22520968-22520996-22520999-22520929-22521373.Suzuki.235.jpg'\n",
            "Error loading image ./Data\\Suzuki/22520968-22520996-22520999-22520929-22521373.Suzuki.236.jpg: [Errno 2] No such file or directory: 'E:\\\\UIT\\\\HK4\\\\CS114_MachineLearning\\\\Code\\\\Motor\\\\Data\\\\Suzuki\\\\22520968-22520996-22520999-22520929-22521373.Suzuki.236.jpg'\n",
            "Error loading image ./Data\\Suzuki/22520968-22520996-22520999-22520929-22521373.Suzuki.238.jpg: [Errno 2] No such file or directory: 'E:\\\\UIT\\\\HK4\\\\CS114_MachineLearning\\\\Code\\\\Motor\\\\Data\\\\Suzuki\\\\22520968-22520996-22520999-22520929-22521373.Suzuki.238.jpg'\n",
            "Error loading image ./Data\\Suzuki/22520968-22520996-22520999-22520929-22521373.Suzuki.1 (1).jpg: [Errno 2] No such file or directory: 'E:\\\\UIT\\\\HK4\\\\CS114_MachineLearning\\\\Code\\\\Motor\\\\Data\\\\Suzuki\\\\22520968-22520996-22520999-22520929-22521373.Suzuki.1 (1).jpg'\n",
            "Error loading image ./Data\\Suzuki/22520968-22520996-22520999-22520929-22521373.Suzuki.3 (1).jpg: [Errno 2] No such file or directory: 'E:\\\\UIT\\\\HK4\\\\CS114_MachineLearning\\\\Code\\\\Motor\\\\Data\\\\Suzuki\\\\22520968-22520996-22520999-22520929-22521373.Suzuki.3 (1).jpg'\n",
            "Error loading image ./Data\\Suzuki/22520968-22520996-22520999-22520929-22521373.Suzuki.4 (1).jpg: [Errno 2] No such file or directory: 'E:\\\\UIT\\\\HK4\\\\CS114_MachineLearning\\\\Code\\\\Motor\\\\Data\\\\Suzuki\\\\22520968-22520996-22520999-22520929-22521373.Suzuki.4 (1).jpg'\n",
            "Error loading image ./Data\\Suzuki/22520968-22520996-22520999-22520929-22521373.Suzuki.7.png: [Errno 2] No such file or directory: 'E:\\\\UIT\\\\HK4\\\\CS114_MachineLearning\\\\Code\\\\Motor\\\\Data\\\\Suzuki\\\\22520968-22520996-22520999-22520929-22521373.Suzuki.7.png'\n",
            "Error loading image ./Data\\Suzuki/22520968-22520996-22520999-22520929-22521373.Suzuki.15.jpeg: [Errno 2] No such file or directory: 'E:\\\\UIT\\\\HK4\\\\CS114_MachineLearning\\\\Code\\\\Motor\\\\Data\\\\Suzuki\\\\22520968-22520996-22520999-22520929-22521373.Suzuki.15.jpeg'\n",
            "Error loading image ./Data\\Suzuki/22520968-22520996-22520999-22520929-22521373.Suzuki.16.jpeg: [Errno 2] No such file or directory: 'E:\\\\UIT\\\\HK4\\\\CS114_MachineLearning\\\\Code\\\\Motor\\\\Data\\\\Suzuki\\\\22520968-22520996-22520999-22520929-22521373.Suzuki.16.jpeg'\n",
            "Error loading image ./Data\\Suzuki/22520968-22520996-22520999-22520929-22521373.Suzuki.17.jpeg: [Errno 2] No such file or directory: 'E:\\\\UIT\\\\HK4\\\\CS114_MachineLearning\\\\Code\\\\Motor\\\\Data\\\\Suzuki\\\\22520968-22520996-22520999-22520929-22521373.Suzuki.17.jpeg'\n",
            "Error loading image ./Data\\Suzuki/22520968-22520996-22520999-22520929-22521373.Suzuki.19.png: [Errno 2] No such file or directory: 'E:\\\\UIT\\\\HK4\\\\CS114_MachineLearning\\\\Code\\\\Motor\\\\Data\\\\Suzuki\\\\22520968-22520996-22520999-22520929-22521373.Suzuki.19.png'\n",
            "Error loading image ./Data\\Suzuki/22520968-22520996-22520999-22520929-22521373.Suzuki.21.png: [Errno 2] No such file or directory: 'E:\\\\UIT\\\\HK4\\\\CS114_MachineLearning\\\\Code\\\\Motor\\\\Data\\\\Suzuki\\\\22520968-22520996-22520999-22520929-22521373.Suzuki.21.png'\n",
            "Error loading image ./Data\\Suzuki/22520968-22520996-22520999-22520929-22521373.Suzuki.22.png: [Errno 2] No such file or directory: 'E:\\\\UIT\\\\HK4\\\\CS114_MachineLearning\\\\Code\\\\Motor\\\\Data\\\\Suzuki\\\\22520968-22520996-22520999-22520929-22521373.Suzuki.22.png'\n",
            "Error loading image ./Data\\Suzuki/22520968-22520996-22520999-22520929-22521373.Suzuki.23.jpeg: [Errno 2] No such file or directory: 'E:\\\\UIT\\\\HK4\\\\CS114_MachineLearning\\\\Code\\\\Motor\\\\Data\\\\Suzuki\\\\22520968-22520996-22520999-22520929-22521373.Suzuki.23.jpeg'\n",
            "Error loading image ./Data\\Suzuki/22520968-22520996-22520999-22520929-22521373.Suzuki.24.png: [Errno 2] No such file or directory: 'E:\\\\UIT\\\\HK4\\\\CS114_MachineLearning\\\\Code\\\\Motor\\\\Data\\\\Suzuki\\\\22520968-22520996-22520999-22520929-22521373.Suzuki.24.png'\n",
            "Error loading image ./Data\\Suzuki/22520968-22520996-22520999-22520929-22521373.Suzuki.34.png: [Errno 2] No such file or directory: 'E:\\\\UIT\\\\HK4\\\\CS114_MachineLearning\\\\Code\\\\Motor\\\\Data\\\\Suzuki\\\\22520968-22520996-22520999-22520929-22521373.Suzuki.34.png'\n",
            "Error loading image ./Data\\Suzuki/22520968-22520996-22520999-22520929-22521373.Suzuki.42.png: [Errno 2] No such file or directory: 'E:\\\\UIT\\\\HK4\\\\CS114_MachineLearning\\\\Code\\\\Motor\\\\Data\\\\Suzuki\\\\22520968-22520996-22520999-22520929-22521373.Suzuki.42.png'\n",
            "Error loading image ./Data\\Suzuki/22520968-22520996-22520999-22520929-22521373.Suzuki.72.png: [Errno 2] No such file or directory: 'E:\\\\UIT\\\\HK4\\\\CS114_MachineLearning\\\\Code\\\\Motor\\\\Data\\\\Suzuki\\\\22520968-22520996-22520999-22520929-22521373.Suzuki.72.png'\n",
            "Error loading image ./Data\\Suzuki/22520968-22520996-22520999-22520929-22521373.Suzuki.78.png: [Errno 2] No such file or directory: 'E:\\\\UIT\\\\HK4\\\\CS114_MachineLearning\\\\Code\\\\Motor\\\\Data\\\\Suzuki\\\\22520968-22520996-22520999-22520929-22521373.Suzuki.78.png'\n",
            "Error loading image ./Data\\Suzuki/22520968-22520996-22520999-22520929-22521373.Suzuki.84.jpeg: [Errno 2] No such file or directory: 'E:\\\\UIT\\\\HK4\\\\CS114_MachineLearning\\\\Code\\\\Motor\\\\Data\\\\Suzuki\\\\22520968-22520996-22520999-22520929-22521373.Suzuki.84.jpeg'\n",
            "Error loading image ./Data\\Suzuki/22520968-22520996-22520999-22520929-22521373.Suzuki.86.jpeg: [Errno 2] No such file or directory: 'E:\\\\UIT\\\\HK4\\\\CS114_MachineLearning\\\\Code\\\\Motor\\\\Data\\\\Suzuki\\\\22520968-22520996-22520999-22520929-22521373.Suzuki.86.jpeg'\n",
            "Error loading image ./Data\\Suzuki/22520968-22520996-22520999-22520929-22521373.Suzuki.88.jpeg: [Errno 2] No such file or directory: 'E:\\\\UIT\\\\HK4\\\\CS114_MachineLearning\\\\Code\\\\Motor\\\\Data\\\\Suzuki\\\\22520968-22520996-22520999-22520929-22521373.Suzuki.88.jpeg'\n",
            "Error loading image ./Data\\Suzuki/22520968-22520996-22520999-22520929-22521373.Suzuki.89.jpeg: [Errno 2] No such file or directory: 'E:\\\\UIT\\\\HK4\\\\CS114_MachineLearning\\\\Code\\\\Motor\\\\Data\\\\Suzuki\\\\22520968-22520996-22520999-22520929-22521373.Suzuki.89.jpeg'\n",
            "Error loading image ./Data\\Suzuki/22520968-22520996-22520999-22520929-22521373.Suzuki.90.jpeg: [Errno 2] No such file or directory: 'E:\\\\UIT\\\\HK4\\\\CS114_MachineLearning\\\\Code\\\\Motor\\\\Data\\\\Suzuki\\\\22520968-22520996-22520999-22520929-22521373.Suzuki.90.jpeg'\n",
            "Error loading image ./Data\\Suzuki/22520968-22520996-22520999-22520929-22521373.Suzuki.91.jpeg: [Errno 2] No such file or directory: 'E:\\\\UIT\\\\HK4\\\\CS114_MachineLearning\\\\Code\\\\Motor\\\\Data\\\\Suzuki\\\\22520968-22520996-22520999-22520929-22521373.Suzuki.91.jpeg'\n",
            "Error loading image ./Data\\Suzuki/22520968-22520996-22520999-22520929-22521373.Suzuki.95.jpeg: [Errno 2] No such file or directory: 'E:\\\\UIT\\\\HK4\\\\CS114_MachineLearning\\\\Code\\\\Motor\\\\Data\\\\Suzuki\\\\22520968-22520996-22520999-22520929-22521373.Suzuki.95.jpeg'\n",
            "Error loading image ./Data\\Suzuki/22520968-22520996-22520999-22520929-22521373.Suzuki.96.jpeg: [Errno 2] No such file or directory: 'E:\\\\UIT\\\\HK4\\\\CS114_MachineLearning\\\\Code\\\\Motor\\\\Data\\\\Suzuki\\\\22520968-22520996-22520999-22520929-22521373.Suzuki.96.jpeg'\n",
            "Error loading image ./Data\\Suzuki/22520968-22520996-22520999-22520929-22521373.Suzuki.97.jpeg: [Errno 2] No such file or directory: 'E:\\\\UIT\\\\HK4\\\\CS114_MachineLearning\\\\Code\\\\Motor\\\\Data\\\\Suzuki\\\\22520968-22520996-22520999-22520929-22521373.Suzuki.97.jpeg'\n",
            "Error loading image ./Data\\Suzuki/22520968-22520996-22520999-22520929-22521373.Suzuki.98.jpeg: [Errno 2] No such file or directory: 'E:\\\\UIT\\\\HK4\\\\CS114_MachineLearning\\\\Code\\\\Motor\\\\Data\\\\Suzuki\\\\22520968-22520996-22520999-22520929-22521373.Suzuki.98.jpeg'\n",
            "Error loading image ./Data\\Suzuki/22520968-22520996-22520999-22520929-22521373.Suzuki.99.jpeg: [Errno 2] No such file or directory: 'E:\\\\UIT\\\\HK4\\\\CS114_MachineLearning\\\\Code\\\\Motor\\\\Data\\\\Suzuki\\\\22520968-22520996-22520999-22520929-22521373.Suzuki.99.jpeg'\n",
            "Error loading image ./Data\\Suzuki/22520968-22520996-22520999-22520929-22521373.Suzuki.100.jpeg: [Errno 2] No such file or directory: 'E:\\\\UIT\\\\HK4\\\\CS114_MachineLearning\\\\Code\\\\Motor\\\\Data\\\\Suzuki\\\\22520968-22520996-22520999-22520929-22521373.Suzuki.100.jpeg'\n",
            "Error loading image ./Data\\Suzuki/22520968-22520996-22520999-22520929-22521373.Suzuki.101.jpeg: [Errno 2] No such file or directory: 'E:\\\\UIT\\\\HK4\\\\CS114_MachineLearning\\\\Code\\\\Motor\\\\Data\\\\Suzuki\\\\22520968-22520996-22520999-22520929-22521373.Suzuki.101.jpeg'\n",
            "Error loading image ./Data\\Suzuki/22520968-22520996-22520999-22520929-22521373.Suzuki.102.jpeg: [Errno 2] No such file or directory: 'E:\\\\UIT\\\\HK4\\\\CS114_MachineLearning\\\\Code\\\\Motor\\\\Data\\\\Suzuki\\\\22520968-22520996-22520999-22520929-22521373.Suzuki.102.jpeg'\n",
            "Error loading image ./Data\\Suzuki/22520968-22520996-22520999-22520929-22521373.Suzuki.104.jpeg: [Errno 2] No such file or directory: 'E:\\\\UIT\\\\HK4\\\\CS114_MachineLearning\\\\Code\\\\Motor\\\\Data\\\\Suzuki\\\\22520968-22520996-22520999-22520929-22521373.Suzuki.104.jpeg'\n",
            "Error loading image ./Data\\VinFast/22520968-22520996-22520999-22520929-22521373.VinFast.142.jpg: [Errno 2] No such file or directory: 'E:\\\\UIT\\\\HK4\\\\CS114_MachineLearning\\\\Code\\\\Motor\\\\Data\\\\VinFast\\\\22520968-22520996-22520999-22520929-22521373.VinFast.142.jpg'\n",
            "Error loading image ./Data\\VinFast/22520968-22520996-22520999-22520929-22521373.VinFast.148.jpg: [Errno 2] No such file or directory: 'E:\\\\UIT\\\\HK4\\\\CS114_MachineLearning\\\\Code\\\\Motor\\\\Data\\\\VinFast\\\\22520968-22520996-22520999-22520929-22521373.VinFast.148.jpg'\n",
            "Error loading image ./Data\\VinFast/22520968-22520996-22520999-22520929-22521373.VinFast.154.jpg: [Errno 2] No such file or directory: 'E:\\\\UIT\\\\HK4\\\\CS114_MachineLearning\\\\Code\\\\Motor\\\\Data\\\\VinFast\\\\22520968-22520996-22520999-22520929-22521373.VinFast.154.jpg'\n",
            "Error loading image ./Data\\VinFast/22520968-22520996-22520999-22520929-22521373.VinFast.213.jpg: [Errno 2] No such file or directory: 'E:\\\\UIT\\\\HK4\\\\CS114_MachineLearning\\\\Code\\\\Motor\\\\Data\\\\VinFast\\\\22520968-22520996-22520999-22520929-22521373.VinFast.213.jpg'\n",
            "Error loading image ./Data\\VinFast/22520968-22520996-22520999-22520929-22521373.VinFast.267.jpg: [Errno 2] No such file or directory: 'E:\\\\UIT\\\\HK4\\\\CS114_MachineLearning\\\\Code\\\\Motor\\\\Data\\\\VinFast\\\\22520968-22520996-22520999-22520929-22521373.VinFast.267.jpg'\n",
            "Error loading image ./Data\\VinFast/22520968-22520996-22520999-22520929-22521373.VinFast.311.jpg: cannot identify image file 'E:\\\\UIT\\\\HK4\\\\CS114_MachineLearning\\\\Code\\\\Motor\\\\Data\\\\VinFast\\\\22520968-22520996-22520999-22520929-22521373.VinFast.311.jpg'\n",
            "Error loading image ./Data\\VinFast/22520968-22520996-22520999-22520929-22521373.VinFast.313.jpg: cannot identify image file 'E:\\\\UIT\\\\HK4\\\\CS114_MachineLearning\\\\Code\\\\Motor\\\\Data\\\\VinFast\\\\22520968-22520996-22520999-22520929-22521373.VinFast.313.jpg'\n",
            "Error loading image ./Data\\VinFast/22520968-22520996-22520999-22520929-22521373.VinFast.398.jpg: [Errno 2] No such file or directory: 'E:\\\\UIT\\\\HK4\\\\CS114_MachineLearning\\\\Code\\\\Motor\\\\Data\\\\VinFast\\\\22520968-22520996-22520999-22520929-22521373.VinFast.398.jpg'\n",
            "Error loading image ./Data\\VinFast/22520968-22520996-22520999-22520929-22521373.VinFast.1.png: [Errno 2] No such file or directory: 'E:\\\\UIT\\\\HK4\\\\CS114_MachineLearning\\\\Code\\\\Motor\\\\Data\\\\VinFast\\\\22520968-22520996-22520999-22520929-22521373.VinFast.1.png'\n",
            "Error loading image ./Data\\VinFast/22520968-22520996-22520999-22520929-22521373.VinFast.3.jpeg: [Errno 2] No such file or directory: 'E:\\\\UIT\\\\HK4\\\\CS114_MachineLearning\\\\Code\\\\Motor\\\\Data\\\\VinFast\\\\22520968-22520996-22520999-22520929-22521373.VinFast.3.jpeg'\n",
            "Error loading image ./Data\\VinFast/22520968-22520996-22520999-22520929-22521373.VinFast.4.jpeg: [Errno 2] No such file or directory: 'E:\\\\UIT\\\\HK4\\\\CS114_MachineLearning\\\\Code\\\\Motor\\\\Data\\\\VinFast\\\\22520968-22520996-22520999-22520929-22521373.VinFast.4.jpeg'\n",
            "Error loading image ./Data\\VinFast/22520968-22520996-22520999-22520929-22521373.VinFast.5.png: [Errno 2] No such file or directory: 'E:\\\\UIT\\\\HK4\\\\CS114_MachineLearning\\\\Code\\\\Motor\\\\Data\\\\VinFast\\\\22520968-22520996-22520999-22520929-22521373.VinFast.5.png'\n",
            "Error loading image ./Data\\VinFast/22520968-22520996-22520999-22520929-22521373.VinFast.6.png: [Errno 2] No such file or directory: 'E:\\\\UIT\\\\HK4\\\\CS114_MachineLearning\\\\Code\\\\Motor\\\\Data\\\\VinFast\\\\22520968-22520996-22520999-22520929-22521373.VinFast.6.png'\n",
            "Error loading image ./Data\\VinFast/22520968-22520996-22520999-22520929-22521373.VinFast.7.png: [Errno 2] No such file or directory: 'E:\\\\UIT\\\\HK4\\\\CS114_MachineLearning\\\\Code\\\\Motor\\\\Data\\\\VinFast\\\\22520968-22520996-22520999-22520929-22521373.VinFast.7.png'\n",
            "Error loading image ./Data\\VinFast/22520968-22520996-22520999-22520929-22521373.VinFast.8.png: [Errno 2] No such file or directory: 'E:\\\\UIT\\\\HK4\\\\CS114_MachineLearning\\\\Code\\\\Motor\\\\Data\\\\VinFast\\\\22520968-22520996-22520999-22520929-22521373.VinFast.8.png'\n",
            "Error loading image ./Data\\VinFast/22520968-22520996-22520999-22520929-22521373.VinFast.9.png: [Errno 2] No such file or directory: 'E:\\\\UIT\\\\HK4\\\\CS114_MachineLearning\\\\Code\\\\Motor\\\\Data\\\\VinFast\\\\22520968-22520996-22520999-22520929-22521373.VinFast.9.png'\n",
            "Error loading image ./Data\\VinFast/22520968-22520996-22520999-22520929-22521373.VinFast.10.png: [Errno 2] No such file or directory: 'E:\\\\UIT\\\\HK4\\\\CS114_MachineLearning\\\\Code\\\\Motor\\\\Data\\\\VinFast\\\\22520968-22520996-22520999-22520929-22521373.VinFast.10.png'\n",
            "Error loading image ./Data\\VinFast/22520968-22520996-22520999-22520929-22521373.VinFast.11.png: [Errno 2] No such file or directory: 'E:\\\\UIT\\\\HK4\\\\CS114_MachineLearning\\\\Code\\\\Motor\\\\Data\\\\VinFast\\\\22520968-22520996-22520999-22520929-22521373.VinFast.11.png'\n",
            "Error loading image ./Data\\VinFast/22520968-22520996-22520999-22520929-22521373.VinFast.12.png: [Errno 2] No such file or directory: 'E:\\\\UIT\\\\HK4\\\\CS114_MachineLearning\\\\Code\\\\Motor\\\\Data\\\\VinFast\\\\22520968-22520996-22520999-22520929-22521373.VinFast.12.png'\n",
            "Error loading image ./Data\\VinFast/22520968-22520996-22520999-22520929-22521373.VinFast.15.png: [Errno 2] No such file or directory: 'E:\\\\UIT\\\\HK4\\\\CS114_MachineLearning\\\\Code\\\\Motor\\\\Data\\\\VinFast\\\\22520968-22520996-22520999-22520929-22521373.VinFast.15.png'\n",
            "Error loading image ./Data\\VinFast/22520968-22520996-22520999-22520929-22521373.VinFast.17.png: [Errno 2] No such file or directory: 'E:\\\\UIT\\\\HK4\\\\CS114_MachineLearning\\\\Code\\\\Motor\\\\Data\\\\VinFast\\\\22520968-22520996-22520999-22520929-22521373.VinFast.17.png'\n",
            "Error loading image ./Data\\VinFast/22520968-22520996-22520999-22520929-22521373.VinFast.18.png: [Errno 2] No such file or directory: 'E:\\\\UIT\\\\HK4\\\\CS114_MachineLearning\\\\Code\\\\Motor\\\\Data\\\\VinFast\\\\22520968-22520996-22520999-22520929-22521373.VinFast.18.png'\n",
            "Error loading image ./Data\\VinFast/22520968-22520996-22520999-22520929-22521373.VinFast.20.png: [Errno 2] No such file or directory: 'E:\\\\UIT\\\\HK4\\\\CS114_MachineLearning\\\\Code\\\\Motor\\\\Data\\\\VinFast\\\\22520968-22520996-22520999-22520929-22521373.VinFast.20.png'\n",
            "Error loading image ./Data\\VinFast/22520968-22520996-22520999-22520929-22521373.VinFast.21.png: [Errno 2] No such file or directory: 'E:\\\\UIT\\\\HK4\\\\CS114_MachineLearning\\\\Code\\\\Motor\\\\Data\\\\VinFast\\\\22520968-22520996-22520999-22520929-22521373.VinFast.21.png'\n",
            "Error loading image ./Data\\VinFast/22520968-22520996-22520999-22520929-22521373.VinFast.24.png: [Errno 2] No such file or directory: 'E:\\\\UIT\\\\HK4\\\\CS114_MachineLearning\\\\Code\\\\Motor\\\\Data\\\\VinFast\\\\22520968-22520996-22520999-22520929-22521373.VinFast.24.png'\n",
            "Error loading image ./Data\\VinFast/22520968-22520996-22520999-22520929-22521373.VinFast.25.png: [Errno 2] No such file or directory: 'E:\\\\UIT\\\\HK4\\\\CS114_MachineLearning\\\\Code\\\\Motor\\\\Data\\\\VinFast\\\\22520968-22520996-22520999-22520929-22521373.VinFast.25.png'\n",
            "Error loading image ./Data\\VinFast/22520356-22520424-22520460-22520467-22521129.VinFast.50 (1).jpg: [Errno 2] No such file or directory: 'E:\\\\UIT\\\\HK4\\\\CS114_MachineLearning\\\\Code\\\\Motor\\\\Data\\\\VinFast\\\\22520356-22520424-22520460-22520467-22521129.VinFast.50 (1).jpg'\n",
            "Error loading image ./Data\\Yamaha/22520968-22520996-22520999-22520929-22521373.Yamaha.255.jpg: [Errno 2] No such file or directory: 'E:\\\\UIT\\\\HK4\\\\CS114_MachineLearning\\\\Code\\\\Motor\\\\Data\\\\Yamaha\\\\22520968-22520996-22520999-22520929-22521373.Yamaha.255.jpg'\n",
            "Error loading image ./Data\\Yamaha/22520968-22520996-22520999-22520929-22521373.Yamaha.258.jpg: [Errno 2] No such file or directory: 'E:\\\\UIT\\\\HK4\\\\CS114_MachineLearning\\\\Code\\\\Motor\\\\Data\\\\Yamaha\\\\22520968-22520996-22520999-22520929-22521373.Yamaha.258.jpg'\n",
            "Error loading image ./Data\\Yamaha/22520968-22520996-22520999-22520929-22521373.Yamaha.267.jpg: [Errno 2] No such file or directory: 'E:\\\\UIT\\\\HK4\\\\CS114_MachineLearning\\\\Code\\\\Motor\\\\Data\\\\Yamaha\\\\22520968-22520996-22520999-22520929-22521373.Yamaha.267.jpg'\n",
            "Error loading image ./Data\\Yamaha/22520968-22520996-22520999-22520929-22521373.Yamaha.270.jpg: [Errno 2] No such file or directory: 'E:\\\\UIT\\\\HK4\\\\CS114_MachineLearning\\\\Code\\\\Motor\\\\Data\\\\Yamaha\\\\22520968-22520996-22520999-22520929-22521373.Yamaha.270.jpg'\n",
            "Error loading image ./Data\\Yamaha/22520968-22520996-22520999-22520929-22521373.Yamaha.287.jpg: [Errno 2] No such file or directory: 'E:\\\\UIT\\\\HK4\\\\CS114_MachineLearning\\\\Code\\\\Motor\\\\Data\\\\Yamaha\\\\22520968-22520996-22520999-22520929-22521373.Yamaha.287.jpg'\n",
            "Error loading image ./Data\\Yamaha/22520968-22520996-22520999-22520929-22521373.Yamaha.305.jpg: [Errno 2] No such file or directory: 'E:\\\\UIT\\\\HK4\\\\CS114_MachineLearning\\\\Code\\\\Motor\\\\Data\\\\Yamaha\\\\22520968-22520996-22520999-22520929-22521373.Yamaha.305.jpg'\n",
            "Error loading image ./Data\\Yamaha/22520968-22520996-22520999-22520929-22521373.Yamaha.381.jpg: [Errno 2] No such file or directory: 'E:\\\\UIT\\\\HK4\\\\CS114_MachineLearning\\\\Code\\\\Motor\\\\Data\\\\Yamaha\\\\22520968-22520996-22520999-22520929-22521373.Yamaha.381.jpg'\n",
            "Error loading image ./Data\\Yamaha/22520968-22520996-22520999-22520929-22521373.Yamaha.385.jpg: [Errno 2] No such file or directory: 'E:\\\\UIT\\\\HK4\\\\CS114_MachineLearning\\\\Code\\\\Motor\\\\Data\\\\Yamaha\\\\22520968-22520996-22520999-22520929-22521373.Yamaha.385.jpg'\n",
            "Error loading image ./Data\\Yamaha/22520968-22520996-22520999-22520929-22521373.Yamaha.463.jpg: [Errno 2] No such file or directory: 'E:\\\\UIT\\\\HK4\\\\CS114_MachineLearning\\\\Code\\\\Motor\\\\Data\\\\Yamaha\\\\22520968-22520996-22520999-22520929-22521373.Yamaha.463.jpg'\n",
            "Error loading image ./Data\\Yamaha/22520968-22520996-22520999-22520929-22521373.Yamaha.116.jpg: [Errno 2] No such file or directory: 'E:\\\\UIT\\\\HK4\\\\CS114_MachineLearning\\\\Code\\\\Motor\\\\Data\\\\Yamaha\\\\22520968-22520996-22520999-22520929-22521373.Yamaha.116.jpg'\n",
            "Error loading image ./Data\\Yamaha/22520968-22520996-22520999-22520929-22521373.Yamaha.117.jpg: [Errno 2] No such file or directory: 'E:\\\\UIT\\\\HK4\\\\CS114_MachineLearning\\\\Code\\\\Motor\\\\Data\\\\Yamaha\\\\22520968-22520996-22520999-22520929-22521373.Yamaha.117.jpg'\n",
            "Error loading image ./Data\\Yamaha/22520968-22520996-22520999-22520929-22521373.Yamaha.118.jpg: [Errno 2] No such file or directory: 'E:\\\\UIT\\\\HK4\\\\CS114_MachineLearning\\\\Code\\\\Motor\\\\Data\\\\Yamaha\\\\22520968-22520996-22520999-22520929-22521373.Yamaha.118.jpg'\n",
            "Error loading image ./Data\\Yamaha/22520968-22520996-22520999-22520929-22521373.Yamaha.122.jpg: [Errno 2] No such file or directory: 'E:\\\\UIT\\\\HK4\\\\CS114_MachineLearning\\\\Code\\\\Motor\\\\Data\\\\Yamaha\\\\22520968-22520996-22520999-22520929-22521373.Yamaha.122.jpg'\n",
            "Error loading image ./Data\\Yamaha/22520968-22520996-22520999-22520929-22521373.Yamaha.126.jpg: [Errno 2] No such file or directory: 'E:\\\\UIT\\\\HK4\\\\CS114_MachineLearning\\\\Code\\\\Motor\\\\Data\\\\Yamaha\\\\22520968-22520996-22520999-22520929-22521373.Yamaha.126.jpg'\n",
            "Error loading image ./Data\\Yamaha/22520968-22520996-22520999-22520929-22521373.Yamaha.128.jpg: [Errno 2] No such file or directory: 'E:\\\\UIT\\\\HK4\\\\CS114_MachineLearning\\\\Code\\\\Motor\\\\Data\\\\Yamaha\\\\22520968-22520996-22520999-22520929-22521373.Yamaha.128.jpg'\n",
            "Error loading image ./Data\\Yamaha/22520968-22520996-22520999-22520929-22521373.Yamaha.174.jpg: [Errno 2] No such file or directory: 'E:\\\\UIT\\\\HK4\\\\CS114_MachineLearning\\\\Code\\\\Motor\\\\Data\\\\Yamaha\\\\22520968-22520996-22520999-22520929-22521373.Yamaha.174.jpg'\n",
            "Error loading image ./Data\\Yamaha/22520968-22520996-22520999-22520929-22521373.Yamaha.188.jpg: [Errno 2] No such file or directory: 'E:\\\\UIT\\\\HK4\\\\CS114_MachineLearning\\\\Code\\\\Motor\\\\Data\\\\Yamaha\\\\22520968-22520996-22520999-22520929-22521373.Yamaha.188.jpg'\n",
            "Error loading image ./Data\\Yamaha/22520968-22520996-22520999-22520929-22521373.Yamaha.199.jpg: [Errno 2] No such file or directory: 'E:\\\\UIT\\\\HK4\\\\CS114_MachineLearning\\\\Code\\\\Motor\\\\Data\\\\Yamaha\\\\22520968-22520996-22520999-22520929-22521373.Yamaha.199.jpg'\n",
            "Error loading image ./Data\\Yamaha/22520968-22520996-22520999-22520929-22521373.Yamaha.200.jpg: [Errno 2] No such file or directory: 'E:\\\\UIT\\\\HK4\\\\CS114_MachineLearning\\\\Code\\\\Motor\\\\Data\\\\Yamaha\\\\22520968-22520996-22520999-22520929-22521373.Yamaha.200.jpg'\n",
            "Error loading image ./Data\\Yamaha/22520968-22520996-22520999-22520929-22521373.Yamaha.215.jpg: [Errno 2] No such file or directory: 'E:\\\\UIT\\\\HK4\\\\CS114_MachineLearning\\\\Code\\\\Motor\\\\Data\\\\Yamaha\\\\22520968-22520996-22520999-22520929-22521373.Yamaha.215.jpg'\n",
            "Error loading image ./Data\\Yamaha/22520968-22520996-22520999-22520929-22521373.Yamaha.235.jpg: [Errno 2] No such file or directory: 'E:\\\\UIT\\\\HK4\\\\CS114_MachineLearning\\\\Code\\\\Motor\\\\Data\\\\Yamaha\\\\22520968-22520996-22520999-22520929-22521373.Yamaha.235.jpg'\n",
            "Error loading image ./Data\\Yamaha/22520968-22520996-22520999-22520929-22521373.Yamaha.240.jpg: [Errno 2] No such file or directory: 'E:\\\\UIT\\\\HK4\\\\CS114_MachineLearning\\\\Code\\\\Motor\\\\Data\\\\Yamaha\\\\22520968-22520996-22520999-22520929-22521373.Yamaha.240.jpg'\n",
            "Error loading image ./Data\\Yamaha/22520968-22520996-22520999-22520929-22521373.Yamaha.250.jpg: [Errno 2] No such file or directory: 'E:\\\\UIT\\\\HK4\\\\CS114_MachineLearning\\\\Code\\\\Motor\\\\Data\\\\Yamaha\\\\22520968-22520996-22520999-22520929-22521373.Yamaha.250.jpg'\n",
            "Error loading image ./Data\\Others/22520968-22520996-22520999-22520929-22521373.Others.333.jpg: [Errno 2] No such file or directory: 'E:\\\\UIT\\\\HK4\\\\CS114_MachineLearning\\\\Code\\\\Motor\\\\Data\\\\Others\\\\22520968-22520996-22520999-22520929-22521373.Others.333.jpg'\n",
            "Error loading image ./Data\\Others/22520968-22520996-22520999-22520929-22521373.Others.336.jpg: [Errno 2] No such file or directory: 'E:\\\\UIT\\\\HK4\\\\CS114_MachineLearning\\\\Code\\\\Motor\\\\Data\\\\Others\\\\22520968-22520996-22520999-22520929-22521373.Others.336.jpg'\n",
            "Error loading image ./Data\\Others/22520968-22520996-22520999-22520929-22521373.Others.339.jpg: [Errno 2] No such file or directory: 'E:\\\\UIT\\\\HK4\\\\CS114_MachineLearning\\\\Code\\\\Motor\\\\Data\\\\Others\\\\22520968-22520996-22520999-22520929-22521373.Others.339.jpg'\n",
            "Error loading image ./Data\\Others/22520968-22520996-22520999-22520929-22521373.Others.340.jpg: [Errno 2] No such file or directory: 'E:\\\\UIT\\\\HK4\\\\CS114_MachineLearning\\\\Code\\\\Motor\\\\Data\\\\Others\\\\22520968-22520996-22520999-22520929-22521373.Others.340.jpg'\n",
            "Error loading image ./Data\\Others/22520968-22520996-22520999-22520929-22521373.Others.341.jpg: [Errno 2] No such file or directory: 'E:\\\\UIT\\\\HK4\\\\CS114_MachineLearning\\\\Code\\\\Motor\\\\Data\\\\Others\\\\22520968-22520996-22520999-22520929-22521373.Others.341.jpg'\n",
            "Error loading image ./Data\\Others/22520968-22520996-22520999-22520929-22521373.Others.348.jpg: [Errno 2] No such file or directory: 'E:\\\\UIT\\\\HK4\\\\CS114_MachineLearning\\\\Code\\\\Motor\\\\Data\\\\Others\\\\22520968-22520996-22520999-22520929-22521373.Others.348.jpg'\n",
            "Error loading image ./Data\\Others/22520968-22520996-22520999-22520929-22521373.Others.350.jpg: [Errno 2] No such file or directory: 'E:\\\\UIT\\\\HK4\\\\CS114_MachineLearning\\\\Code\\\\Motor\\\\Data\\\\Others\\\\22520968-22520996-22520999-22520929-22521373.Others.350.jpg'\n",
            "Error loading image ./Data\\Others/22520968-22520996-22520999-22520929-22521373.Others.353.jpg: [Errno 2] No such file or directory: 'E:\\\\UIT\\\\HK4\\\\CS114_MachineLearning\\\\Code\\\\Motor\\\\Data\\\\Others\\\\22520968-22520996-22520999-22520929-22521373.Others.353.jpg'\n",
            "Error loading image ./Data\\Others/22520968-22520996-22520999-22520929-22521373.Others.359.jpg: [Errno 2] No such file or directory: 'E:\\\\UIT\\\\HK4\\\\CS114_MachineLearning\\\\Code\\\\Motor\\\\Data\\\\Others\\\\22520968-22520996-22520999-22520929-22521373.Others.359.jpg'\n",
            "Error loading image ./Data\\Others/22520968-22520996-22520999-22520929-22521373.Others.361.jpg: [Errno 2] No such file or directory: 'E:\\\\UIT\\\\HK4\\\\CS114_MachineLearning\\\\Code\\\\Motor\\\\Data\\\\Others\\\\22520968-22520996-22520999-22520929-22521373.Others.361.jpg'\n",
            "Error loading image ./Data\\Others/22520968-22520996-22520999-22520929-22521373.Others.366.jpg: [Errno 2] No such file or directory: 'E:\\\\UIT\\\\HK4\\\\CS114_MachineLearning\\\\Code\\\\Motor\\\\Data\\\\Others\\\\22520968-22520996-22520999-22520929-22521373.Others.366.jpg'\n",
            "Error loading image ./Data\\Others/22520968-22520996-22520999-22520929-22521373.Others.372.jpg: [Errno 2] No such file or directory: 'E:\\\\UIT\\\\HK4\\\\CS114_MachineLearning\\\\Code\\\\Motor\\\\Data\\\\Others\\\\22520968-22520996-22520999-22520929-22521373.Others.372.jpg'\n",
            "Error loading image ./Data\\Others/22520968-22520996-22520999-22520929-22521373.Others.375.jpg: [Errno 2] No such file or directory: 'E:\\\\UIT\\\\HK4\\\\CS114_MachineLearning\\\\Code\\\\Motor\\\\Data\\\\Others\\\\22520968-22520996-22520999-22520929-22521373.Others.375.jpg'\n",
            "Error loading image ./Data\\Others/22520968-22520996-22520999-22520929-22521373.Others.376.jpg: [Errno 2] No such file or directory: 'E:\\\\UIT\\\\HK4\\\\CS114_MachineLearning\\\\Code\\\\Motor\\\\Data\\\\Others\\\\22520968-22520996-22520999-22520929-22521373.Others.376.jpg'\n",
            "Error loading image ./Data\\Others/22520968-22520996-22520999-22520929-22521373.Others.382.jpg: [Errno 2] No such file or directory: 'E:\\\\UIT\\\\HK4\\\\CS114_MachineLearning\\\\Code\\\\Motor\\\\Data\\\\Others\\\\22520968-22520996-22520999-22520929-22521373.Others.382.jpg'\n",
            "Error loading image ./Data\\Others/22520968-22520996-22520999-22520929-22521373.Others.384.jpg: [Errno 2] No such file or directory: 'E:\\\\UIT\\\\HK4\\\\CS114_MachineLearning\\\\Code\\\\Motor\\\\Data\\\\Others\\\\22520968-22520996-22520999-22520929-22521373.Others.384.jpg'\n",
            "Error loading image ./Data\\Others/22520968-22520996-22520999-22520929-22521373.Others.389.jpg: [Errno 2] No such file or directory: 'E:\\\\UIT\\\\HK4\\\\CS114_MachineLearning\\\\Code\\\\Motor\\\\Data\\\\Others\\\\22520968-22520996-22520999-22520929-22521373.Others.389.jpg'\n",
            "Error loading image ./Data\\Others/22520968-22520996-22520999-22520929-22521373.Others.464.jpg: [Errno 2] No such file or directory: 'E:\\\\UIT\\\\HK4\\\\CS114_MachineLearning\\\\Code\\\\Motor\\\\Data\\\\Others\\\\22520968-22520996-22520999-22520929-22521373.Others.464.jpg'\n",
            "Error loading image ./Data\\Others/22520968-22520996-22520999-22520929-22521373.Others.510.jpg: [Errno 2] No such file or directory: 'E:\\\\UIT\\\\HK4\\\\CS114_MachineLearning\\\\Code\\\\Motor\\\\Data\\\\Others\\\\22520968-22520996-22520999-22520929-22521373.Others.510.jpg'\n",
            "Error loading image ./Data\\Others/22520968-22520996-22520999-22520929-22521373.Others.567.jpg: cannot identify image file 'E:\\\\UIT\\\\HK4\\\\CS114_MachineLearning\\\\Code\\\\Motor\\\\Data\\\\Others\\\\22520968-22520996-22520999-22520929-22521373.Others.567.jpg'\n",
            "Error loading image ./Data\\Others/22520968-22520996-22520999-22520929-22521373.Others.571.jpg: [Errno 2] No such file or directory: 'E:\\\\UIT\\\\HK4\\\\CS114_MachineLearning\\\\Code\\\\Motor\\\\Data\\\\Others\\\\22520968-22520996-22520999-22520929-22521373.Others.571.jpg'\n",
            "Error loading image ./Data\\Others/22520968-22520996-22520999-22520929-22521373.Others.573.jpg: [Errno 2] No such file or directory: 'E:\\\\UIT\\\\HK4\\\\CS114_MachineLearning\\\\Code\\\\Motor\\\\Data\\\\Others\\\\22520968-22520996-22520999-22520929-22521373.Others.573.jpg'\n",
            "Error loading image ./Data\\Others/22520968-22520996-22520999-22520929-22521373.Others.582.jpg: [Errno 2] No such file or directory: 'E:\\\\UIT\\\\HK4\\\\CS114_MachineLearning\\\\Code\\\\Motor\\\\Data\\\\Others\\\\22520968-22520996-22520999-22520929-22521373.Others.582.jpg'\n",
            "Error loading image ./Data\\Others/22520968-22520996-22520999-22520929-22521373.Others.102.jpg: [Errno 2] No such file or directory: 'E:\\\\UIT\\\\HK4\\\\CS114_MachineLearning\\\\Code\\\\Motor\\\\Data\\\\Others\\\\22520968-22520996-22520999-22520929-22521373.Others.102.jpg'\n",
            "Error loading image ./Data\\Others/22520968-22520996-22520999-22520929-22521373.Others.159.jpg: [Errno 2] No such file or directory: 'E:\\\\UIT\\\\HK4\\\\CS114_MachineLearning\\\\Code\\\\Motor\\\\Data\\\\Others\\\\22520968-22520996-22520999-22520929-22521373.Others.159.jpg'\n",
            "Error loading image ./Data\\Others/22520968-22520996-22520999-22520929-22521373.Others.202.jpg: [Errno 2] No such file or directory: 'E:\\\\UIT\\\\HK4\\\\CS114_MachineLearning\\\\Code\\\\Motor\\\\Data\\\\Others\\\\22520968-22520996-22520999-22520929-22521373.Others.202.jpg'\n",
            "Error loading image ./Data\\Others/22520968-22520996-22520999-22520929-22521373.Others.287.jpg: [Errno 2] No such file or directory: 'E:\\\\UIT\\\\HK4\\\\CS114_MachineLearning\\\\Code\\\\Motor\\\\Data\\\\Others\\\\22520968-22520996-22520999-22520929-22521373.Others.287.jpg'\n",
            "Error loading image ./Data\\Others/22520968-22520996-22520999-22520929-22521373.Others.2.png: [Errno 2] No such file or directory: 'E:\\\\UIT\\\\HK4\\\\CS114_MachineLearning\\\\Code\\\\Motor\\\\Data\\\\Others\\\\22520968-22520996-22520999-22520929-22521373.Others.2.png'\n",
            "Error loading image ./Data\\Others/22520968-22520996-22520999-22520929-22521373.Others.3.png: [Errno 2] No such file or directory: 'E:\\\\UIT\\\\HK4\\\\CS114_MachineLearning\\\\Code\\\\Motor\\\\Data\\\\Others\\\\22520968-22520996-22520999-22520929-22521373.Others.3.png'\n",
            "Error loading image ./Data\\Others/22520968-22520996-22520999-22520929-22521373.Others.5.png: [Errno 2] No such file or directory: 'E:\\\\UIT\\\\HK4\\\\CS114_MachineLearning\\\\Code\\\\Motor\\\\Data\\\\Others\\\\22520968-22520996-22520999-22520929-22521373.Others.5.png'\n",
            "Error loading image ./Data\\Others/22520968-22520996-22520999-22520929-22521373.Others.6.png: [Errno 2] No such file or directory: 'E:\\\\UIT\\\\HK4\\\\CS114_MachineLearning\\\\Code\\\\Motor\\\\Data\\\\Others\\\\22520968-22520996-22520999-22520929-22521373.Others.6.png'\n",
            "Error loading image ./Data\\Others/22520968-22520996-22520999-22520929-22521373.Others.23.png: [Errno 2] No such file or directory: 'E:\\\\UIT\\\\HK4\\\\CS114_MachineLearning\\\\Code\\\\Motor\\\\Data\\\\Others\\\\22520968-22520996-22520999-22520929-22521373.Others.23.png'\n",
            "Error loading image ./Data\\Others/22520968-22520996-22520999-22520929-22521373.Others.31.png: [Errno 2] No such file or directory: 'E:\\\\UIT\\\\HK4\\\\CS114_MachineLearning\\\\Code\\\\Motor\\\\Data\\\\Others\\\\22520968-22520996-22520999-22520929-22521373.Others.31.png'\n"
          ]
        },
        {
          "data": {
            "text/html": [
              "<div>\n",
              "<style scoped>\n",
              "    .dataframe tbody tr th:only-of-type {\n",
              "        vertical-align: middle;\n",
              "    }\n",
              "\n",
              "    .dataframe tbody tr th {\n",
              "        vertical-align: top;\n",
              "    }\n",
              "\n",
              "    .dataframe thead th {\n",
              "        text-align: right;\n",
              "    }\n",
              "</style>\n",
              "<table border=\"1\" class=\"dataframe\">\n",
              "  <thead>\n",
              "    <tr style=\"text-align: right;\">\n",
              "      <th></th>\n",
              "      <th>index</th>\n",
              "      <th>path</th>\n",
              "      <th>label</th>\n",
              "    </tr>\n",
              "  </thead>\n",
              "  <tbody>\n",
              "    <tr>\n",
              "      <th>0</th>\n",
              "      <td>0</td>\n",
              "      <td>Honda/22520968-22520996-22520999-22520929-2252...</td>\n",
              "      <td>1</td>\n",
              "    </tr>\n",
              "    <tr>\n",
              "      <th>1</th>\n",
              "      <td>1</td>\n",
              "      <td>Honda/22520968-22520996-22520999-22520929-2252...</td>\n",
              "      <td>1</td>\n",
              "    </tr>\n",
              "    <tr>\n",
              "      <th>2</th>\n",
              "      <td>2</td>\n",
              "      <td>Honda/22520968-22520996-22520999-22520929-2252...</td>\n",
              "      <td>1</td>\n",
              "    </tr>\n",
              "    <tr>\n",
              "      <th>3</th>\n",
              "      <td>3</td>\n",
              "      <td>Honda/22520968-22520996-22520999-22520929-2252...</td>\n",
              "      <td>1</td>\n",
              "    </tr>\n",
              "    <tr>\n",
              "      <th>4</th>\n",
              "      <td>4</td>\n",
              "      <td>Honda/22520968-22520996-22520999-22520929-2252...</td>\n",
              "      <td>1</td>\n",
              "    </tr>\n",
              "    <tr>\n",
              "      <th>...</th>\n",
              "      <td>...</td>\n",
              "      <td>...</td>\n",
              "      <td>...</td>\n",
              "    </tr>\n",
              "    <tr>\n",
              "      <th>27689</th>\n",
              "      <td>28037</td>\n",
              "      <td>Others/22520033-22520035-22520083-22520148-225...</td>\n",
              "      <td>0</td>\n",
              "    </tr>\n",
              "    <tr>\n",
              "      <th>27690</th>\n",
              "      <td>28038</td>\n",
              "      <td>Others/22520033-22520035-22520083-22520148-225...</td>\n",
              "      <td>0</td>\n",
              "    </tr>\n",
              "    <tr>\n",
              "      <th>27691</th>\n",
              "      <td>28039</td>\n",
              "      <td>Others/22520033-22520035-22520083-22520148-225...</td>\n",
              "      <td>0</td>\n",
              "    </tr>\n",
              "    <tr>\n",
              "      <th>27692</th>\n",
              "      <td>28040</td>\n",
              "      <td>Others/22520033-22520035-22520083-22520148-225...</td>\n",
              "      <td>0</td>\n",
              "    </tr>\n",
              "    <tr>\n",
              "      <th>27693</th>\n",
              "      <td>28041</td>\n",
              "      <td>Others/22520033-22520035-22520083-22520148-225...</td>\n",
              "      <td>0</td>\n",
              "    </tr>\n",
              "  </tbody>\n",
              "</table>\n",
              "<p>27694 rows × 3 columns</p>\n",
              "</div>"
            ],
            "text/plain": [
              "       index                                               path label\n",
              "0          0  Honda/22520968-22520996-22520999-22520929-2252...     1\n",
              "1          1  Honda/22520968-22520996-22520999-22520929-2252...     1\n",
              "2          2  Honda/22520968-22520996-22520999-22520929-2252...     1\n",
              "3          3  Honda/22520968-22520996-22520999-22520929-2252...     1\n",
              "4          4  Honda/22520968-22520996-22520999-22520929-2252...     1\n",
              "...      ...                                                ...   ...\n",
              "27689  28037  Others/22520033-22520035-22520083-22520148-225...     0\n",
              "27690  28038  Others/22520033-22520035-22520083-22520148-225...     0\n",
              "27691  28039  Others/22520033-22520035-22520083-22520148-225...     0\n",
              "27692  28040  Others/22520033-22520035-22520083-22520148-225...     0\n",
              "27693  28041  Others/22520033-22520035-22520083-22520148-225...     0\n",
              "\n",
              "[27694 rows x 3 columns]"
            ]
          },
          "execution_count": 98,
          "metadata": {},
          "output_type": "execute_result"
        }
      ],
      "source": [
        "train_paths = pd.read_csv(train_image_path_csv, header = None, names = [\"path\", \"label\"])\n",
        "train_paths[\"label\"] = train_paths[\"label\"].astype(str)\n",
        "\n",
        "invalid_paths = findInvalidPath(szWorkingDir, train_paths[\"path\"].values)\n",
        "train_paths = train_paths[~train_paths[\"path\"].isin(invalid_paths)]\n",
        "train_paths.reset_index()"
      ]
    },
    {
      "cell_type": "code",
      "execution_count": 99,
      "metadata": {},
      "outputs": [],
      "source": [
        "train_paths.to_csv(os.path.join(szFileNameDir, \"MotocycleDataset-Splits-{}-Train-New.csv\".format(curSplit)), index = False, header = None)"
      ]
    },
    {
      "cell_type": "code",
      "execution_count": 100,
      "metadata": {
        "colab": {
          "base_uri": "https://localhost:8080/"
        },
        "execution": {
          "iopub.execute_input": "2024-06-27T03:59:37.689712Z",
          "iopub.status.busy": "2024-06-27T03:59:37.689337Z",
          "iopub.status.idle": "2024-06-27T03:59:50.497650Z",
          "shell.execute_reply": "2024-06-27T03:59:50.496499Z",
          "shell.execute_reply.started": "2024-06-27T03:59:37.689680Z"
        },
        "id": "Sk0QBvSV43lP",
        "outputId": "de64dfe5-d5c1-4af1-ef73-b224dc48c83b",
        "trusted": true
      },
      "outputs": [
        {
          "name": "stdout",
          "output_type": "stream",
          "text": [
            "Found 27694 validated image filenames belonging to 5 classes.\n"
          ]
        }
      ],
      "source": [
        "data_generator = ImageDataGenerator(\n",
        "    rescale=1/255,\n",
        ")\n",
        "\n",
        "directory_config = {\n",
        "    'dataframe': train_paths,\n",
        "    'directory': szWorkingDir,\n",
        "    'x_col': 'path',\n",
        "    'y_col': 'label',\n",
        "    'target_size': (height, width),\n",
        "    'batch_size': batch_size,\n",
        "    'class_mode': 'sparse',\n",
        "    'shuffle': True,\n",
        "    'seed': seed,\n",
        "    'color_mode': 'rgb',\n",
        "}\n",
        "\n",
        "train_generator = data_generator.flow_from_dataframe(**directory_config, subset='training')\n"
      ]
    },
    {
      "cell_type": "code",
      "execution_count": 101,
      "metadata": {
        "colab": {
          "base_uri": "https://localhost:8080/"
        },
        "execution": {
          "iopub.execute_input": "2024-06-27T03:59:50.499539Z",
          "iopub.status.busy": "2024-06-27T03:59:50.499072Z",
          "iopub.status.idle": "2024-06-27T03:59:50.506901Z",
          "shell.execute_reply": "2024-06-27T03:59:50.505808Z",
          "shell.execute_reply.started": "2024-06-27T03:59:50.499496Z"
        },
        "id": "ZhIisJgn43lQ",
        "outputId": "a25711ab-2223-4dd1-d69c-0b4a3ef8c8fc",
        "trusted": true
      },
      "outputs": [
        {
          "data": {
            "text/plain": [
              "<keras.src.legacy.preprocessing.image.DataFrameIterator at 0x23b6d5004a0>"
            ]
          },
          "execution_count": 101,
          "metadata": {},
          "output_type": "execute_result"
        }
      ],
      "source": [
        "train_generator"
      ]
    },
    {
      "cell_type": "markdown",
      "metadata": {
        "id": "dXJzetbaLCvl"
      },
      "source": [
        "## Bước 3 - Feature Extraction"
      ]
    },
    {
      "cell_type": "markdown",
      "metadata": {
        "id": "XpkcGum1-0Pa"
      },
      "source": [
        "Load MobileNetV2 model pre-trained on ImageNet không bao gồm lớp đầu ra"
      ]
    },
    {
      "cell_type": "code",
      "execution_count": 102,
      "metadata": {
        "execution": {
          "iopub.execute_input": "2024-06-27T03:59:51.054495Z",
          "iopub.status.busy": "2024-06-27T03:59:51.053676Z",
          "iopub.status.idle": "2024-06-27T03:59:51.840806Z",
          "shell.execute_reply": "2024-06-27T03:59:51.839671Z",
          "shell.execute_reply.started": "2024-06-27T03:59:51.054454Z"
        },
        "id": "UiPWa2e6-xhp",
        "trusted": true
      },
      "outputs": [],
      "source": [
        "base_model = MobileNetV2(weights='imagenet', include_top=False, pooling = 'avg', input_shape=(height, width, 3))\n",
        "base_model.trainable = False"
      ]
    },
    {
      "cell_type": "markdown",
      "metadata": {
        "id": "vi0TnWn7_tX7"
      },
      "source": [
        "Rút trích đặc trưng"
      ]
    },
    {
      "cell_type": "code",
      "execution_count": 103,
      "metadata": {
        "id": "ttJS5Pmo_3VQ"
      },
      "outputs": [],
      "source": [
        "def featuresFromMobileNetV2(generator, model):\n",
        "  ImageFile.LOAD_TRUNCATED_IMAGES = True\n",
        "  features = []\n",
        "  labels = []\n",
        "  num_samples = len(generator)\n",
        "\n",
        "  for _ in range(num_samples):\n",
        "      input_batch, label_batch = next(generator)\n",
        "      features_batch = model.predict(input_batch)\n",
        "      features.append(features_batch)\n",
        "      labels.append(label_batch)\n",
        "\n",
        "  return np.concatenate(features), np.concatenate(labels)"
      ]
    },
    {
      "cell_type": "code",
      "execution_count": 104,
      "metadata": {
        "colab": {
          "base_uri": "https://localhost:8080/"
        },
        "execution": {
          "iopub.execute_input": "2024-06-27T03:59:51.843443Z",
          "iopub.status.busy": "2024-06-27T03:59:51.842509Z",
          "iopub.status.idle": "2024-06-27T03:59:52.005067Z",
          "shell.execute_reply": "2024-06-27T03:59:52.003483Z",
          "shell.execute_reply.started": "2024-06-27T03:59:51.843397Z"
        },
        "id": "qEX0_b5b_Irn",
        "outputId": "f266bf3c-33cb-47d5-9781-81363c15f0b6",
        "trusted": true
      },
      "outputs": [],
      "source": [
        "# # Trích xuất đặc trưng từ các ảnh\n",
        "# train_features, train_labels = featuresFromMobileNetV2(train_generator, base_model)"
      ]
    },
    {
      "cell_type": "markdown",
      "metadata": {},
      "source": [
        "Label dang ở dạng OneHot vector nên ta cần làm phẳng mảng để đưa vào mô hình"
      ]
    },
    {
      "cell_type": "code",
      "execution_count": 105,
      "metadata": {},
      "outputs": [],
      "source": [
        "# train_labels = np.argmax(train_labels, axis=1)"
      ]
    },
    {
      "cell_type": "markdown",
      "metadata": {},
      "source": [
        "Ghi vào csv cho trường hợp đổi model thì không phải rút trích đặc trưng lại"
      ]
    },
    {
      "cell_type": "code",
      "execution_count": 106,
      "metadata": {},
      "outputs": [],
      "source": [
        "# np.save(os.path.join(szFileNameDir, \"MotocycleDataset-Splits-{}-Train-Features.npy\".format(curSplit)), train_features)\n",
        "# np.save(os.path.join(szFileNameDir, \"MotocycleDataset-Splits-{}-Train-Labels.npy\".format(curSplit)), train_labels)"
      ]
    },
    {
      "cell_type": "markdown",
      "metadata": {
        "id": "6Z9X7VQ9KqnY"
      },
      "source": [
        "## Bước 4 - Model Configuration\n",
        "\n",
        "- Có thể chọn Logistic Regression"
      ]
    },
    {
      "cell_type": "code",
      "execution_count": 107,
      "metadata": {
        "execution": {
          "iopub.status.busy": "2024-06-27T03:59:52.008154Z",
          "iopub.status.idle": "2024-06-27T03:59:52.008582Z",
          "shell.execute_reply": "2024-06-27T03:59:52.008399Z",
          "shell.execute_reply.started": "2024-06-27T03:59:52.008380Z"
        },
        "id": "dvNfQBBY_91I",
        "trusted": true
      },
      "outputs": [],
      "source": [
        "# logistic = LogisticRegression(max_iter=1000, multi_class='auto', solver='lbfgs')"
      ]
    },
    {
      "cell_type": "markdown",
      "metadata": {
        "id": "CRi9M_l5LI_1"
      },
      "source": [
        "## Bước 5 - Model Training\n",
        "\n",
        "- Nên có visualize model accuracy, model loss để xem các hyperparameters có cần điều chỉnh không"
      ]
    },
    {
      "cell_type": "code",
      "execution_count": 108,
      "metadata": {
        "execution": {
          "iopub.status.busy": "2024-06-27T03:59:52.010194Z",
          "iopub.status.idle": "2024-06-27T03:59:52.010778Z",
          "shell.execute_reply": "2024-06-27T03:59:52.010495Z",
          "shell.execute_reply.started": "2024-06-27T03:59:52.010473Z"
        },
        "id": "Jpfm06PaAAep",
        "trusted": true
      },
      "outputs": [],
      "source": [
        "# logistic.fit(train_features, train_labels)"
      ]
    },
    {
      "cell_type": "markdown",
      "metadata": {
        "id": "XxiCll31Ls4G"
      },
      "source": [
        "## Bước 6 - Model Evaluation\n",
        "\n",
        "- Dùng model (kết quả của bước Model Training) để predict CategoryID của các ảnh trong tập dữ liệu Test, sau đó tính Accuracy và Confusion Matrix"
      ]
    },
    {
      "cell_type": "code",
      "execution_count": 109,
      "metadata": {
        "execution": {
          "iopub.status.busy": "2024-06-27T03:59:52.014007Z",
          "iopub.status.idle": "2024-06-27T03:59:52.014566Z",
          "shell.execute_reply": "2024-06-27T03:59:52.014310Z",
          "shell.execute_reply.started": "2024-06-27T03:59:52.014261Z"
        },
        "id": "jBiwUHU3ARZW",
        "trusted": true
      },
      "outputs": [
        {
          "name": "stdout",
          "output_type": "stream",
          "text": [
            "Error loading image ./Data\\Honda/22520968-22520996-22520999-22520929-22521373.Honda.1027.jpg: [Errno 2] No such file or directory: 'E:\\\\UIT\\\\HK4\\\\CS114_MachineLearning\\\\Code\\\\Motor\\\\Data\\\\Honda\\\\22520968-22520996-22520999-22520929-22521373.Honda.1027.jpg'\n",
            "Error loading image ./Data\\Honda/22520968-22520996-22520999-22520929-22521373.Honda.1098.jpg: [Errno 2] No such file or directory: 'E:\\\\UIT\\\\HK4\\\\CS114_MachineLearning\\\\Code\\\\Motor\\\\Data\\\\Honda\\\\22520968-22520996-22520999-22520929-22521373.Honda.1098.jpg'\n",
            "Error loading image ./Data\\Honda/22520968-22520996-22520999-22520929-22521373.Honda.1116.jpg: [Errno 2] No such file or directory: 'E:\\\\UIT\\\\HK4\\\\CS114_MachineLearning\\\\Code\\\\Motor\\\\Data\\\\Honda\\\\22520968-22520996-22520999-22520929-22521373.Honda.1116.jpg'\n",
            "Error loading image ./Data\\Honda/22520968-22520996-22520999-22520929-22521373.Honda.1166.jpg: [Errno 2] No such file or directory: 'E:\\\\UIT\\\\HK4\\\\CS114_MachineLearning\\\\Code\\\\Motor\\\\Data\\\\Honda\\\\22520968-22520996-22520999-22520929-22521373.Honda.1166.jpg'\n",
            "Error loading image ./Data\\Honda/22520968-22520996-22520999-22520929-22521373.Honda.1187.jpg: [Errno 2] No such file or directory: 'E:\\\\UIT\\\\HK4\\\\CS114_MachineLearning\\\\Code\\\\Motor\\\\Data\\\\Honda\\\\22520968-22520996-22520999-22520929-22521373.Honda.1187.jpg'\n",
            "Error loading image ./Data\\Honda/22520968-22520996-22520999-22520929-22521373.Honda.1209.jpg: [Errno 2] No such file or directory: 'E:\\\\UIT\\\\HK4\\\\CS114_MachineLearning\\\\Code\\\\Motor\\\\Data\\\\Honda\\\\22520968-22520996-22520999-22520929-22521373.Honda.1209.jpg'\n",
            "Error loading image ./Data\\Honda/22520968-22520996-22520999-22520929-22521373.Honda.1224.jpg: [Errno 2] No such file or directory: 'E:\\\\UIT\\\\HK4\\\\CS114_MachineLearning\\\\Code\\\\Motor\\\\Data\\\\Honda\\\\22520968-22520996-22520999-22520929-22521373.Honda.1224.jpg'\n",
            "Error loading image ./Data\\Honda/22520968-22520996-22520999-22520929-22521373.Honda.1237.jpg: [Errno 2] No such file or directory: 'E:\\\\UIT\\\\HK4\\\\CS114_MachineLearning\\\\Code\\\\Motor\\\\Data\\\\Honda\\\\22520968-22520996-22520999-22520929-22521373.Honda.1237.jpg'\n",
            "Error loading image ./Data\\Honda/22520968-22520996-22520999-22520929-22521373.Honda.1243.jpg: [Errno 2] No such file or directory: 'E:\\\\UIT\\\\HK4\\\\CS114_MachineLearning\\\\Code\\\\Motor\\\\Data\\\\Honda\\\\22520968-22520996-22520999-22520929-22521373.Honda.1243.jpg'\n",
            "Error loading image ./Data\\Honda/22520968-22520996-22520999-22520929-22521373.Honda.1245.png: [Errno 2] No such file or directory: 'E:\\\\UIT\\\\HK4\\\\CS114_MachineLearning\\\\Code\\\\Motor\\\\Data\\\\Honda\\\\22520968-22520996-22520999-22520929-22521373.Honda.1245.png'\n",
            "Error loading image ./Data\\Honda/22520968-22520996-22520999-22520929-22521373.Honda.1352.jpg: [Errno 2] No such file or directory: 'E:\\\\UIT\\\\HK4\\\\CS114_MachineLearning\\\\Code\\\\Motor\\\\Data\\\\Honda\\\\22520968-22520996-22520999-22520929-22521373.Honda.1352.jpg'\n",
            "Error loading image ./Data\\Honda/22520968-22520996-22520999-22520929-22521373.Honda.1393.jpg: [Errno 2] No such file or directory: 'E:\\\\UIT\\\\HK4\\\\CS114_MachineLearning\\\\Code\\\\Motor\\\\Data\\\\Honda\\\\22520968-22520996-22520999-22520929-22521373.Honda.1393.jpg'\n",
            "Error loading image ./Data\\Honda/22520968-22520996-22520999-22520929-22521373.Honda.1 (1).jpg: [Errno 2] No such file or directory: 'E:\\\\UIT\\\\HK4\\\\CS114_MachineLearning\\\\Code\\\\Motor\\\\Data\\\\Honda\\\\22520968-22520996-22520999-22520929-22521373.Honda.1 (1).jpg'\n",
            "Error loading image ./Data\\Honda/22520968-22520996-22520999-22520929-22521373.Honda.15 (1).jpg: [Errno 2] No such file or directory: 'E:\\\\UIT\\\\HK4\\\\CS114_MachineLearning\\\\Code\\\\Motor\\\\Data\\\\Honda\\\\22520968-22520996-22520999-22520929-22521373.Honda.15 (1).jpg'\n",
            "Error loading image ./Data\\Honda/22520968-22520996-22520999-22520929-22521373.Honda.17.jpeg: [Errno 2] No such file or directory: 'E:\\\\UIT\\\\HK4\\\\CS114_MachineLearning\\\\Code\\\\Motor\\\\Data\\\\Honda\\\\22520968-22520996-22520999-22520929-22521373.Honda.17.jpeg'\n",
            "Error loading image ./Data\\Honda/22520968-22520996-22520999-22520929-22521373.Honda.19 (1).jpg: [Errno 2] No such file or directory: 'E:\\\\UIT\\\\HK4\\\\CS114_MachineLearning\\\\Code\\\\Motor\\\\Data\\\\Honda\\\\22520968-22520996-22520999-22520929-22521373.Honda.19 (1).jpg'\n",
            "Error loading image ./Data\\Honda/22520968-22520996-22520999-22520929-22521373.Honda.21.jpeg: [Errno 2] No such file or directory: 'E:\\\\UIT\\\\HK4\\\\CS114_MachineLearning\\\\Code\\\\Motor\\\\Data\\\\Honda\\\\22520968-22520996-22520999-22520929-22521373.Honda.21.jpeg'\n",
            "Error loading image ./Data\\Honda/22520968-22520996-22520999-22520929-22521373.Honda.30.jpeg: [Errno 2] No such file or directory: 'E:\\\\UIT\\\\HK4\\\\CS114_MachineLearning\\\\Code\\\\Motor\\\\Data\\\\Honda\\\\22520968-22520996-22520999-22520929-22521373.Honda.30.jpeg'\n",
            "Error loading image ./Data\\Honda/22520968-22520996-22520999-22520929-22521373.Honda.37.jpeg: [Errno 2] No such file or directory: 'E:\\\\UIT\\\\HK4\\\\CS114_MachineLearning\\\\Code\\\\Motor\\\\Data\\\\Honda\\\\22520968-22520996-22520999-22520929-22521373.Honda.37.jpeg'\n",
            "Error loading image ./Data\\Honda/22520968-22520996-22520999-22520929-22521373.Honda.42.jpeg: [Errno 2] No such file or directory: 'E:\\\\UIT\\\\HK4\\\\CS114_MachineLearning\\\\Code\\\\Motor\\\\Data\\\\Honda\\\\22520968-22520996-22520999-22520929-22521373.Honda.42.jpeg'\n",
            "Error loading image ./Data\\Honda/22520968-22520996-22520999-22520929-22521373.Honda.43.jpeg: [Errno 2] No such file or directory: 'E:\\\\UIT\\\\HK4\\\\CS114_MachineLearning\\\\Code\\\\Motor\\\\Data\\\\Honda\\\\22520968-22520996-22520999-22520929-22521373.Honda.43.jpeg'\n",
            "Error loading image ./Data\\Honda/22520968-22520996-22520999-22520929-22521373.Honda.47.jpeg: [Errno 2] No such file or directory: 'E:\\\\UIT\\\\HK4\\\\CS114_MachineLearning\\\\Code\\\\Motor\\\\Data\\\\Honda\\\\22520968-22520996-22520999-22520929-22521373.Honda.47.jpeg'\n",
            "Error loading image ./Data\\Honda/22520968-22520996-22520999-22520929-22521373.Honda.56 (1).jpg: [Errno 2] No such file or directory: 'E:\\\\UIT\\\\HK4\\\\CS114_MachineLearning\\\\Code\\\\Motor\\\\Data\\\\Honda\\\\22520968-22520996-22520999-22520929-22521373.Honda.56 (1).jpg'\n",
            "Error loading image ./Data\\Honda/22520968-22520996-22520999-22520929-22521373.Honda.57 (1).jpg: [Errno 2] No such file or directory: 'E:\\\\UIT\\\\HK4\\\\CS114_MachineLearning\\\\Code\\\\Motor\\\\Data\\\\Honda\\\\22520968-22520996-22520999-22520929-22521373.Honda.57 (1).jpg'\n",
            "Error loading image ./Data\\Honda/22520968-22520996-22520999-22520929-22521373.Honda.58 (1).jpg: [Errno 2] No such file or directory: 'E:\\\\UIT\\\\HK4\\\\CS114_MachineLearning\\\\Code\\\\Motor\\\\Data\\\\Honda\\\\22520968-22520996-22520999-22520929-22521373.Honda.58 (1).jpg'\n",
            "Error loading image ./Data\\Honda/22520968-22520996-22520999-22520929-22521373.Honda.67 (1).jpg: [Errno 2] No such file or directory: 'E:\\\\UIT\\\\HK4\\\\CS114_MachineLearning\\\\Code\\\\Motor\\\\Data\\\\Honda\\\\22520968-22520996-22520999-22520929-22521373.Honda.67 (1).jpg'\n",
            "Error loading image ./Data\\Honda/22520968-22520996-22520999-22520929-22521373.Honda.96.png: [Errno 2] No such file or directory: 'E:\\\\UIT\\\\HK4\\\\CS114_MachineLearning\\\\Code\\\\Motor\\\\Data\\\\Honda\\\\22520968-22520996-22520999-22520929-22521373.Honda.96.png'\n",
            "Error loading image ./Data\\Honda/22520968-22520996-22520999-22520929-22521373.Honda.101.png: [Errno 2] No such file or directory: 'E:\\\\UIT\\\\HK4\\\\CS114_MachineLearning\\\\Code\\\\Motor\\\\Data\\\\Honda\\\\22520968-22520996-22520999-22520929-22521373.Honda.101.png'\n",
            "Error loading image ./Data\\Honda/22520968-22520996-22520999-22520929-22521373.Honda.103 (1).jpg: [Errno 2] No such file or directory: 'E:\\\\UIT\\\\HK4\\\\CS114_MachineLearning\\\\Code\\\\Motor\\\\Data\\\\Honda\\\\22520968-22520996-22520999-22520929-22521373.Honda.103 (1).jpg'\n",
            "Error loading image ./Data\\Honda/22520968-22520996-22520999-22520929-22521373.Honda.107.png: [Errno 2] No such file or directory: 'E:\\\\UIT\\\\HK4\\\\CS114_MachineLearning\\\\Code\\\\Motor\\\\Data\\\\Honda\\\\22520968-22520996-22520999-22520929-22521373.Honda.107.png'\n",
            "Error loading image ./Data\\Honda/22520968-22520996-22520999-22520929-22521373.Honda.118.png: [Errno 2] No such file or directory: 'E:\\\\UIT\\\\HK4\\\\CS114_MachineLearning\\\\Code\\\\Motor\\\\Data\\\\Honda\\\\22520968-22520996-22520999-22520929-22521373.Honda.118.png'\n",
            "Error loading image ./Data\\Honda/22520968-22520996-22520999-22520929-22521373.Honda.124 (1).jpg: [Errno 2] No such file or directory: 'E:\\\\UIT\\\\HK4\\\\CS114_MachineLearning\\\\Code\\\\Motor\\\\Data\\\\Honda\\\\22520968-22520996-22520999-22520929-22521373.Honda.124 (1).jpg'\n",
            "Error loading image ./Data\\Honda/22520968-22520996-22520999-22520929-22521373.Honda.167.png: [Errno 2] No such file or directory: 'E:\\\\UIT\\\\HK4\\\\CS114_MachineLearning\\\\Code\\\\Motor\\\\Data\\\\Honda\\\\22520968-22520996-22520999-22520929-22521373.Honda.167.png'\n",
            "Error loading image ./Data\\Honda/22520968-22520996-22520999-22520929-22521373.Honda.171.png: [Errno 2] No such file or directory: 'E:\\\\UIT\\\\HK4\\\\CS114_MachineLearning\\\\Code\\\\Motor\\\\Data\\\\Honda\\\\22520968-22520996-22520999-22520929-22521373.Honda.171.png'\n",
            "Error loading image ./Data\\Honda/22520968-22520996-22520999-22520929-22521373.Honda.172 (1).jpg: [Errno 2] No such file or directory: 'E:\\\\UIT\\\\HK4\\\\CS114_MachineLearning\\\\Code\\\\Motor\\\\Data\\\\Honda\\\\22520968-22520996-22520999-22520929-22521373.Honda.172 (1).jpg'\n",
            "Error loading image ./Data\\Honda/22520968-22520996-22520999-22520929-22521373.Honda.175.png: [Errno 2] No such file or directory: 'E:\\\\UIT\\\\HK4\\\\CS114_MachineLearning\\\\Code\\\\Motor\\\\Data\\\\Honda\\\\22520968-22520996-22520999-22520929-22521373.Honda.175.png'\n",
            "Error loading image ./Data\\Honda/22520968-22520996-22520999-22520929-22521373.Honda.179 (1).jpg: [Errno 2] No such file or directory: 'E:\\\\UIT\\\\HK4\\\\CS114_MachineLearning\\\\Code\\\\Motor\\\\Data\\\\Honda\\\\22520968-22520996-22520999-22520929-22521373.Honda.179 (1).jpg'\n",
            "Error loading image ./Data\\Honda/22520641.Honda.481 (1).jpeg: [Errno 2] No such file or directory: 'E:\\\\UIT\\\\HK4\\\\CS114_MachineLearning\\\\Code\\\\Motor\\\\Data\\\\Honda\\\\22520641.Honda.481 (1).jpeg'\n",
            "Error loading image ./Data\\Suzuki/22520968-22520996-22520999-22520929-22521373.Suzuki.500.jpg: [Errno 2] No such file or directory: 'E:\\\\UIT\\\\HK4\\\\CS114_MachineLearning\\\\Code\\\\Motor\\\\Data\\\\Suzuki\\\\22520968-22520996-22520999-22520929-22521373.Suzuki.500.jpg'\n",
            "Error loading image ./Data\\Suzuki/22520968-22520996-22520999-22520929-22521373.Suzuki.508.jpg: [Errno 2] No such file or directory: 'E:\\\\UIT\\\\HK4\\\\CS114_MachineLearning\\\\Code\\\\Motor\\\\Data\\\\Suzuki\\\\22520968-22520996-22520999-22520929-22521373.Suzuki.508.jpg'\n",
            "Error loading image ./Data\\Suzuki/22520968-22520996-22520999-22520929-22521373.Suzuki.509.jpg: [Errno 2] No such file or directory: 'E:\\\\UIT\\\\HK4\\\\CS114_MachineLearning\\\\Code\\\\Motor\\\\Data\\\\Suzuki\\\\22520968-22520996-22520999-22520929-22521373.Suzuki.509.jpg'\n",
            "Error loading image ./Data\\Suzuki/22520968-22520996-22520999-22520929-22521373.Suzuki.511.jpg: [Errno 2] No such file or directory: 'E:\\\\UIT\\\\HK4\\\\CS114_MachineLearning\\\\Code\\\\Motor\\\\Data\\\\Suzuki\\\\22520968-22520996-22520999-22520929-22521373.Suzuki.511.jpg'\n",
            "Error loading image ./Data\\Suzuki/22520968-22520996-22520999-22520929-22521373.Suzuki.177.jpg: [Errno 2] No such file or directory: 'E:\\\\UIT\\\\HK4\\\\CS114_MachineLearning\\\\Code\\\\Motor\\\\Data\\\\Suzuki\\\\22520968-22520996-22520999-22520929-22521373.Suzuki.177.jpg'\n",
            "Error loading image ./Data\\Suzuki/22520968-22520996-22520999-22520929-22521373.Suzuki.178.jpg: [Errno 2] No such file or directory: 'E:\\\\UIT\\\\HK4\\\\CS114_MachineLearning\\\\Code\\\\Motor\\\\Data\\\\Suzuki\\\\22520968-22520996-22520999-22520929-22521373.Suzuki.178.jpg'\n",
            "Error loading image ./Data\\Suzuki/22520968-22520996-22520999-22520929-22521373.Suzuki.179.jpg: [Errno 2] No such file or directory: 'E:\\\\UIT\\\\HK4\\\\CS114_MachineLearning\\\\Code\\\\Motor\\\\Data\\\\Suzuki\\\\22520968-22520996-22520999-22520929-22521373.Suzuki.179.jpg'\n",
            "Error loading image ./Data\\Suzuki/22520968-22520996-22520999-22520929-22521373.Suzuki.194.jpg: [Errno 2] No such file or directory: 'E:\\\\UIT\\\\HK4\\\\CS114_MachineLearning\\\\Code\\\\Motor\\\\Data\\\\Suzuki\\\\22520968-22520996-22520999-22520929-22521373.Suzuki.194.jpg'\n",
            "Error loading image ./Data\\Suzuki/22520968-22520996-22520999-22520929-22521373.Suzuki.208.jpg: [Errno 2] No such file or directory: 'E:\\\\UIT\\\\HK4\\\\CS114_MachineLearning\\\\Code\\\\Motor\\\\Data\\\\Suzuki\\\\22520968-22520996-22520999-22520929-22521373.Suzuki.208.jpg'\n",
            "Error loading image ./Data\\Suzuki/22520968-22520996-22520999-22520929-22521373.Suzuki.2 (1).jpg: [Errno 2] No such file or directory: 'E:\\\\UIT\\\\HK4\\\\CS114_MachineLearning\\\\Code\\\\Motor\\\\Data\\\\Suzuki\\\\22520968-22520996-22520999-22520929-22521373.Suzuki.2 (1).jpg'\n",
            "Error loading image ./Data\\Suzuki/22520968-22520996-22520999-22520929-22521373.Suzuki.18.jpeg: [Errno 2] No such file or directory: 'E:\\\\UIT\\\\HK4\\\\CS114_MachineLearning\\\\Code\\\\Motor\\\\Data\\\\Suzuki\\\\22520968-22520996-22520999-22520929-22521373.Suzuki.18.jpeg'\n",
            "Error loading image ./Data\\Suzuki/22520968-22520996-22520999-22520929-22521373.Suzuki.20.png: [Errno 2] No such file or directory: 'E:\\\\UIT\\\\HK4\\\\CS114_MachineLearning\\\\Code\\\\Motor\\\\Data\\\\Suzuki\\\\22520968-22520996-22520999-22520929-22521373.Suzuki.20.png'\n",
            "Error loading image ./Data\\Suzuki/22520968-22520996-22520999-22520929-22521373.Suzuki.25.jpeg: [Errno 2] No such file or directory: 'E:\\\\UIT\\\\HK4\\\\CS114_MachineLearning\\\\Code\\\\Motor\\\\Data\\\\Suzuki\\\\22520968-22520996-22520999-22520929-22521373.Suzuki.25.jpeg'\n",
            "Error loading image ./Data\\Suzuki/22520968-22520996-22520999-22520929-22521373.Suzuki.47.png: [Errno 2] No such file or directory: 'E:\\\\UIT\\\\HK4\\\\CS114_MachineLearning\\\\Code\\\\Motor\\\\Data\\\\Suzuki\\\\22520968-22520996-22520999-22520929-22521373.Suzuki.47.png'\n",
            "Error loading image ./Data\\Suzuki/22520968-22520996-22520999-22520929-22521373.Suzuki.49.png: [Errno 2] No such file or directory: 'E:\\\\UIT\\\\HK4\\\\CS114_MachineLearning\\\\Code\\\\Motor\\\\Data\\\\Suzuki\\\\22520968-22520996-22520999-22520929-22521373.Suzuki.49.png'\n",
            "Error loading image ./Data\\Suzuki/22520968-22520996-22520999-22520929-22521373.Suzuki.56.jpg: [Errno 2] No such file or directory: 'E:\\\\UIT\\\\HK4\\\\CS114_MachineLearning\\\\Code\\\\Motor\\\\Data\\\\Suzuki\\\\22520968-22520996-22520999-22520929-22521373.Suzuki.56.jpg'\n",
            "Error loading image ./Data\\Suzuki/22520968-22520996-22520999-22520929-22521373.Suzuki.81.jpeg: [Errno 2] No such file or directory: 'E:\\\\UIT\\\\HK4\\\\CS114_MachineLearning\\\\Code\\\\Motor\\\\Data\\\\Suzuki\\\\22520968-22520996-22520999-22520929-22521373.Suzuki.81.jpeg'\n",
            "Error loading image ./Data\\Suzuki/22520968-22520996-22520999-22520929-22521373.Suzuki.85.jpeg: [Errno 2] No such file or directory: 'E:\\\\UIT\\\\HK4\\\\CS114_MachineLearning\\\\Code\\\\Motor\\\\Data\\\\Suzuki\\\\22520968-22520996-22520999-22520929-22521373.Suzuki.85.jpeg'\n",
            "Error loading image ./Data\\Suzuki/22520968-22520996-22520999-22520929-22521373.Suzuki.87.jpeg: [Errno 2] No such file or directory: 'E:\\\\UIT\\\\HK4\\\\CS114_MachineLearning\\\\Code\\\\Motor\\\\Data\\\\Suzuki\\\\22520968-22520996-22520999-22520929-22521373.Suzuki.87.jpeg'\n",
            "Error loading image ./Data\\Suzuki/22520968-22520996-22520999-22520929-22521373.Suzuki.94.jpeg: [Errno 2] No such file or directory: 'E:\\\\UIT\\\\HK4\\\\CS114_MachineLearning\\\\Code\\\\Motor\\\\Data\\\\Suzuki\\\\22520968-22520996-22520999-22520929-22521373.Suzuki.94.jpeg'\n",
            "Error loading image ./Data\\VinFast/22520968-22520996-22520999-22520929-22521373.VinFast.59.jpg: [Errno 2] No such file or directory: 'E:\\\\UIT\\\\HK4\\\\CS114_MachineLearning\\\\Code\\\\Motor\\\\Data\\\\VinFast\\\\22520968-22520996-22520999-22520929-22521373.VinFast.59.jpg'\n",
            "Error loading image ./Data\\VinFast/22520968-22520996-22520999-22520929-22521373.VinFast.181.jpg: [Errno 2] No such file or directory: 'E:\\\\UIT\\\\HK4\\\\CS114_MachineLearning\\\\Code\\\\Motor\\\\Data\\\\VinFast\\\\22520968-22520996-22520999-22520929-22521373.VinFast.181.jpg'\n",
            "Error loading image ./Data\\VinFast/22520968-22520996-22520999-22520929-22521373.VinFast.277.jpg: cannot identify image file 'E:\\\\UIT\\\\HK4\\\\CS114_MachineLearning\\\\Code\\\\Motor\\\\Data\\\\VinFast\\\\22520968-22520996-22520999-22520929-22521373.VinFast.277.jpg'\n",
            "Error loading image ./Data\\VinFast/22520968-22520996-22520999-22520929-22521373.VinFast.323.jpg: cannot identify image file 'E:\\\\UIT\\\\HK4\\\\CS114_MachineLearning\\\\Code\\\\Motor\\\\Data\\\\VinFast\\\\22520968-22520996-22520999-22520929-22521373.VinFast.323.jpg'\n",
            "Error loading image ./Data\\VinFast/22520968-22520996-22520999-22520929-22521373.VinFast.325.jpg: [Errno 2] No such file or directory: 'E:\\\\UIT\\\\HK4\\\\CS114_MachineLearning\\\\Code\\\\Motor\\\\Data\\\\VinFast\\\\22520968-22520996-22520999-22520929-22521373.VinFast.325.jpg'\n",
            "Error loading image ./Data\\VinFast/22520968-22520996-22520999-22520929-22521373.VinFast.408.jpg: [Errno 2] No such file or directory: 'E:\\\\UIT\\\\HK4\\\\CS114_MachineLearning\\\\Code\\\\Motor\\\\Data\\\\VinFast\\\\22520968-22520996-22520999-22520929-22521373.VinFast.408.jpg'\n",
            "Error loading image ./Data\\VinFast/22520968-22520996-22520999-22520929-22521373.VinFast.16.png: [Errno 2] No such file or directory: 'E:\\\\UIT\\\\HK4\\\\CS114_MachineLearning\\\\Code\\\\Motor\\\\Data\\\\VinFast\\\\22520968-22520996-22520999-22520929-22521373.VinFast.16.png'\n",
            "Error loading image ./Data\\VinFast/22520968-22520996-22520999-22520929-22521373.VinFast.19.png: [Errno 2] No such file or directory: 'E:\\\\UIT\\\\HK4\\\\CS114_MachineLearning\\\\Code\\\\Motor\\\\Data\\\\VinFast\\\\22520968-22520996-22520999-22520929-22521373.VinFast.19.png'\n",
            "Error loading image ./Data\\VinFast/22520968-22520996-22520999-22520929-22521373.VinFast.22.png: [Errno 2] No such file or directory: 'E:\\\\UIT\\\\HK4\\\\CS114_MachineLearning\\\\Code\\\\Motor\\\\Data\\\\VinFast\\\\22520968-22520996-22520999-22520929-22521373.VinFast.22.png'\n",
            "Error loading image ./Data\\VinFast/22520968-22520996-22520999-22520929-22521373.VinFast.23.png: [Errno 2] No such file or directory: 'E:\\\\UIT\\\\HK4\\\\CS114_MachineLearning\\\\Code\\\\Motor\\\\Data\\\\VinFast\\\\22520968-22520996-22520999-22520929-22521373.VinFast.23.png'\n",
            "Error loading image ./Data\\VinFast/22520968-22520996-22520999-22520929-22521373.VinFast.38.jpeg: [Errno 2] No such file or directory: 'E:\\\\UIT\\\\HK4\\\\CS114_MachineLearning\\\\Code\\\\Motor\\\\Data\\\\VinFast\\\\22520968-22520996-22520999-22520929-22521373.VinFast.38.jpeg'\n",
            "Error loading image ./Data\\VinFast/22520968-22520996-22520999-22520929-22521373.VinFast.42.jpeg: [Errno 2] No such file or directory: 'E:\\\\UIT\\\\HK4\\\\CS114_MachineLearning\\\\Code\\\\Motor\\\\Data\\\\VinFast\\\\22520968-22520996-22520999-22520929-22521373.VinFast.42.jpeg'\n",
            "Error loading image ./Data\\Yamaha/22520968-22520996-22520999-22520929-22521373.Yamaha.91.jpg: [Errno 2] No such file or directory: 'E:\\\\UIT\\\\HK4\\\\CS114_MachineLearning\\\\Code\\\\Motor\\\\Data\\\\Yamaha\\\\22520968-22520996-22520999-22520929-22521373.Yamaha.91.jpg'\n",
            "Error loading image ./Data\\Yamaha/22520968-22520996-22520999-22520929-22521373.Yamaha.111.jpg: [Errno 2] No such file or directory: 'E:\\\\UIT\\\\HK4\\\\CS114_MachineLearning\\\\Code\\\\Motor\\\\Data\\\\Yamaha\\\\22520968-22520996-22520999-22520929-22521373.Yamaha.111.jpg'\n",
            "Error loading image ./Data\\Yamaha/22520968-22520996-22520999-22520929-22521373.Yamaha.146.jpg: [Errno 2] No such file or directory: 'E:\\\\UIT\\\\HK4\\\\CS114_MachineLearning\\\\Code\\\\Motor\\\\Data\\\\Yamaha\\\\22520968-22520996-22520999-22520929-22521373.Yamaha.146.jpg'\n",
            "Error loading image ./Data\\Yamaha/22520968-22520996-22520999-22520929-22521373.Yamaha.165.jpg: [Errno 2] No such file or directory: 'E:\\\\UIT\\\\HK4\\\\CS114_MachineLearning\\\\Code\\\\Motor\\\\Data\\\\Yamaha\\\\22520968-22520996-22520999-22520929-22521373.Yamaha.165.jpg'\n",
            "Error loading image ./Data\\Others/22520968-22520996-22520999-22520929-22521373.Others.345.jpg: [Errno 2] No such file or directory: 'E:\\\\UIT\\\\HK4\\\\CS114_MachineLearning\\\\Code\\\\Motor\\\\Data\\\\Others\\\\22520968-22520996-22520999-22520929-22521373.Others.345.jpg'\n",
            "Error loading image ./Data\\Others/22520968-22520996-22520999-22520929-22521373.Others.367.jpg: [Errno 2] No such file or directory: 'E:\\\\UIT\\\\HK4\\\\CS114_MachineLearning\\\\Code\\\\Motor\\\\Data\\\\Others\\\\22520968-22520996-22520999-22520929-22521373.Others.367.jpg'\n",
            "Error loading image ./Data\\Others/22520968-22520996-22520999-22520929-22521373.Others.427.jpg: [Errno 2] No such file or directory: 'E:\\\\UIT\\\\HK4\\\\CS114_MachineLearning\\\\Code\\\\Motor\\\\Data\\\\Others\\\\22520968-22520996-22520999-22520929-22521373.Others.427.jpg'\n",
            "Error loading image ./Data\\Others/22520968-22520996-22520999-22520929-22521373.Others.560.jpg: [Errno 2] No such file or directory: 'E:\\\\UIT\\\\HK4\\\\CS114_MachineLearning\\\\Code\\\\Motor\\\\Data\\\\Others\\\\22520968-22520996-22520999-22520929-22521373.Others.560.jpg'\n",
            "Error loading image ./Data\\Others/22520968-22520996-22520999-22520929-22521373.Others.568.jpg: cannot identify image file 'E:\\\\UIT\\\\HK4\\\\CS114_MachineLearning\\\\Code\\\\Motor\\\\Data\\\\Others\\\\22520968-22520996-22520999-22520929-22521373.Others.568.jpg'\n",
            "Error loading image ./Data\\Others/22520968-22520996-22520999-22520929-22521373.Others.50.jpg: [Errno 2] No such file or directory: 'E:\\\\UIT\\\\HK4\\\\CS114_MachineLearning\\\\Code\\\\Motor\\\\Data\\\\Others\\\\22520968-22520996-22520999-22520929-22521373.Others.50.jpg'\n",
            "Error loading image ./Data\\Others/22520968-22520996-22520999-22520929-22521373.Others.211.jpg: [Errno 2] No such file or directory: 'E:\\\\UIT\\\\HK4\\\\CS114_MachineLearning\\\\Code\\\\Motor\\\\Data\\\\Others\\\\22520968-22520996-22520999-22520929-22521373.Others.211.jpg'\n",
            "Error loading image ./Data\\Others/22520968-22520996-22520999-22520929-22521373.Others.292.jpg: [Errno 2] No such file or directory: 'E:\\\\UIT\\\\HK4\\\\CS114_MachineLearning\\\\Code\\\\Motor\\\\Data\\\\Others\\\\22520968-22520996-22520999-22520929-22521373.Others.292.jpg'\n"
          ]
        }
      ],
      "source": [
        "test_paths = pd.read_csv(test_image_path_csv, header = None, names = [\"path\", \"label\"])\n",
        "test_paths[\"label\"] = test_paths[\"label\"].astype(str)\n",
        "invalid_test_paths = findInvalidPath(szWorkingDir, test_paths[\"path\"].values)\n",
        "test_paths = test_paths[~test_paths[\"path\"].isin(invalid_test_paths)]"
      ]
    },
    {
      "cell_type": "code",
      "execution_count": 110,
      "metadata": {},
      "outputs": [
        {
          "name": "stdout",
          "output_type": "stream",
          "text": [
            "Found 6929 validated image filenames belonging to 5 classes.\n"
          ]
        }
      ],
      "source": [
        "\n",
        "test_config = {\n",
        "    'dataframe': test_paths,\n",
        "    'directory': szWorkingDir,\n",
        "    'x_col': 'path',\n",
        "    'y_col': 'label',\n",
        "    'target_size': (height, width),\n",
        "    'batch_size': batch_size,\n",
        "    'class_mode': 'sparse',\n",
        "    'seed': seed,\n",
        "    'shuffle': False,\n",
        "    'color_mode': 'rgb',\n",
        "}\n",
        "test_generator = data_generator.flow_from_dataframe(**test_config)"
      ]
    },
    {
      "cell_type": "code",
      "execution_count": 111,
      "metadata": {
        "id": "BET6Y_aZGF3d",
        "trusted": true
      },
      "outputs": [],
      "source": [
        "# test_features, test_labels = featuresFromMobileNetV2(test_generator, base_model)\n",
        "# test_labels = np.argmax(test_labels, axis=1)\n",
        "\n",
        "# np.save(os.path.join(szFileNameDir, \"MotocycleDataset-Splits-{}-Test-Features.npy\".format(curSplit)), test_features)\n",
        "# np.save(os.path.join(szFileNameDir, \"MotocycleDataset-Splits-{}-Test-Labels.npy\".format(curSplit)), test_labels)"
      ]
    },
    {
      "cell_type": "code",
      "execution_count": 112,
      "metadata": {
        "id": "6nk0EEWqAcCt"
      },
      "outputs": [],
      "source": [
        "# predictions = logistic.predict(test_features)\n",
        "# predictions"
      ]
    },
    {
      "cell_type": "code",
      "execution_count": 113,
      "metadata": {},
      "outputs": [],
      "source": [
        "# print(classification_report(test_labels, predictions))"
      ]
    },
    {
      "cell_type": "code",
      "execution_count": 114,
      "metadata": {},
      "outputs": [],
      "source": [
        "# from sklearn.metrics import accuracy_score\n",
        "# acc = accuracy_score(test_labels, predictions)\n",
        "# acc"
      ]
    },
    {
      "cell_type": "markdown",
      "metadata": {
        "id": "Flo7sri2MCuv"
      },
      "source": [
        "## Bước 7 - Submission\n",
        "\n",
        "- Ghi kết quả ra tập tin CS114.O21-O21.KHCL.ScoreBoard.csv theo chế độ Append: https://drive.google.com/file/d/1qjGycdcIqsoag_yaVqY8UAUNmpFUkVFe/view?usp=sharing\n",
        "- Quy ước:\n",
        "  - Date: ví dụ 2024-06-11 10:32:19 (dùng hàm formatted_date = now.strftime(\"%Y-%m-%d %H:%M:%S\"))\n",
        "  - GroupID: các MSSV của thành viên trong nhóm cách nhau bằng dấu gạch ngang -, ví dụ 21522446-21522243\n",
        "  - SplitID: giá trị từ 1 đến 5\n",
        "  - Accuracy: giá trị theo quy ước dấu . phân cách phần thập phân, ví dụ 90.2345 - lấy đến 4 số thập phân\n",
        "  - Desc: mô tả phương pháp, ví dụ Random. Mỗi nhóm có thể có rất nhiều trials, do đó cần phải mô tả tóm tắt về các trial để còn nhận diện\n",
        "  \n"
      ]
    },
    {
      "cell_type": "code",
      "execution_count": 115,
      "metadata": {},
      "outputs": [],
      "source": [
        "from datetime import datetime\n",
        "now = datetime.now()\n",
        "Date = now.strftime(\"%Y-%m-%d %H:%M:%S\")\n",
        "GroupID = \"22521705-22520777-22520202-22521304-22521716\"\n",
        "SplitID = \"1\"\n",
        "Accuracy = \"0.5255\"\n",
        "Desc = \"MobileNetV2 + Generators + Logistic Regression\"\n",
        "result = [Date, GroupID, SplitID, Accuracy, Desc]"
      ]
    },
    {
      "cell_type": "code",
      "execution_count": 116,
      "metadata": {},
      "outputs": [],
      "source": [
        "# import csv\n",
        "# # with open(\"/content/drive/MyDrive/Public/CS114.O21-O21.KHCL.ScoreBoard.csv\", mode='a', newline='') as file:\n",
        "# with open('result.csv', 'w', newline='') as file:\n",
        "#     writer = csv.writer(file)\n",
        "#     writer.writerow(result)"
      ]
    },
    {
      "cell_type": "code",
      "execution_count": 117,
      "metadata": {},
      "outputs": [
        {
          "name": "stdout",
          "output_type": "stream",
          "text": [
            "Epoch 1/10\n"
          ]
        },
        {
          "name": "stderr",
          "output_type": "stream",
          "text": [
            "c:\\Users\\yenvy\\Python\\Lib\\site-packages\\keras\\src\\trainers\\data_adapters\\py_dataset_adapter.py:121: UserWarning: Your `PyDataset` class should call `super().__init__(**kwargs)` in its constructor. `**kwargs` can include `workers`, `use_multiprocessing`, `max_queue_size`. Do not pass these arguments to `fit()`, as they will be ignored.\n",
            "  self._warn_if_super_not_called()\n",
            "c:\\Users\\yenvy\\Python\\Lib\\site-packages\\PIL\\Image.py:1000: UserWarning: Palette images with Transparency expressed in bytes should be converted to RGBA images\n",
            "  warnings.warn(\n"
          ]
        },
        {
          "name": "stdout",
          "output_type": "stream",
          "text": [
            "\u001b[1m433/433\u001b[0m \u001b[32m━━━━━━━━━━━━━━━━━━━━\u001b[0m\u001b[37m\u001b[0m \u001b[1m928s\u001b[0m 2s/step - accuracy: 0.4074 - loss: 1.3694 - val_accuracy: 0.5419 - val_loss: 1.1192\n",
            "Epoch 2/10\n",
            "\u001b[1m433/433\u001b[0m \u001b[32m━━━━━━━━━━━━━━━━━━━━\u001b[0m\u001b[37m\u001b[0m \u001b[1m880s\u001b[0m 2s/step - accuracy: 0.5728 - loss: 1.0611 - val_accuracy: 0.5743 - val_loss: 1.0592\n",
            "Epoch 3/10\n",
            "\u001b[1m433/433\u001b[0m \u001b[32m━━━━━━━━━━━━━━━━━━━━\u001b[0m\u001b[37m\u001b[0m \u001b[1m919s\u001b[0m 2s/step - accuracy: 0.6225 - loss: 0.9524 - val_accuracy: 0.6095 - val_loss: 0.9922\n",
            "Epoch 4/10\n",
            "\u001b[1m433/433\u001b[0m \u001b[32m━━━━━━━━━━━━━━━━━━━━\u001b[0m\u001b[37m\u001b[0m \u001b[1m914s\u001b[0m 2s/step - accuracy: 0.6528 - loss: 0.8861 - val_accuracy: 0.6118 - val_loss: 0.9892\n",
            "Epoch 5/10\n",
            "\u001b[1m433/433\u001b[0m \u001b[32m━━━━━━━━━━━━━━━━━━━━\u001b[0m\u001b[37m\u001b[0m \u001b[1m4230s\u001b[0m 10s/step - accuracy: 0.6879 - loss: 0.8093 - val_accuracy: 0.6323 - val_loss: 0.9563\n",
            "Epoch 6/10\n",
            "\u001b[1m433/433\u001b[0m \u001b[32m━━━━━━━━━━━━━━━━━━━━\u001b[0m\u001b[37m\u001b[0m \u001b[1m974s\u001b[0m 2s/step - accuracy: 0.7041 - loss: 0.7776 - val_accuracy: 0.6245 - val_loss: 0.9679\n",
            "Epoch 7/10\n",
            "\u001b[1m433/433\u001b[0m \u001b[32m━━━━━━━━━━━━━━━━━━━━\u001b[0m\u001b[37m\u001b[0m \u001b[1m949s\u001b[0m 2s/step - accuracy: 0.7248 - loss: 0.7284 - val_accuracy: 0.6287 - val_loss: 0.9947\n",
            "Epoch 8/10\n",
            "\u001b[1m433/433\u001b[0m \u001b[32m━━━━━━━━━━━━━━━━━━━━\u001b[0m\u001b[37m\u001b[0m \u001b[1m964s\u001b[0m 2s/step - accuracy: 0.7416 - loss: 0.6798 - val_accuracy: 0.6424 - val_loss: 0.9430\n",
            "Epoch 9/10\n",
            "\u001b[1m433/433\u001b[0m \u001b[32m━━━━━━━━━━━━━━━━━━━━\u001b[0m\u001b[37m\u001b[0m \u001b[1m990s\u001b[0m 2s/step - accuracy: 0.7582 - loss: 0.6430 - val_accuracy: 0.6359 - val_loss: 0.9546\n",
            "Epoch 10/10\n",
            "\u001b[1m433/433\u001b[0m \u001b[32m━━━━━━━━━━━━━━━━━━━━\u001b[0m\u001b[37m\u001b[0m \u001b[1m1012s\u001b[0m 2s/step - accuracy: 0.7718 - loss: 0.6084 - val_accuracy: 0.6479 - val_loss: 0.9652\n",
            "\u001b[1m109/109\u001b[0m \u001b[32m━━━━━━━━━━━━━━━━━━━━\u001b[0m\u001b[37m\u001b[0m \u001b[1m228s\u001b[0m 2s/step - accuracy: 0.6404 - loss: 0.9594\n",
            "Test accuracy: 0.6478568315505981\n"
          ]
        }
      ],
      "source": [
        "# Xây dựng mô hình CNN\n",
        "model = Sequential([\n",
        "    base_model,\n",
        "    Flatten(),\n",
        "    Dense(64, activation='relu'),\n",
        "    Dense(5, activation='softmax')  # num_classes là số lượng lớp đầu ra\n",
        "])\n",
        "\n",
        "# Compile mô hình\n",
        "model.compile(optimizer='adam',\n",
        "              loss='sparse_categorical_crossentropy',\n",
        "              metrics=['accuracy'])\n",
        "\n",
        "# Huấn luyện mô hình\n",
        "model.fit(train_generator, epochs=10, batch_size=32, validation_data=test_generator)\n",
        "\n",
        "# Đánh giá mô hình\n",
        "test_loss, test_acc = model.evaluate(test_generator)\n",
        "print('Test accuracy:', test_acc)"
      ]
    },
    {
      "cell_type": "code",
      "execution_count": 134,
      "metadata": {},
      "outputs": [],
      "source": [
        "model.save(\"model.keras\")"
      ]
    },
    {
      "cell_type": "code",
      "execution_count": 135,
      "metadata": {},
      "outputs": [],
      "source": [
        "\n",
        "test_input, test_label = next(test_generator)\n",
        "test_label = test_label.astype(int)"
      ]
    },
    {
      "cell_type": "code",
      "execution_count": 136,
      "metadata": {},
      "outputs": [
        {
          "name": "stdout",
          "output_type": "stream",
          "text": [
            "\u001b[1m2/2\u001b[0m \u001b[32m━━━━━━━━━━━━━━━━━━━━\u001b[0m\u001b[37m\u001b[0m \u001b[1m2s\u001b[0m 616ms/step\n"
          ]
        }
      ],
      "source": [
        "predictions = model.predict(test_input)\n",
        "predictions = np.argmax(predictions, axis=1)"
      ]
    },
    {
      "cell_type": "code",
      "execution_count": 139,
      "metadata": {},
      "outputs": [
        {
          "data": {
            "text/plain": [
              "array([1, 2, 0, 1, 1, 2, 1, 1, 1, 1, 0, 0, 2, 1, 1, 1, 2, 1, 1, 1, 1, 1,\n",
              "       1, 1, 1, 1, 1, 0, 1, 1, 3, 0, 1, 1, 1, 3, 1, 1, 1, 1, 3, 3, 1, 1,\n",
              "       1, 1, 2, 2, 1, 1, 4, 1, 1, 1, 1, 3, 1, 1, 1, 1, 3, 1, 1, 0],\n",
              "      dtype=int64)"
            ]
          },
          "execution_count": 139,
          "metadata": {},
          "output_type": "execute_result"
        }
      ],
      "source": [
        "predictions"
      ]
    },
    {
      "cell_type": "code",
      "execution_count": 142,
      "metadata": {},
      "outputs": [
        {
          "name": "stdout",
          "output_type": "stream",
          "text": [
            "              precision    recall  f1-score   support\n",
            "\n",
            "           0       0.00      0.00      0.00         0\n",
            "           1       1.00      0.70      0.83        64\n",
            "           2       0.00      0.00      0.00         0\n",
            "           3       0.00      0.00      0.00         0\n",
            "           4       0.00      0.00      0.00         0\n",
            "\n",
            "    accuracy                           0.70        64\n",
            "   macro avg       0.20      0.14      0.17        64\n",
            "weighted avg       1.00      0.70      0.83        64\n",
            "\n"
          ]
        },
        {
          "name": "stderr",
          "output_type": "stream",
          "text": [
            "c:\\Users\\yenvy\\Python\\Lib\\site-packages\\sklearn\\metrics\\_classification.py:1517: UndefinedMetricWarning: Recall is ill-defined and being set to 0.0 in labels with no true samples. Use `zero_division` parameter to control this behavior.\n",
            "  _warn_prf(average, modifier, f\"{metric.capitalize()} is\", len(result))\n",
            "c:\\Users\\yenvy\\Python\\Lib\\site-packages\\sklearn\\metrics\\_classification.py:1517: UndefinedMetricWarning: Recall is ill-defined and being set to 0.0 in labels with no true samples. Use `zero_division` parameter to control this behavior.\n",
            "  _warn_prf(average, modifier, f\"{metric.capitalize()} is\", len(result))\n",
            "c:\\Users\\yenvy\\Python\\Lib\\site-packages\\sklearn\\metrics\\_classification.py:1517: UndefinedMetricWarning: Recall is ill-defined and being set to 0.0 in labels with no true samples. Use `zero_division` parameter to control this behavior.\n",
            "  _warn_prf(average, modifier, f\"{metric.capitalize()} is\", len(result))\n"
          ]
        }
      ],
      "source": [
        "print(classification_report(test_label, predictions))"
      ]
    },
    {
      "cell_type": "code",
      "execution_count": 143,
      "metadata": {},
      "outputs": [
        {
          "data": {
            "text/plain": [
              "0.703125"
            ]
          },
          "execution_count": 143,
          "metadata": {},
          "output_type": "execute_result"
        }
      ],
      "source": [
        "accuracy_score(test_label, predictions)"
      ]
    }
  ],
  "metadata": {
    "accelerator": "GPU",
    "colab": {
      "gpuType": "T4",
      "provenance": []
    },
    "kaggle": {
      "accelerator": "none",
      "dataSources": [
        {
          "datasetId": 5284217,
          "sourceId": 8789399,
          "sourceType": "datasetVersion"
        },
        {
          "datasetId": 5285184,
          "sourceId": 8790728,
          "sourceType": "datasetVersion"
        },
        {
          "datasetId": 5286026,
          "sourceId": 8797807,
          "sourceType": "datasetVersion"
        }
      ],
      "dockerImageVersionId": 30732,
      "isGpuEnabled": false,
      "isInternetEnabled": true,
      "language": "python",
      "sourceType": "notebook"
    },
    "kernelspec": {
      "display_name": "Python 3",
      "language": "python",
      "name": "python3"
    },
    "language_info": {
      "codemirror_mode": {
        "name": "ipython",
        "version": 3
      },
      "file_extension": ".py",
      "mimetype": "text/x-python",
      "name": "python",
      "nbconvert_exporter": "python",
      "pygments_lexer": "ipython3",
      "version": "3.12.2"
    }
  },
  "nbformat": 4,
  "nbformat_minor": 0
}
